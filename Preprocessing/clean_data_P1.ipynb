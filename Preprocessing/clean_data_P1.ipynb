{
 "cells": [
  {
   "cell_type": "code",
   "execution_count": 561,
   "metadata": {
    "collapsed": true,
    "ExecuteTime": {
     "end_time": "2024-06-06T18:19:07.057355200Z",
     "start_time": "2024-06-06T18:19:05.779779400Z"
    }
   },
   "outputs": [],
   "source": [
    "import pandas as pd\n",
    "import numpy as np\n",
    "import seaborn as sns\n",
    "import pickle\n",
    "import matplotlib.pyplot as plt\n",
    "from IPython.display import display\n",
    "from sklearn.decomposition import PCA\n",
    "from sklearn.preprocessing import StandardScaler\n",
    "from sklearn.model_selection import train_test_split, GridSearchCV, cross_val_score, StratifiedKFold\n",
    "from sklearn.feature_selection import SelectFromModel, RFE\n",
    "from sklearn.tree import DecisionTreeClassifier\n",
    "from sklearn.ensemble import RandomForestClassifier\n",
    "from sklearn.metrics import classification_report, accuracy_score, confusion_matrix, precision_score, recall_score, f1_score\n",
    "from sklearn.ensemble import GradientBoostingClassifier\n",
    "import xgboost as xgb\n",
    "from sklearn.preprocessing import LabelEncoder\n",
    "# import missingno as msno\n",
    "import copy"
   ]
  },
  {
   "cell_type": "code",
   "execution_count": 562,
   "outputs": [],
   "source": [
    "year_name ='U1398'\n",
    "excel_file_path = f'{year_name}.xlsx'\n",
    "excel_sheets_dict_2 = pd.read_excel(excel_file_path, sheet_name=None)"
   ],
   "metadata": {
    "collapsed": false,
    "ExecuteTime": {
     "end_time": "2024-06-06T18:21:14.657607200Z",
     "start_time": "2024-06-06T18:19:05.795775800Z"
    }
   }
  },
  {
   "cell_type": "code",
   "execution_count": 563,
   "outputs": [],
   "source": [
    "excel_sheets_dict = copy.deepcopy(excel_sheets_dict_2)"
   ],
   "metadata": {
    "collapsed": false,
    "ExecuteTime": {
     "end_time": "2024-06-06T18:21:14.738693600Z",
     "start_time": "2024-06-06T18:21:14.660605300Z"
    }
   }
  },
  {
   "cell_type": "code",
   "execution_count": 564,
   "outputs": [
    {
     "data": {
      "text/plain": "['U1398Data',\n 'U1398P1',\n 'U1398P2',\n 'U1398P3S01',\n 'U1398P3S02',\n 'U1398P3S03',\n 'U1398P3S04',\n 'U1398P3S05',\n 'U1398P3S06',\n 'U1398P3S07',\n 'U1398P3S08',\n 'U1398P3S09',\n 'U1398P3S10',\n 'U1398P3S11',\n 'U1398P3S12',\n 'U1398P3S13',\n 'U1398P3S14',\n 'U1398P4S01',\n 'U1398P4S02',\n 'U1398P4S03',\n 'U1398P4S04']"
     },
     "execution_count": 564,
     "metadata": {},
     "output_type": "execute_result"
    }
   ],
   "source": [
    "dfs = list(excel_sheets_dict.keys())\n",
    "dfs"
   ],
   "metadata": {
    "collapsed": false,
    "ExecuteTime": {
     "end_time": "2024-06-06T18:21:14.738693600Z",
     "start_time": "2024-06-06T18:21:14.705694700Z"
    }
   }
  },
  {
   "cell_type": "code",
   "execution_count": 565,
   "outputs": [],
   "source": [
    "# cols_with_Missing = []\n",
    "# for sheet in dfs:\n",
    "#     if excel_sheets_dict[sheet].isna().sum().any():\n",
    "#         cols_with_Missing.append(sheet)\n",
    "#\n",
    "# cols_with_Missing"
   ],
   "metadata": {
    "collapsed": false,
    "ExecuteTime": {
     "end_time": "2024-06-06T18:21:14.738693600Z",
     "start_time": "2024-06-06T18:21:14.723692700Z"
    }
   }
  },
  {
   "cell_type": "code",
   "execution_count": 566,
   "outputs": [
    {
     "data": {
      "text/plain": "       Address  member relation  gender  age  literacy studying     degree  \\\n0  10004004223       1     Head    Male   66  literate       No    Diploma   \n1  10004004223       2   Spouse  Female   61  literate       No    College   \n2  10004004220       1     Head    Male   36  literate       No  Elemantry   \n3  10004004220       2   Spouse  Female   33  literate       No  Secondary   \n4  10004004220       3    Child  Female   12  literate      Yes  Elemantry   \n\n  occupationalst maritalst  \n0    IncomeWOJob   Married  \n1    IncomeWOJob   Married  \n2       employed   Married  \n3      Housewife   Married  \n4        Student    Single  ",
      "text/html": "<div>\n<style scoped>\n    .dataframe tbody tr th:only-of-type {\n        vertical-align: middle;\n    }\n\n    .dataframe tbody tr th {\n        vertical-align: top;\n    }\n\n    .dataframe thead th {\n        text-align: right;\n    }\n</style>\n<table border=\"1\" class=\"dataframe\">\n  <thead>\n    <tr style=\"text-align: right;\">\n      <th></th>\n      <th>Address</th>\n      <th>member</th>\n      <th>relation</th>\n      <th>gender</th>\n      <th>age</th>\n      <th>literacy</th>\n      <th>studying</th>\n      <th>degree</th>\n      <th>occupationalst</th>\n      <th>maritalst</th>\n    </tr>\n  </thead>\n  <tbody>\n    <tr>\n      <th>0</th>\n      <td>10004004223</td>\n      <td>1</td>\n      <td>Head</td>\n      <td>Male</td>\n      <td>66</td>\n      <td>literate</td>\n      <td>No</td>\n      <td>Diploma</td>\n      <td>IncomeWOJob</td>\n      <td>Married</td>\n    </tr>\n    <tr>\n      <th>1</th>\n      <td>10004004223</td>\n      <td>2</td>\n      <td>Spouse</td>\n      <td>Female</td>\n      <td>61</td>\n      <td>literate</td>\n      <td>No</td>\n      <td>College</td>\n      <td>IncomeWOJob</td>\n      <td>Married</td>\n    </tr>\n    <tr>\n      <th>2</th>\n      <td>10004004220</td>\n      <td>1</td>\n      <td>Head</td>\n      <td>Male</td>\n      <td>36</td>\n      <td>literate</td>\n      <td>No</td>\n      <td>Elemantry</td>\n      <td>employed</td>\n      <td>Married</td>\n    </tr>\n    <tr>\n      <th>3</th>\n      <td>10004004220</td>\n      <td>2</td>\n      <td>Spouse</td>\n      <td>Female</td>\n      <td>33</td>\n      <td>literate</td>\n      <td>No</td>\n      <td>Secondary</td>\n      <td>Housewife</td>\n      <td>Married</td>\n    </tr>\n    <tr>\n      <th>4</th>\n      <td>10004004220</td>\n      <td>3</td>\n      <td>Child</td>\n      <td>Female</td>\n      <td>12</td>\n      <td>literate</td>\n      <td>Yes</td>\n      <td>Elemantry</td>\n      <td>Student</td>\n      <td>Single</td>\n    </tr>\n  </tbody>\n</table>\n</div>"
     },
     "execution_count": 566,
     "metadata": {},
     "output_type": "execute_result"
    }
   ],
   "source": [
    "R1401P1 = excel_sheets_dict[f'{year_name}P1']\n",
    "R1401P1.head()"
   ],
   "metadata": {
    "collapsed": false,
    "ExecuteTime": {
     "end_time": "2024-06-06T18:21:14.757663500Z",
     "start_time": "2024-06-06T18:21:14.737692800Z"
    }
   }
  },
  {
   "cell_type": "code",
   "execution_count": 567,
   "outputs": [
    {
     "data": {
      "text/plain": "                Sum_of_MN  Mean_of_MN\nAddress                 0    0.000000\nmember                  0    0.000000\nrelation                0    0.000000\ngender                  0    0.000000\nage                     0    0.000000\nliteracy             6099    8.936918\nstudying            13344   19.553081\ndegree              13345   19.554546\noccupationalst      10472   15.344714\nmaritalst           10472   15.344714",
      "text/html": "<div>\n<style scoped>\n    .dataframe tbody tr th:only-of-type {\n        vertical-align: middle;\n    }\n\n    .dataframe tbody tr th {\n        vertical-align: top;\n    }\n\n    .dataframe thead th {\n        text-align: right;\n    }\n</style>\n<table border=\"1\" class=\"dataframe\">\n  <thead>\n    <tr style=\"text-align: right;\">\n      <th></th>\n      <th>Sum_of_MN</th>\n      <th>Mean_of_MN</th>\n    </tr>\n  </thead>\n  <tbody>\n    <tr>\n      <th>Address</th>\n      <td>0</td>\n      <td>0.000000</td>\n    </tr>\n    <tr>\n      <th>member</th>\n      <td>0</td>\n      <td>0.000000</td>\n    </tr>\n    <tr>\n      <th>relation</th>\n      <td>0</td>\n      <td>0.000000</td>\n    </tr>\n    <tr>\n      <th>gender</th>\n      <td>0</td>\n      <td>0.000000</td>\n    </tr>\n    <tr>\n      <th>age</th>\n      <td>0</td>\n      <td>0.000000</td>\n    </tr>\n    <tr>\n      <th>literacy</th>\n      <td>6099</td>\n      <td>8.936918</td>\n    </tr>\n    <tr>\n      <th>studying</th>\n      <td>13344</td>\n      <td>19.553081</td>\n    </tr>\n    <tr>\n      <th>degree</th>\n      <td>13345</td>\n      <td>19.554546</td>\n    </tr>\n    <tr>\n      <th>occupationalst</th>\n      <td>10472</td>\n      <td>15.344714</td>\n    </tr>\n    <tr>\n      <th>maritalst</th>\n      <td>10472</td>\n      <td>15.344714</td>\n    </tr>\n  </tbody>\n</table>\n</div>"
     },
     "execution_count": 567,
     "metadata": {},
     "output_type": "execute_result"
    }
   ],
   "source": [
    "pd.DataFrame({'Sum_of_MN':R1401P1.isna().sum(),'Mean_of_MN' : (R1401P1.isna().mean()* 100)})"
   ],
   "metadata": {
    "collapsed": false,
    "ExecuteTime": {
     "end_time": "2024-06-06T18:21:14.922664400Z",
     "start_time": "2024-06-06T18:21:14.753665300Z"
    }
   }
  },
  {
   "cell_type": "code",
   "execution_count": 568,
   "outputs": [
    {
     "data": {
      "text/plain": "array(['literate', nan, 'illiterate'], dtype=object)"
     },
     "execution_count": 568,
     "metadata": {},
     "output_type": "execute_result"
    }
   ],
   "source": [
    "R1401P1.literacy.unique()"
   ],
   "metadata": {
    "collapsed": false,
    "ExecuteTime": {
     "end_time": "2024-06-06T18:21:14.923684300Z",
     "start_time": "2024-06-06T18:21:14.802663800Z"
    }
   }
  },
  {
   "cell_type": "code",
   "execution_count": 569,
   "outputs": [
    {
     "data": {
      "text/plain": "age\n5    1177\n4    1152\n3    1114\n2    1060\n1     863\n0     706\n6      27\nName: count, dtype: int64"
     },
     "execution_count": 569,
     "metadata": {},
     "output_type": "execute_result"
    }
   ],
   "source": [
    "R1401P1[(R1401P1.literacy.isna())].age.value_counts()"
   ],
   "metadata": {
    "collapsed": false,
    "ExecuteTime": {
     "end_time": "2024-06-06T18:21:14.924664400Z",
     "start_time": "2024-06-06T18:21:14.820664600Z"
    }
   }
  },
  {
   "cell_type": "markdown",
   "source": [
    "we dont want any condition on age for literacy because they are all kids and we can impute with illitrate\n"
   ],
   "metadata": {
    "collapsed": false
   }
  },
  {
   "cell_type": "code",
   "execution_count": 570,
   "outputs": [],
   "source": [
    "R1401P1.loc[(R1401P1.literacy.isna()),'literacy']='illiterate'"
   ],
   "metadata": {
    "collapsed": false,
    "ExecuteTime": {
     "end_time": "2024-06-06T18:21:14.947664400Z",
     "start_time": "2024-06-06T18:21:14.834664500Z"
    }
   }
  },
  {
   "cell_type": "code",
   "execution_count": 571,
   "outputs": [
    {
     "data": {
      "text/plain": "Address               0\nmember                0\nrelation              0\ngender                0\nage                   0\nliteracy              0\nstudying          13344\ndegree            13345\noccupationalst    10472\nmaritalst         10472\ndtype: int64"
     },
     "execution_count": 571,
     "metadata": {},
     "output_type": "execute_result"
    }
   ],
   "source": [
    "R1401P1.isna().sum() # No missing value"
   ],
   "metadata": {
    "collapsed": false,
    "ExecuteTime": {
     "end_time": "2024-06-06T18:21:14.966663900Z",
     "start_time": "2024-06-06T18:21:14.849664300Z"
    }
   }
  },
  {
   "cell_type": "markdown",
   "source": [
    "`literacy` column done"
   ],
   "metadata": {
    "collapsed": false
   }
  },
  {
   "cell_type": "markdown",
   "source": [
    "`studying` column"
   ],
   "metadata": {
    "collapsed": false
   }
  },
  {
   "cell_type": "code",
   "execution_count": 572,
   "outputs": [
    {
     "data": {
      "text/plain": "                Sum_of_MN  Mean_of_MN\nAddress                 0    0.000000\nmember                  0    0.000000\nrelation                0    0.000000\ngender                  0    0.000000\nage                     0    0.000000\nliteracy                0    0.000000\nstudying            13344   19.553081\ndegree              13345   19.554546\noccupationalst      10472   15.344714\nmaritalst           10472   15.344714",
      "text/html": "<div>\n<style scoped>\n    .dataframe tbody tr th:only-of-type {\n        vertical-align: middle;\n    }\n\n    .dataframe tbody tr th {\n        vertical-align: top;\n    }\n\n    .dataframe thead th {\n        text-align: right;\n    }\n</style>\n<table border=\"1\" class=\"dataframe\">\n  <thead>\n    <tr style=\"text-align: right;\">\n      <th></th>\n      <th>Sum_of_MN</th>\n      <th>Mean_of_MN</th>\n    </tr>\n  </thead>\n  <tbody>\n    <tr>\n      <th>Address</th>\n      <td>0</td>\n      <td>0.000000</td>\n    </tr>\n    <tr>\n      <th>member</th>\n      <td>0</td>\n      <td>0.000000</td>\n    </tr>\n    <tr>\n      <th>relation</th>\n      <td>0</td>\n      <td>0.000000</td>\n    </tr>\n    <tr>\n      <th>gender</th>\n      <td>0</td>\n      <td>0.000000</td>\n    </tr>\n    <tr>\n      <th>age</th>\n      <td>0</td>\n      <td>0.000000</td>\n    </tr>\n    <tr>\n      <th>literacy</th>\n      <td>0</td>\n      <td>0.000000</td>\n    </tr>\n    <tr>\n      <th>studying</th>\n      <td>13344</td>\n      <td>19.553081</td>\n    </tr>\n    <tr>\n      <th>degree</th>\n      <td>13345</td>\n      <td>19.554546</td>\n    </tr>\n    <tr>\n      <th>occupationalst</th>\n      <td>10472</td>\n      <td>15.344714</td>\n    </tr>\n    <tr>\n      <th>maritalst</th>\n      <td>10472</td>\n      <td>15.344714</td>\n    </tr>\n  </tbody>\n</table>\n</div>"
     },
     "execution_count": 572,
     "metadata": {},
     "output_type": "execute_result"
    }
   ],
   "source": [
    "pd.DataFrame({'Sum_of_MN':R1401P1.isna().sum(),'Mean_of_MN' : (R1401P1.isna().mean()* 100)})"
   ],
   "metadata": {
    "collapsed": false,
    "ExecuteTime": {
     "end_time": "2024-06-06T18:21:14.967664Z",
     "start_time": "2024-06-06T18:21:14.881663600Z"
    }
   }
  },
  {
   "cell_type": "code",
   "execution_count": 573,
   "outputs": [
    {
     "data": {
      "text/plain": "array(['No', 'Yes', nan], dtype=object)"
     },
     "execution_count": 573,
     "metadata": {},
     "output_type": "execute_result"
    }
   ],
   "source": [
    "R1401P1.studying.unique()"
   ],
   "metadata": {
    "collapsed": false,
    "ExecuteTime": {
     "end_time": "2024-06-06T18:21:15.109478700Z",
     "start_time": "2024-06-06T18:21:14.931664300Z"
    }
   }
  },
  {
   "cell_type": "code",
   "execution_count": 574,
   "outputs": [
    {
     "data": {
      "text/plain": "studying\nNo     39885\nYes    15016\nNaN    13344\nName: count, dtype: int64"
     },
     "execution_count": 574,
     "metadata": {},
     "output_type": "execute_result"
    }
   ],
   "source": [
    "R1401P1.studying.value_counts(dropna=False)"
   ],
   "metadata": {
    "collapsed": false,
    "ExecuteTime": {
     "end_time": "2024-06-06T18:21:15.110478800Z",
     "start_time": "2024-06-06T18:21:14.947664400Z"
    }
   }
  },
  {
   "cell_type": "code",
   "execution_count": 575,
   "outputs": [
    {
     "data": {
      "text/plain": "        Address  member relation  gender  age    literacy studying degree  \\\n5   10004004220       4    Child    Male    4  illiterate      NaN    NaN   \n15  10009008114       3    Child    Male    5  illiterate      NaN    NaN   \n16  10009008114       4    Child  Female    5  illiterate      NaN    NaN   \n26  10002002810       1     Head  Female   88  illiterate      NaN    NaN   \n39  10001000214       4    Child  Female    4  illiterate      NaN    NaN   \n\n   occupationalst maritalst  \n5             NaN       NaN  \n15            NaN       NaN  \n16            NaN       NaN  \n26    IncomeWOJob   Widowed  \n39            NaN       NaN  ",
      "text/html": "<div>\n<style scoped>\n    .dataframe tbody tr th:only-of-type {\n        vertical-align: middle;\n    }\n\n    .dataframe tbody tr th {\n        vertical-align: top;\n    }\n\n    .dataframe thead th {\n        text-align: right;\n    }\n</style>\n<table border=\"1\" class=\"dataframe\">\n  <thead>\n    <tr style=\"text-align: right;\">\n      <th></th>\n      <th>Address</th>\n      <th>member</th>\n      <th>relation</th>\n      <th>gender</th>\n      <th>age</th>\n      <th>literacy</th>\n      <th>studying</th>\n      <th>degree</th>\n      <th>occupationalst</th>\n      <th>maritalst</th>\n    </tr>\n  </thead>\n  <tbody>\n    <tr>\n      <th>5</th>\n      <td>10004004220</td>\n      <td>4</td>\n      <td>Child</td>\n      <td>Male</td>\n      <td>4</td>\n      <td>illiterate</td>\n      <td>NaN</td>\n      <td>NaN</td>\n      <td>NaN</td>\n      <td>NaN</td>\n    </tr>\n    <tr>\n      <th>15</th>\n      <td>10009008114</td>\n      <td>3</td>\n      <td>Child</td>\n      <td>Male</td>\n      <td>5</td>\n      <td>illiterate</td>\n      <td>NaN</td>\n      <td>NaN</td>\n      <td>NaN</td>\n      <td>NaN</td>\n    </tr>\n    <tr>\n      <th>16</th>\n      <td>10009008114</td>\n      <td>4</td>\n      <td>Child</td>\n      <td>Female</td>\n      <td>5</td>\n      <td>illiterate</td>\n      <td>NaN</td>\n      <td>NaN</td>\n      <td>NaN</td>\n      <td>NaN</td>\n    </tr>\n    <tr>\n      <th>26</th>\n      <td>10002002810</td>\n      <td>1</td>\n      <td>Head</td>\n      <td>Female</td>\n      <td>88</td>\n      <td>illiterate</td>\n      <td>NaN</td>\n      <td>NaN</td>\n      <td>IncomeWOJob</td>\n      <td>Widowed</td>\n    </tr>\n    <tr>\n      <th>39</th>\n      <td>10001000214</td>\n      <td>4</td>\n      <td>Child</td>\n      <td>Female</td>\n      <td>4</td>\n      <td>illiterate</td>\n      <td>NaN</td>\n      <td>NaN</td>\n      <td>NaN</td>\n      <td>NaN</td>\n    </tr>\n  </tbody>\n</table>\n</div>"
     },
     "execution_count": 575,
     "metadata": {},
     "output_type": "execute_result"
    }
   ],
   "source": [
    "R1401P1[R1401P1.studying.isna()].head()"
   ],
   "metadata": {
    "collapsed": false,
    "ExecuteTime": {
     "end_time": "2024-06-06T18:21:15.161477100Z",
     "start_time": "2024-06-06T18:21:14.960669100Z"
    }
   }
  },
  {
   "cell_type": "code",
   "execution_count": 576,
   "outputs": [
    {
     "data": {
      "text/plain": "studying    13344\ndegree      13344\ndtype: int64"
     },
     "execution_count": 576,
     "metadata": {},
     "output_type": "execute_result"
    }
   ],
   "source": [
    "R1401P1.loc[R1401P1.degree.isna()&(R1401P1.studying.isna()),['studying','degree']].isna().sum()"
   ],
   "metadata": {
    "collapsed": false,
    "ExecuteTime": {
     "end_time": "2024-06-06T18:21:15.189552500Z",
     "start_time": "2024-06-06T18:21:14.992219800Z"
    }
   }
  },
  {
   "cell_type": "markdown",
   "source": [
    "\n",
    "میشه نتیجه گرفت دو ستون میزان تحصیلات و درس خواندن را با سواد نداشتن کامل پر کرد چه بچه باشه و چه نباشه"
   ],
   "metadata": {
    "collapsed": false
   }
  },
  {
   "cell_type": "code",
   "execution_count": 577,
   "outputs": [],
   "source": [
    "R1401P1.loc[R1401P1.studying.isna() & (R1401P1.degree.isna()) & (R1401P1.literacy=='illiterate'),'studying']='No'"
   ],
   "metadata": {
    "collapsed": false,
    "ExecuteTime": {
     "end_time": "2024-06-06T18:21:15.192433700Z",
     "start_time": "2024-06-06T18:21:15.023221700Z"
    }
   }
  },
  {
   "cell_type": "code",
   "execution_count": 578,
   "outputs": [],
   "source": [
    "R1401P1.loc[R1401P1.studying.isna() & (R1401P1.literacy=='illiterate'),'studying']='No'"
   ],
   "metadata": {
    "collapsed": false,
    "ExecuteTime": {
     "end_time": "2024-06-06T18:21:15.192433700Z",
     "start_time": "2024-06-06T18:21:15.052833200Z"
    }
   }
  },
  {
   "cell_type": "code",
   "execution_count": 579,
   "outputs": [
    {
     "data": {
      "text/plain": "studying\nNo     53229\nYes    15016\nName: count, dtype: int64"
     },
     "execution_count": 579,
     "metadata": {},
     "output_type": "execute_result"
    }
   ],
   "source": [
    "R1401P1.studying.value_counts(dropna=False)"
   ],
   "metadata": {
    "collapsed": false,
    "ExecuteTime": {
     "end_time": "2024-06-06T18:21:15.193434400Z",
     "start_time": "2024-06-06T18:21:15.095474800Z"
    }
   }
  },
  {
   "cell_type": "code",
   "execution_count": 580,
   "outputs": [
    {
     "data": {
      "text/plain": "Empty DataFrame\nColumns: [Address, member, relation, gender, age, literacy, studying, degree, occupationalst, maritalst]\nIndex: []",
      "text/html": "<div>\n<style scoped>\n    .dataframe tbody tr th:only-of-type {\n        vertical-align: middle;\n    }\n\n    .dataframe tbody tr th {\n        vertical-align: top;\n    }\n\n    .dataframe thead th {\n        text-align: right;\n    }\n</style>\n<table border=\"1\" class=\"dataframe\">\n  <thead>\n    <tr style=\"text-align: right;\">\n      <th></th>\n      <th>Address</th>\n      <th>member</th>\n      <th>relation</th>\n      <th>gender</th>\n      <th>age</th>\n      <th>literacy</th>\n      <th>studying</th>\n      <th>degree</th>\n      <th>occupationalst</th>\n      <th>maritalst</th>\n    </tr>\n  </thead>\n  <tbody>\n  </tbody>\n</table>\n</div>"
     },
     "execution_count": 580,
     "metadata": {},
     "output_type": "execute_result"
    }
   ],
   "source": [
    "R1401P1.loc[R1401P1.studying.isna()]"
   ],
   "metadata": {
    "collapsed": false,
    "ExecuteTime": {
     "end_time": "2024-06-06T18:21:15.240936600Z",
     "start_time": "2024-06-06T18:21:15.110478800Z"
    }
   }
  },
  {
   "cell_type": "code",
   "execution_count": 581,
   "outputs": [
    {
     "data": {
      "text/plain": "Address               0\nmember                0\nrelation              0\ngender                0\nage                   0\nliteracy              0\nstudying              0\ndegree                1\noccupationalst    10472\nmaritalst         10472\ndtype: int64"
     },
     "execution_count": 581,
     "metadata": {},
     "output_type": "execute_result"
    }
   ],
   "source": [
    "R1401P1.loc[(R1401P1.studying=='No') & (R1401P1.degree.isna()) & (R1401P1.literacy=='illiterate'),'degree']='NoneEducation'\n",
    "R1401P1.isna().sum()"
   ],
   "metadata": {
    "collapsed": false,
    "ExecuteTime": {
     "end_time": "2024-06-06T18:21:15.396751300Z",
     "start_time": "2024-06-06T18:21:15.119476100Z"
    }
   }
  },
  {
   "cell_type": "markdown",
   "source": [
    "`degree` column Done!"
   ],
   "metadata": {
    "collapsed": false
   }
  },
  {
   "cell_type": "markdown",
   "source": [
    "### `occupationalst` 9083"
   ],
   "metadata": {
    "collapsed": false
   }
  },
  {
   "cell_type": "code",
   "execution_count": 582,
   "outputs": [
    {
     "data": {
      "text/plain": "array(['IncomeWOJob', 'employed', 'Housewife', 'Student', nan,\n       'unemployed', 'Other'], dtype=object)"
     },
     "execution_count": 582,
     "metadata": {},
     "output_type": "execute_result"
    }
   ],
   "source": [
    "R1401P1['occupationalst'].unique()\n"
   ],
   "metadata": {
    "collapsed": false,
    "ExecuteTime": {
     "end_time": "2024-06-06T18:21:15.413752Z",
     "start_time": "2024-06-06T18:21:15.164476300Z"
    }
   }
  },
  {
   "cell_type": "code",
   "execution_count": 583,
   "outputs": [
    {
     "data": {
      "text/plain": "         Address  member relation  gender  age    literacy studying  \\\n9    10009008108       4    Child  Female   27    literate      Yes   \n10   10009008117       1     Head    Male   52    literate       No   \n12   10009008117       3    Child    Male   21    literate       No   \n48   10013010623       1     Head    Male   65    literate       No   \n63   10013010623       3    Child    Male   25  illiterate       No   \n97   10001001514       3    Child    Male   24    literate       No   \n102  10013010610       1     Head    Male   35    literate       No   \n103  10013010610       2   Spouse  Female   35    literate       No   \n104  10013010608       1     Head    Male   29    literate       No   \n116  10006005518       3    Child    Male   20    literate       No   \n\n            degree occupationalst maritalst  \n9           Master     unemployed    Single  \n10       Secondary     unemployed   Married  \n12         College     unemployed    Single  \n48       Elemantry     unemployed   Married  \n63   NoneEducation     unemployed   Married  \n97         Diploma     unemployed    Single  \n102       Bachelor     unemployed   Married  \n103       Bachelor     unemployed   Married  \n104        Diploma     unemployed   Married  \n116        Diploma     unemployed    Single  ",
      "text/html": "<div>\n<style scoped>\n    .dataframe tbody tr th:only-of-type {\n        vertical-align: middle;\n    }\n\n    .dataframe tbody tr th {\n        vertical-align: top;\n    }\n\n    .dataframe thead th {\n        text-align: right;\n    }\n</style>\n<table border=\"1\" class=\"dataframe\">\n  <thead>\n    <tr style=\"text-align: right;\">\n      <th></th>\n      <th>Address</th>\n      <th>member</th>\n      <th>relation</th>\n      <th>gender</th>\n      <th>age</th>\n      <th>literacy</th>\n      <th>studying</th>\n      <th>degree</th>\n      <th>occupationalst</th>\n      <th>maritalst</th>\n    </tr>\n  </thead>\n  <tbody>\n    <tr>\n      <th>9</th>\n      <td>10009008108</td>\n      <td>4</td>\n      <td>Child</td>\n      <td>Female</td>\n      <td>27</td>\n      <td>literate</td>\n      <td>Yes</td>\n      <td>Master</td>\n      <td>unemployed</td>\n      <td>Single</td>\n    </tr>\n    <tr>\n      <th>10</th>\n      <td>10009008117</td>\n      <td>1</td>\n      <td>Head</td>\n      <td>Male</td>\n      <td>52</td>\n      <td>literate</td>\n      <td>No</td>\n      <td>Secondary</td>\n      <td>unemployed</td>\n      <td>Married</td>\n    </tr>\n    <tr>\n      <th>12</th>\n      <td>10009008117</td>\n      <td>3</td>\n      <td>Child</td>\n      <td>Male</td>\n      <td>21</td>\n      <td>literate</td>\n      <td>No</td>\n      <td>College</td>\n      <td>unemployed</td>\n      <td>Single</td>\n    </tr>\n    <tr>\n      <th>48</th>\n      <td>10013010623</td>\n      <td>1</td>\n      <td>Head</td>\n      <td>Male</td>\n      <td>65</td>\n      <td>literate</td>\n      <td>No</td>\n      <td>Elemantry</td>\n      <td>unemployed</td>\n      <td>Married</td>\n    </tr>\n    <tr>\n      <th>63</th>\n      <td>10013010623</td>\n      <td>3</td>\n      <td>Child</td>\n      <td>Male</td>\n      <td>25</td>\n      <td>illiterate</td>\n      <td>No</td>\n      <td>NoneEducation</td>\n      <td>unemployed</td>\n      <td>Married</td>\n    </tr>\n    <tr>\n      <th>97</th>\n      <td>10001001514</td>\n      <td>3</td>\n      <td>Child</td>\n      <td>Male</td>\n      <td>24</td>\n      <td>literate</td>\n      <td>No</td>\n      <td>Diploma</td>\n      <td>unemployed</td>\n      <td>Single</td>\n    </tr>\n    <tr>\n      <th>102</th>\n      <td>10013010610</td>\n      <td>1</td>\n      <td>Head</td>\n      <td>Male</td>\n      <td>35</td>\n      <td>literate</td>\n      <td>No</td>\n      <td>Bachelor</td>\n      <td>unemployed</td>\n      <td>Married</td>\n    </tr>\n    <tr>\n      <th>103</th>\n      <td>10013010610</td>\n      <td>2</td>\n      <td>Spouse</td>\n      <td>Female</td>\n      <td>35</td>\n      <td>literate</td>\n      <td>No</td>\n      <td>Bachelor</td>\n      <td>unemployed</td>\n      <td>Married</td>\n    </tr>\n    <tr>\n      <th>104</th>\n      <td>10013010608</td>\n      <td>1</td>\n      <td>Head</td>\n      <td>Male</td>\n      <td>29</td>\n      <td>literate</td>\n      <td>No</td>\n      <td>Diploma</td>\n      <td>unemployed</td>\n      <td>Married</td>\n    </tr>\n    <tr>\n      <th>116</th>\n      <td>10006005518</td>\n      <td>3</td>\n      <td>Child</td>\n      <td>Male</td>\n      <td>20</td>\n      <td>literate</td>\n      <td>No</td>\n      <td>Diploma</td>\n      <td>unemployed</td>\n      <td>Single</td>\n    </tr>\n  </tbody>\n</table>\n</div>"
     },
     "execution_count": 583,
     "metadata": {},
     "output_type": "execute_result"
    }
   ],
   "source": [
    "R1401P1[R1401P1['occupationalst']== 'unemployed'].head(10)"
   ],
   "metadata": {
    "collapsed": false,
    "ExecuteTime": {
     "end_time": "2024-06-06T18:21:15.442553400Z",
     "start_time": "2024-06-06T18:21:15.180475400Z"
    }
   }
  },
  {
   "cell_type": "code",
   "execution_count": 584,
   "outputs": [
    {
     "data": {
      "text/plain": "                      age\noccupationalst           \nHousewife       42.730315\nIncomeWOJob     62.685885\nOther           37.611842\nStudent         15.231296\nemployed        40.406051\nunemployed      29.305107",
      "text/html": "<div>\n<style scoped>\n    .dataframe tbody tr th:only-of-type {\n        vertical-align: middle;\n    }\n\n    .dataframe tbody tr th {\n        vertical-align: top;\n    }\n\n    .dataframe thead th {\n        text-align: right;\n    }\n</style>\n<table border=\"1\" class=\"dataframe\">\n  <thead>\n    <tr style=\"text-align: right;\">\n      <th></th>\n      <th>age</th>\n    </tr>\n    <tr>\n      <th>occupationalst</th>\n      <th></th>\n    </tr>\n  </thead>\n  <tbody>\n    <tr>\n      <th>Housewife</th>\n      <td>42.730315</td>\n    </tr>\n    <tr>\n      <th>IncomeWOJob</th>\n      <td>62.685885</td>\n    </tr>\n    <tr>\n      <th>Other</th>\n      <td>37.611842</td>\n    </tr>\n    <tr>\n      <th>Student</th>\n      <td>15.231296</td>\n    </tr>\n    <tr>\n      <th>employed</th>\n      <td>40.406051</td>\n    </tr>\n    <tr>\n      <th>unemployed</th>\n      <td>29.305107</td>\n    </tr>\n  </tbody>\n</table>\n</div>"
     },
     "execution_count": 584,
     "metadata": {},
     "output_type": "execute_result"
    }
   ],
   "source": [
    "R1401P1.groupby('occupationalst').agg({'age':'mean'})"
   ],
   "metadata": {
    "collapsed": false,
    "ExecuteTime": {
     "end_time": "2024-06-06T18:21:15.443553700Z",
     "start_time": "2024-06-06T18:21:15.212436300Z"
    }
   }
  },
  {
   "cell_type": "markdown",
   "source": [
    "یانگین سن مشاغل مختلف م"
   ],
   "metadata": {
    "collapsed": false
   }
  },
  {
   "cell_type": "code",
   "execution_count": 585,
   "outputs": [
    {
     "data": {
      "text/plain": "age\n5    1177\n4    1152\n7    1143\n8    1141\n3    1114\n9    1100\n2    1060\n6    1016\n1     863\n0     706\nName: count, dtype: int64"
     },
     "execution_count": 585,
     "metadata": {},
     "output_type": "execute_result"
    }
   ],
   "source": [
    "R1401P1[R1401P1['occupationalst'].isna()].age.value_counts()"
   ],
   "metadata": {
    "collapsed": false,
    "ExecuteTime": {
     "end_time": "2024-06-06T18:21:15.444553800Z",
     "start_time": "2024-06-06T18:21:15.246935800Z"
    }
   }
  },
  {
   "cell_type": "markdown",
   "source": [
    "یبینیم باز اونهایی که بدون شغل هستند کودک بین 0 تا 9 سال هستندم"
   ],
   "metadata": {
    "collapsed": false
   }
  },
  {
   "cell_type": "code",
   "execution_count": 586,
   "outputs": [
    {
     "data": {
      "text/plain": "gender\nMale      5414\nFemale    5058\nName: count, dtype: int64"
     },
     "execution_count": 586,
     "metadata": {},
     "output_type": "execute_result"
    }
   ],
   "source": [
    "R1401P1[R1401P1['occupationalst'].isna() & (R1401P1.age <= 9)]['gender'].value_counts()"
   ],
   "metadata": {
    "collapsed": false,
    "ExecuteTime": {
     "end_time": "2024-06-06T18:21:15.445555Z",
     "start_time": "2024-06-06T18:21:15.257937900Z"
    }
   }
  },
  {
   "cell_type": "markdown",
   "source": [
    "جالب اینجاست همه اونهایی که حرفه اشون مشخص نیست کودک هستن حالا ازبین اینها بعضی هاشون باید دانش آموز باشند اما نیستن فقط اونهایی که در حال تحصیل هستن رو قرار میدیم دانش آموز\n"
   ],
   "metadata": {
    "collapsed": false
   }
  },
  {
   "cell_type": "code",
   "execution_count": 587,
   "outputs": [],
   "source": [
    "R1401P1.loc[(R1401P1.studying=='Yes') & (R1401P1.occupationalst.isna()),'occupationalst']='Student'"
   ],
   "metadata": {
    "collapsed": false,
    "ExecuteTime": {
     "end_time": "2024-06-06T18:21:15.461555Z",
     "start_time": "2024-06-06T18:21:15.273485300Z"
    }
   }
  },
  {
   "cell_type": "code",
   "execution_count": 588,
   "outputs": [
    {
     "data": {
      "text/plain": "age\n5    1177\n4    1152\n3    1114\n2    1059\n1     863\n0     706\n6     277\n7      28\n8      16\n9      16\nName: count, dtype: int64"
     },
     "execution_count": 588,
     "metadata": {},
     "output_type": "execute_result"
    }
   ],
   "source": [
    "R1401P1.loc[(R1401P1.occupationalst.isna()),'age'].value_counts()"
   ],
   "metadata": {
    "collapsed": false,
    "ExecuteTime": {
     "end_time": "2024-06-06T18:21:15.506552500Z",
     "start_time": "2024-06-06T18:21:15.290483600Z"
    }
   }
  },
  {
   "cell_type": "code",
   "execution_count": 589,
   "outputs": [
    {
     "data": {
      "text/plain": "60"
     },
     "execution_count": 589,
     "metadata": {},
     "output_type": "execute_result"
    }
   ],
   "source": [
    "R1401P1.loc[(R1401P1.age.between(7,9)) & (R1401P1.studying=='No'),].Address.count()"
   ],
   "metadata": {
    "collapsed": false,
    "ExecuteTime": {
     "end_time": "2024-06-06T18:21:15.506552500Z",
     "start_time": "2024-06-06T18:21:15.314047200Z"
    }
   }
  },
  {
   "cell_type": "markdown",
   "source": [
    "کودکانی که  درس نخواندن و یا ترک تحصیل کرده اند(کودک کار)"
   ],
   "metadata": {
    "collapsed": false
   }
  },
  {
   "cell_type": "code",
   "execution_count": 590,
   "outputs": [],
   "source": [
    "R1401P1.loc[(R1401P1.occupationalst.isna()),'occupationalst']='under_work_age'"
   ],
   "metadata": {
    "collapsed": false,
    "ExecuteTime": {
     "end_time": "2024-06-06T18:21:15.507555700Z",
     "start_time": "2024-06-06T18:21:15.337047900Z"
    }
   }
  },
  {
   "cell_type": "code",
   "execution_count": 591,
   "outputs": [
    {
     "data": {
      "text/plain": "Empty DataFrame\nColumns: [Address, member, relation, gender, age, literacy, studying, degree, occupationalst, maritalst]\nIndex: []",
      "text/html": "<div>\n<style scoped>\n    .dataframe tbody tr th:only-of-type {\n        vertical-align: middle;\n    }\n\n    .dataframe tbody tr th {\n        vertical-align: top;\n    }\n\n    .dataframe thead th {\n        text-align: right;\n    }\n</style>\n<table border=\"1\" class=\"dataframe\">\n  <thead>\n    <tr style=\"text-align: right;\">\n      <th></th>\n      <th>Address</th>\n      <th>member</th>\n      <th>relation</th>\n      <th>gender</th>\n      <th>age</th>\n      <th>literacy</th>\n      <th>studying</th>\n      <th>degree</th>\n      <th>occupationalst</th>\n      <th>maritalst</th>\n    </tr>\n  </thead>\n  <tbody>\n  </tbody>\n</table>\n</div>"
     },
     "execution_count": 591,
     "metadata": {},
     "output_type": "execute_result"
    }
   ],
   "source": [
    "occup = R1401P1.loc[(R1401P1.literacy == 'illiterate') & (R1401P1.studying == 'No') & (R1401P1.degree=='NoneEducation'), :]\n",
    "occup = occup[occup.occupationalst.isna()]\n",
    "occup"
   ],
   "metadata": {
    "collapsed": false,
    "ExecuteTime": {
     "end_time": "2024-06-06T18:21:15.508555Z",
     "start_time": "2024-06-06T18:21:15.353752400Z"
    }
   }
  },
  {
   "cell_type": "code",
   "execution_count": 592,
   "outputs": [
    {
     "data": {
      "text/plain": "occupationalst\nemployed          17882\nHousewife         17183\nStudent           14423\nIncomeWOJob        7354\nunder_work_age     6408\nunemployed         3779\nOther              1216\nName: count, dtype: int64"
     },
     "execution_count": 592,
     "metadata": {},
     "output_type": "execute_result"
    }
   ],
   "source": [
    "R1401P1['occupationalst'].value_counts()"
   ],
   "metadata": {
    "collapsed": false,
    "ExecuteTime": {
     "end_time": "2024-06-06T18:21:15.508555Z",
     "start_time": "2024-06-06T18:21:15.383753200Z"
    }
   }
  },
  {
   "cell_type": "markdown",
   "source": [
    "اینجا ما کلی همه کودکان چه اونهایی که سواد دارند و چه سواد ندارند را \"زیرسن کار\"\"در نظر گرفتیم\n"
   ],
   "metadata": {
    "collapsed": false
   }
  },
  {
   "cell_type": "markdown",
   "source": [
    "### `maritalst`  9082"
   ],
   "metadata": {
    "collapsed": false
   }
  },
  {
   "cell_type": "code",
   "execution_count": 593,
   "outputs": [
    {
     "data": {
      "text/plain": "array(['Married', 'Single', nan, 'Widowed', 'Divorced'], dtype=object)"
     },
     "execution_count": 593,
     "metadata": {},
     "output_type": "execute_result"
    }
   ],
   "source": [
    "R1401P1.maritalst.unique()"
   ],
   "metadata": {
    "collapsed": false,
    "ExecuteTime": {
     "end_time": "2024-06-06T18:21:15.727871100Z",
     "start_time": "2024-06-06T18:21:15.415752900Z"
    }
   }
  },
  {
   "cell_type": "markdown",
   "source": [
    "به نظر میاد اینجا بیوه و طلاق گرفته نباید یکی و سینگل درنظر گرفته بشن"
   ],
   "metadata": {
    "collapsed": false
   }
  },
  {
   "cell_type": "code",
   "execution_count": 594,
   "outputs": [
    {
     "data": {
      "text/plain": "age\n5    1177\n4    1152\n7    1143\n8    1141\n3    1114\n9    1100\n2    1060\n6    1016\n1     863\n0     706\nName: count, dtype: int64"
     },
     "execution_count": 594,
     "metadata": {},
     "output_type": "execute_result"
    }
   ],
   "source": [
    "R1401P1.loc[R1401P1.maritalst.isna(),'age'].value_counts()"
   ],
   "metadata": {
    "collapsed": false,
    "ExecuteTime": {
     "end_time": "2024-06-06T18:21:15.728868800Z",
     "start_time": "2024-06-06T18:21:15.432557900Z"
    }
   }
  },
  {
   "cell_type": "markdown",
   "source": [
    "با توجه به این نتایج مشخص میشه همه اونهایی که وضعیت ازدواجشون مشخص نیست کودک هستن و میشه یک لیبل مثل  under_age  بهشون نسبت داد"
   ],
   "metadata": {
    "collapsed": false
   }
  },
  {
   "cell_type": "code",
   "execution_count": 595,
   "outputs": [
    {
     "data": {
      "text/plain": "Series([], Name: count, dtype: int64)"
     },
     "execution_count": 595,
     "metadata": {},
     "output_type": "execute_result"
    }
   ],
   "source": [
    "R1401P1.loc[R1401P1.age<10,'maritalst'].value_counts()"
   ],
   "metadata": {
    "collapsed": false,
    "ExecuteTime": {
     "end_time": "2024-06-06T18:21:15.776887700Z",
     "start_time": "2024-06-06T18:21:15.448554400Z"
    }
   }
  },
  {
   "cell_type": "markdown",
   "source": [
    "ینجا یک نفر هست که سنش کمتر از 10 ساله و سینگل هم هست میخوایم ببینیم چه مشخصاتی داره مثلا دختره که سینگل شده یا خیر؟؟ا"
   ],
   "metadata": {
    "collapsed": false
   }
  },
  {
   "cell_type": "code",
   "execution_count": 596,
   "outputs": [
    {
     "data": {
      "text/plain": "Series([], Name: count, dtype: int64)"
     },
     "execution_count": 596,
     "metadata": {},
     "output_type": "execute_result"
    }
   ],
   "source": [
    "R1401P1.loc[(R1401P1.age<10) & (R1401P1.maritalst=='Single'),].value_counts()"
   ],
   "metadata": {
    "collapsed": false,
    "ExecuteTime": {
     "end_time": "2024-06-06T18:21:15.789868500Z",
     "start_time": "2024-06-06T18:21:15.464555700Z"
    }
   }
  },
  {
   "cell_type": "markdown",
   "source": [
    "ا توجه به اینکه 2 سالش هست میتونیم از سینگل برای زیر 10 سالها استفاده کنیمب"
   ],
   "metadata": {
    "collapsed": false
   }
  },
  {
   "cell_type": "code",
   "execution_count": 597,
   "outputs": [],
   "source": [
    "R1401P1.loc[R1401P1.maritalst.isna(),'maritalst']='Single'"
   ],
   "metadata": {
    "collapsed": false,
    "ExecuteTime": {
     "end_time": "2024-06-06T18:21:15.789868500Z",
     "start_time": "2024-06-06T18:21:15.479554600Z"
    }
   }
  },
  {
   "cell_type": "code",
   "execution_count": 598,
   "outputs": [
    {
     "data": {
      "text/plain": "                Sum_of_MN  Mean_of_MN\nAddress                 0    0.000000\nmember                  0    0.000000\nrelation                0    0.000000\ngender                  0    0.000000\nage                     0    0.000000\nliteracy                0    0.000000\nstudying                0    0.000000\ndegree                  1    0.001465\noccupationalst          0    0.000000\nmaritalst               0    0.000000",
      "text/html": "<div>\n<style scoped>\n    .dataframe tbody tr th:only-of-type {\n        vertical-align: middle;\n    }\n\n    .dataframe tbody tr th {\n        vertical-align: top;\n    }\n\n    .dataframe thead th {\n        text-align: right;\n    }\n</style>\n<table border=\"1\" class=\"dataframe\">\n  <thead>\n    <tr style=\"text-align: right;\">\n      <th></th>\n      <th>Sum_of_MN</th>\n      <th>Mean_of_MN</th>\n    </tr>\n  </thead>\n  <tbody>\n    <tr>\n      <th>Address</th>\n      <td>0</td>\n      <td>0.000000</td>\n    </tr>\n    <tr>\n      <th>member</th>\n      <td>0</td>\n      <td>0.000000</td>\n    </tr>\n    <tr>\n      <th>relation</th>\n      <td>0</td>\n      <td>0.000000</td>\n    </tr>\n    <tr>\n      <th>gender</th>\n      <td>0</td>\n      <td>0.000000</td>\n    </tr>\n    <tr>\n      <th>age</th>\n      <td>0</td>\n      <td>0.000000</td>\n    </tr>\n    <tr>\n      <th>literacy</th>\n      <td>0</td>\n      <td>0.000000</td>\n    </tr>\n    <tr>\n      <th>studying</th>\n      <td>0</td>\n      <td>0.000000</td>\n    </tr>\n    <tr>\n      <th>degree</th>\n      <td>1</td>\n      <td>0.001465</td>\n    </tr>\n    <tr>\n      <th>occupationalst</th>\n      <td>0</td>\n      <td>0.000000</td>\n    </tr>\n    <tr>\n      <th>maritalst</th>\n      <td>0</td>\n      <td>0.000000</td>\n    </tr>\n  </tbody>\n</table>\n</div>"
     },
     "execution_count": 598,
     "metadata": {},
     "output_type": "execute_result"
    }
   ],
   "source": [
    "pd.DataFrame({'Sum_of_MN':R1401P1.isna().sum(),'Mean_of_MN' : (R1401P1.isna().mean()* 100)})"
   ],
   "metadata": {
    "collapsed": false,
    "ExecuteTime": {
     "end_time": "2024-06-06T18:21:15.790868800Z",
     "start_time": "2024-06-06T18:21:15.495554Z"
    }
   }
  },
  {
   "cell_type": "markdown",
   "source": [
    "extract Male and Female count columns"
   ],
   "metadata": {
    "collapsed": false
   }
  },
  {
   "cell_type": "code",
   "execution_count": 599,
   "outputs": [],
   "source": [
    "R1401P1['Male_count'] = R1401P1['gender'].apply(lambda x: 1 if x == 'Male' else 0)\n",
    "R1401P1['Female_count'] = R1401P1['gender'].apply(lambda x: 1 if x == 'Female' else 0)\n",
    "R1401P1.drop(['gender'],axis=1,inplace=True)"
   ],
   "metadata": {
    "collapsed": false,
    "ExecuteTime": {
     "end_time": "2024-06-06T18:21:15.880626200Z",
     "start_time": "2024-06-06T18:21:15.542555Z"
    }
   }
  },
  {
   "cell_type": "code",
   "execution_count": 600,
   "outputs": [
    {
     "data": {
      "text/plain": "       Address  member relation  age  literacy studying     degree  \\\n0  10004004223       1     Head   66  literate       No    Diploma   \n1  10004004223       2   Spouse   61  literate       No    College   \n2  10004004220       1     Head   36  literate       No  Elemantry   \n3  10004004220       2   Spouse   33  literate       No  Secondary   \n4  10004004220       3    Child   12  literate      Yes  Elemantry   \n\n  occupationalst maritalst  Male_count  Female_count  \n0    IncomeWOJob   Married           1             0  \n1    IncomeWOJob   Married           0             1  \n2       employed   Married           1             0  \n3      Housewife   Married           0             1  \n4        Student    Single           0             1  ",
      "text/html": "<div>\n<style scoped>\n    .dataframe tbody tr th:only-of-type {\n        vertical-align: middle;\n    }\n\n    .dataframe tbody tr th {\n        vertical-align: top;\n    }\n\n    .dataframe thead th {\n        text-align: right;\n    }\n</style>\n<table border=\"1\" class=\"dataframe\">\n  <thead>\n    <tr style=\"text-align: right;\">\n      <th></th>\n      <th>Address</th>\n      <th>member</th>\n      <th>relation</th>\n      <th>age</th>\n      <th>literacy</th>\n      <th>studying</th>\n      <th>degree</th>\n      <th>occupationalst</th>\n      <th>maritalst</th>\n      <th>Male_count</th>\n      <th>Female_count</th>\n    </tr>\n  </thead>\n  <tbody>\n    <tr>\n      <th>0</th>\n      <td>10004004223</td>\n      <td>1</td>\n      <td>Head</td>\n      <td>66</td>\n      <td>literate</td>\n      <td>No</td>\n      <td>Diploma</td>\n      <td>IncomeWOJob</td>\n      <td>Married</td>\n      <td>1</td>\n      <td>0</td>\n    </tr>\n    <tr>\n      <th>1</th>\n      <td>10004004223</td>\n      <td>2</td>\n      <td>Spouse</td>\n      <td>61</td>\n      <td>literate</td>\n      <td>No</td>\n      <td>College</td>\n      <td>IncomeWOJob</td>\n      <td>Married</td>\n      <td>0</td>\n      <td>1</td>\n    </tr>\n    <tr>\n      <th>2</th>\n      <td>10004004220</td>\n      <td>1</td>\n      <td>Head</td>\n      <td>36</td>\n      <td>literate</td>\n      <td>No</td>\n      <td>Elemantry</td>\n      <td>employed</td>\n      <td>Married</td>\n      <td>1</td>\n      <td>0</td>\n    </tr>\n    <tr>\n      <th>3</th>\n      <td>10004004220</td>\n      <td>2</td>\n      <td>Spouse</td>\n      <td>33</td>\n      <td>literate</td>\n      <td>No</td>\n      <td>Secondary</td>\n      <td>Housewife</td>\n      <td>Married</td>\n      <td>0</td>\n      <td>1</td>\n    </tr>\n    <tr>\n      <th>4</th>\n      <td>10004004220</td>\n      <td>3</td>\n      <td>Child</td>\n      <td>12</td>\n      <td>literate</td>\n      <td>Yes</td>\n      <td>Elemantry</td>\n      <td>Student</td>\n      <td>Single</td>\n      <td>0</td>\n      <td>1</td>\n    </tr>\n  </tbody>\n</table>\n</div>"
     },
     "execution_count": 600,
     "metadata": {},
     "output_type": "execute_result"
    }
   ],
   "source": [
    "R1401P1.head()"
   ],
   "metadata": {
    "collapsed": false,
    "ExecuteTime": {
     "end_time": "2024-06-06T18:21:15.906076800Z",
     "start_time": "2024-06-06T18:21:15.606088900Z"
    }
   }
  },
  {
   "cell_type": "code",
   "execution_count": 601,
   "outputs": [
    {
     "data": {
      "text/plain": "           Address  member  relation  age  literacy  studying  degree  \\\n0      10004004223       1         2   66         1         0       2   \n1      10004004223       2         8   61         1         0       1   \n2      10004004220       1         2   36         1         0       3   \n3      10004004220       2         8   33         1         0       9   \n4      10004004220       3         0   12         1         1       3   \n...            ...     ...       ...  ...       ...       ...     ...   \n68240  13001374515       5         0   15         1         1       9   \n68241  13006382723       4         0   16         1         1       2   \n68242  13006382723       5         0    8         1         1       3   \n68243  13001377517       1         2   61         1         0       3   \n68244  13001377517       2         8   49         1         0       9   \n\n       occupationalst  maritalst  Male_count  Female_count  \n0                   1          1           1             0  \n1                   1          1           0             1  \n2                   4          1           1             0  \n3                   0          1           0             1  \n4                   3          2           0             1  \n...               ...        ...         ...           ...  \n68240               3          2           1             0  \n68241               3          2           1             0  \n68242               3          2           0             1  \n68243               1          1           1             0  \n68244               0          1           0             1  \n\n[68245 rows x 11 columns]",
      "text/html": "<div>\n<style scoped>\n    .dataframe tbody tr th:only-of-type {\n        vertical-align: middle;\n    }\n\n    .dataframe tbody tr th {\n        vertical-align: top;\n    }\n\n    .dataframe thead th {\n        text-align: right;\n    }\n</style>\n<table border=\"1\" class=\"dataframe\">\n  <thead>\n    <tr style=\"text-align: right;\">\n      <th></th>\n      <th>Address</th>\n      <th>member</th>\n      <th>relation</th>\n      <th>age</th>\n      <th>literacy</th>\n      <th>studying</th>\n      <th>degree</th>\n      <th>occupationalst</th>\n      <th>maritalst</th>\n      <th>Male_count</th>\n      <th>Female_count</th>\n    </tr>\n  </thead>\n  <tbody>\n    <tr>\n      <th>0</th>\n      <td>10004004223</td>\n      <td>1</td>\n      <td>2</td>\n      <td>66</td>\n      <td>1</td>\n      <td>0</td>\n      <td>2</td>\n      <td>1</td>\n      <td>1</td>\n      <td>1</td>\n      <td>0</td>\n    </tr>\n    <tr>\n      <th>1</th>\n      <td>10004004223</td>\n      <td>2</td>\n      <td>8</td>\n      <td>61</td>\n      <td>1</td>\n      <td>0</td>\n      <td>1</td>\n      <td>1</td>\n      <td>1</td>\n      <td>0</td>\n      <td>1</td>\n    </tr>\n    <tr>\n      <th>2</th>\n      <td>10004004220</td>\n      <td>1</td>\n      <td>2</td>\n      <td>36</td>\n      <td>1</td>\n      <td>0</td>\n      <td>3</td>\n      <td>4</td>\n      <td>1</td>\n      <td>1</td>\n      <td>0</td>\n    </tr>\n    <tr>\n      <th>3</th>\n      <td>10004004220</td>\n      <td>2</td>\n      <td>8</td>\n      <td>33</td>\n      <td>1</td>\n      <td>0</td>\n      <td>9</td>\n      <td>0</td>\n      <td>1</td>\n      <td>0</td>\n      <td>1</td>\n    </tr>\n    <tr>\n      <th>4</th>\n      <td>10004004220</td>\n      <td>3</td>\n      <td>0</td>\n      <td>12</td>\n      <td>1</td>\n      <td>1</td>\n      <td>3</td>\n      <td>3</td>\n      <td>2</td>\n      <td>0</td>\n      <td>1</td>\n    </tr>\n    <tr>\n      <th>...</th>\n      <td>...</td>\n      <td>...</td>\n      <td>...</td>\n      <td>...</td>\n      <td>...</td>\n      <td>...</td>\n      <td>...</td>\n      <td>...</td>\n      <td>...</td>\n      <td>...</td>\n      <td>...</td>\n    </tr>\n    <tr>\n      <th>68240</th>\n      <td>13001374515</td>\n      <td>5</td>\n      <td>0</td>\n      <td>15</td>\n      <td>1</td>\n      <td>1</td>\n      <td>9</td>\n      <td>3</td>\n      <td>2</td>\n      <td>1</td>\n      <td>0</td>\n    </tr>\n    <tr>\n      <th>68241</th>\n      <td>13006382723</td>\n      <td>4</td>\n      <td>0</td>\n      <td>16</td>\n      <td>1</td>\n      <td>1</td>\n      <td>2</td>\n      <td>3</td>\n      <td>2</td>\n      <td>1</td>\n      <td>0</td>\n    </tr>\n    <tr>\n      <th>68242</th>\n      <td>13006382723</td>\n      <td>5</td>\n      <td>0</td>\n      <td>8</td>\n      <td>1</td>\n      <td>1</td>\n      <td>3</td>\n      <td>3</td>\n      <td>2</td>\n      <td>0</td>\n      <td>1</td>\n    </tr>\n    <tr>\n      <th>68243</th>\n      <td>13001377517</td>\n      <td>1</td>\n      <td>2</td>\n      <td>61</td>\n      <td>1</td>\n      <td>0</td>\n      <td>3</td>\n      <td>1</td>\n      <td>1</td>\n      <td>1</td>\n      <td>0</td>\n    </tr>\n    <tr>\n      <th>68244</th>\n      <td>13001377517</td>\n      <td>2</td>\n      <td>8</td>\n      <td>49</td>\n      <td>1</td>\n      <td>0</td>\n      <td>9</td>\n      <td>0</td>\n      <td>1</td>\n      <td>0</td>\n      <td>1</td>\n    </tr>\n  </tbody>\n</table>\n<p>68245 rows × 11 columns</p>\n</div>"
     },
     "execution_count": 601,
     "metadata": {},
     "output_type": "execute_result"
    }
   ],
   "source": [
    "cat_columns = ['relation','literacy','studying','degree','occupationalst',\n",
    "               'maritalst']\n",
    "le = LabelEncoder()\n",
    "for column in cat_columns:\n",
    "    R1401P1[column] = le.fit_transform(R1401P1[column].astype(str))\n",
    "\n",
    "R1401P1\n"
   ],
   "metadata": {
    "collapsed": false,
    "ExecuteTime": {
     "end_time": "2024-06-06T18:21:15.908103400Z",
     "start_time": "2024-06-06T18:21:15.626089800Z"
    }
   }
  },
  {
   "cell_type": "code",
   "execution_count": 602,
   "outputs": [
    {
     "data": {
      "text/plain": "           Address  member  Male_count  Female_count    age  literacy  \\\n0      10001000108       5           2             3  46.60  1.000000   \n1      10001000111       3           2             1  27.00  1.000000   \n2      10001000114       1           0             1  49.00  1.000000   \n3      10001000117       4           2             2  38.50  1.000000   \n4      10001000120       4           1             3  49.75  1.000000   \n...            ...     ...         ...           ...    ...       ...   \n19893  13006383810       3           2             1  53.00  0.666667   \n19894  13006383814       2           1             1  25.00  1.000000   \n19895  13006383815       1           1             0  52.00  1.000000   \n19896  13006383820       5           2             3  24.20  0.800000   \n19897  13006383823       4           2             2  26.75  1.000000   \n\n       studying  degree  occupationalst  maritalst  \n0      0.000000       5               0          2  \n1      0.333333       2               4          1  \n2      0.000000       2               1          3  \n3      0.000000       2               0          1  \n4      0.250000       3               0          1  \n...         ...     ...             ...        ...  \n19893  0.000000       3               4          1  \n19894  0.500000       2               4          0  \n19895  0.000000       4               4          2  \n19896  0.400000       3               3          2  \n19897  0.250000       3               4          1  \n\n[19898 rows x 10 columns]",
      "text/html": "<div>\n<style scoped>\n    .dataframe tbody tr th:only-of-type {\n        vertical-align: middle;\n    }\n\n    .dataframe tbody tr th {\n        vertical-align: top;\n    }\n\n    .dataframe thead th {\n        text-align: right;\n    }\n</style>\n<table border=\"1\" class=\"dataframe\">\n  <thead>\n    <tr style=\"text-align: right;\">\n      <th></th>\n      <th>Address</th>\n      <th>member</th>\n      <th>Male_count</th>\n      <th>Female_count</th>\n      <th>age</th>\n      <th>literacy</th>\n      <th>studying</th>\n      <th>degree</th>\n      <th>occupationalst</th>\n      <th>maritalst</th>\n    </tr>\n  </thead>\n  <tbody>\n    <tr>\n      <th>0</th>\n      <td>10001000108</td>\n      <td>5</td>\n      <td>2</td>\n      <td>3</td>\n      <td>46.60</td>\n      <td>1.000000</td>\n      <td>0.000000</td>\n      <td>5</td>\n      <td>0</td>\n      <td>2</td>\n    </tr>\n    <tr>\n      <th>1</th>\n      <td>10001000111</td>\n      <td>3</td>\n      <td>2</td>\n      <td>1</td>\n      <td>27.00</td>\n      <td>1.000000</td>\n      <td>0.333333</td>\n      <td>2</td>\n      <td>4</td>\n      <td>1</td>\n    </tr>\n    <tr>\n      <th>2</th>\n      <td>10001000114</td>\n      <td>1</td>\n      <td>0</td>\n      <td>1</td>\n      <td>49.00</td>\n      <td>1.000000</td>\n      <td>0.000000</td>\n      <td>2</td>\n      <td>1</td>\n      <td>3</td>\n    </tr>\n    <tr>\n      <th>3</th>\n      <td>10001000117</td>\n      <td>4</td>\n      <td>2</td>\n      <td>2</td>\n      <td>38.50</td>\n      <td>1.000000</td>\n      <td>0.000000</td>\n      <td>2</td>\n      <td>0</td>\n      <td>1</td>\n    </tr>\n    <tr>\n      <th>4</th>\n      <td>10001000120</td>\n      <td>4</td>\n      <td>1</td>\n      <td>3</td>\n      <td>49.75</td>\n      <td>1.000000</td>\n      <td>0.250000</td>\n      <td>3</td>\n      <td>0</td>\n      <td>1</td>\n    </tr>\n    <tr>\n      <th>...</th>\n      <td>...</td>\n      <td>...</td>\n      <td>...</td>\n      <td>...</td>\n      <td>...</td>\n      <td>...</td>\n      <td>...</td>\n      <td>...</td>\n      <td>...</td>\n      <td>...</td>\n    </tr>\n    <tr>\n      <th>19893</th>\n      <td>13006383810</td>\n      <td>3</td>\n      <td>2</td>\n      <td>1</td>\n      <td>53.00</td>\n      <td>0.666667</td>\n      <td>0.000000</td>\n      <td>3</td>\n      <td>4</td>\n      <td>1</td>\n    </tr>\n    <tr>\n      <th>19894</th>\n      <td>13006383814</td>\n      <td>2</td>\n      <td>1</td>\n      <td>1</td>\n      <td>25.00</td>\n      <td>1.000000</td>\n      <td>0.500000</td>\n      <td>2</td>\n      <td>4</td>\n      <td>0</td>\n    </tr>\n    <tr>\n      <th>19895</th>\n      <td>13006383815</td>\n      <td>1</td>\n      <td>1</td>\n      <td>0</td>\n      <td>52.00</td>\n      <td>1.000000</td>\n      <td>0.000000</td>\n      <td>4</td>\n      <td>4</td>\n      <td>2</td>\n    </tr>\n    <tr>\n      <th>19896</th>\n      <td>13006383820</td>\n      <td>5</td>\n      <td>2</td>\n      <td>3</td>\n      <td>24.20</td>\n      <td>0.800000</td>\n      <td>0.400000</td>\n      <td>3</td>\n      <td>3</td>\n      <td>2</td>\n    </tr>\n    <tr>\n      <th>19897</th>\n      <td>13006383823</td>\n      <td>4</td>\n      <td>2</td>\n      <td>2</td>\n      <td>26.75</td>\n      <td>1.000000</td>\n      <td>0.250000</td>\n      <td>3</td>\n      <td>4</td>\n      <td>1</td>\n    </tr>\n  </tbody>\n</table>\n<p>19898 rows × 10 columns</p>\n</div>"
     },
     "execution_count": 602,
     "metadata": {},
     "output_type": "execute_result"
    }
   ],
   "source": [
    "new_df =R1401P1.groupby('Address').agg({'member':'count','Male_count':'sum','Female_count':'sum','age':'mean','literacy':'mean','studying':'mean',\n",
    "                                        'degree':(lambda  x:x.value_counts().index[0]),\n",
    "                                        'occupationalst':(lambda  x:x.value_counts().index[0]),'maritalst':(lambda  x:x.value_counts().index[0])}).reset_index()\n",
    "new_df"
   ],
   "metadata": {
    "collapsed": false,
    "ExecuteTime": {
     "end_time": "2024-06-06T18:21:31.212149600Z",
     "start_time": "2024-06-06T18:21:15.702869700Z"
    }
   }
  },
  {
   "cell_type": "code",
   "execution_count": 603,
   "outputs": [],
   "source": [
    "new_df.to_csv(f'{year_name}P1.csv',index=False)"
   ],
   "metadata": {
    "collapsed": false,
    "ExecuteTime": {
     "end_time": "2024-06-06T18:21:31.387544300Z",
     "start_time": "2024-06-06T18:21:31.208200400Z"
    }
   }
  },
  {
   "cell_type": "code",
   "execution_count": 604,
   "outputs": [
    {
     "data": {
      "text/plain": "           Address  member  Male_count  Female_count    age  literacy  \\\n0      10001000108       5           2             3  46.60  1.000000   \n1      10001000111       3           2             1  27.00  1.000000   \n2      10001000114       1           0             1  49.00  1.000000   \n3      10001000117       4           2             2  38.50  1.000000   \n4      10001000120       4           1             3  49.75  1.000000   \n...            ...     ...         ...           ...    ...       ...   \n19893  13006383810       3           2             1  53.00  0.666667   \n19894  13006383814       2           1             1  25.00  1.000000   \n19895  13006383815       1           1             0  52.00  1.000000   \n19896  13006383820       5           2             3  24.20  0.800000   \n19897  13006383823       4           2             2  26.75  1.000000   \n\n       studying  degree  occupationalst  maritalst  \n0      0.000000       5               0          2  \n1      0.333333       2               4          1  \n2      0.000000       2               1          3  \n3      0.000000       2               0          1  \n4      0.250000       3               0          1  \n...         ...     ...             ...        ...  \n19893  0.000000       3               4          1  \n19894  0.500000       2               4          0  \n19895  0.000000       4               4          2  \n19896  0.400000       3               3          2  \n19897  0.250000       3               4          1  \n\n[19898 rows x 10 columns]",
      "text/html": "<div>\n<style scoped>\n    .dataframe tbody tr th:only-of-type {\n        vertical-align: middle;\n    }\n\n    .dataframe tbody tr th {\n        vertical-align: top;\n    }\n\n    .dataframe thead th {\n        text-align: right;\n    }\n</style>\n<table border=\"1\" class=\"dataframe\">\n  <thead>\n    <tr style=\"text-align: right;\">\n      <th></th>\n      <th>Address</th>\n      <th>member</th>\n      <th>Male_count</th>\n      <th>Female_count</th>\n      <th>age</th>\n      <th>literacy</th>\n      <th>studying</th>\n      <th>degree</th>\n      <th>occupationalst</th>\n      <th>maritalst</th>\n    </tr>\n  </thead>\n  <tbody>\n    <tr>\n      <th>0</th>\n      <td>10001000108</td>\n      <td>5</td>\n      <td>2</td>\n      <td>3</td>\n      <td>46.60</td>\n      <td>1.000000</td>\n      <td>0.000000</td>\n      <td>5</td>\n      <td>0</td>\n      <td>2</td>\n    </tr>\n    <tr>\n      <th>1</th>\n      <td>10001000111</td>\n      <td>3</td>\n      <td>2</td>\n      <td>1</td>\n      <td>27.00</td>\n      <td>1.000000</td>\n      <td>0.333333</td>\n      <td>2</td>\n      <td>4</td>\n      <td>1</td>\n    </tr>\n    <tr>\n      <th>2</th>\n      <td>10001000114</td>\n      <td>1</td>\n      <td>0</td>\n      <td>1</td>\n      <td>49.00</td>\n      <td>1.000000</td>\n      <td>0.000000</td>\n      <td>2</td>\n      <td>1</td>\n      <td>3</td>\n    </tr>\n    <tr>\n      <th>3</th>\n      <td>10001000117</td>\n      <td>4</td>\n      <td>2</td>\n      <td>2</td>\n      <td>38.50</td>\n      <td>1.000000</td>\n      <td>0.000000</td>\n      <td>2</td>\n      <td>0</td>\n      <td>1</td>\n    </tr>\n    <tr>\n      <th>4</th>\n      <td>10001000120</td>\n      <td>4</td>\n      <td>1</td>\n      <td>3</td>\n      <td>49.75</td>\n      <td>1.000000</td>\n      <td>0.250000</td>\n      <td>3</td>\n      <td>0</td>\n      <td>1</td>\n    </tr>\n    <tr>\n      <th>...</th>\n      <td>...</td>\n      <td>...</td>\n      <td>...</td>\n      <td>...</td>\n      <td>...</td>\n      <td>...</td>\n      <td>...</td>\n      <td>...</td>\n      <td>...</td>\n      <td>...</td>\n    </tr>\n    <tr>\n      <th>19893</th>\n      <td>13006383810</td>\n      <td>3</td>\n      <td>2</td>\n      <td>1</td>\n      <td>53.00</td>\n      <td>0.666667</td>\n      <td>0.000000</td>\n      <td>3</td>\n      <td>4</td>\n      <td>1</td>\n    </tr>\n    <tr>\n      <th>19894</th>\n      <td>13006383814</td>\n      <td>2</td>\n      <td>1</td>\n      <td>1</td>\n      <td>25.00</td>\n      <td>1.000000</td>\n      <td>0.500000</td>\n      <td>2</td>\n      <td>4</td>\n      <td>0</td>\n    </tr>\n    <tr>\n      <th>19895</th>\n      <td>13006383815</td>\n      <td>1</td>\n      <td>1</td>\n      <td>0</td>\n      <td>52.00</td>\n      <td>1.000000</td>\n      <td>0.000000</td>\n      <td>4</td>\n      <td>4</td>\n      <td>2</td>\n    </tr>\n    <tr>\n      <th>19896</th>\n      <td>13006383820</td>\n      <td>5</td>\n      <td>2</td>\n      <td>3</td>\n      <td>24.20</td>\n      <td>0.800000</td>\n      <td>0.400000</td>\n      <td>3</td>\n      <td>3</td>\n      <td>2</td>\n    </tr>\n    <tr>\n      <th>19897</th>\n      <td>13006383823</td>\n      <td>4</td>\n      <td>2</td>\n      <td>2</td>\n      <td>26.75</td>\n      <td>1.000000</td>\n      <td>0.250000</td>\n      <td>3</td>\n      <td>4</td>\n      <td>1</td>\n    </tr>\n  </tbody>\n</table>\n<p>19898 rows × 10 columns</p>\n</div>"
     },
     "execution_count": 604,
     "metadata": {},
     "output_type": "execute_result"
    }
   ],
   "source": [
    "R1401P1 = pd.read_csv(f'{year_name}P1.csv')\n",
    "R1401P1"
   ],
   "metadata": {
    "collapsed": false,
    "ExecuteTime": {
     "end_time": "2024-06-06T18:21:31.437219600Z",
     "start_time": "2024-06-06T18:21:31.361543600Z"
    }
   }
  }
 ],
 "metadata": {
  "kernelspec": {
   "display_name": "Python 3",
   "language": "python",
   "name": "python3"
  },
  "language_info": {
   "codemirror_mode": {
    "name": "ipython",
    "version": 2
   },
   "file_extension": ".py",
   "mimetype": "text/x-python",
   "name": "python",
   "nbconvert_exporter": "python",
   "pygments_lexer": "ipython2",
   "version": "2.7.6"
  }
 },
 "nbformat": 4,
 "nbformat_minor": 0
}
