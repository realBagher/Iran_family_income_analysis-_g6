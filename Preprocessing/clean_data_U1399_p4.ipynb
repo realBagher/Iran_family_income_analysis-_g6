{
 "cells": [
  {
   "cell_type": "code",
   "execution_count": 96,
   "id": "5dd496d1-03f6-4d80-9b70-48c8b384f9d3",
   "metadata": {},
   "outputs": [],
   "source": [
    "import pandas as pd\n",
    "import numpy as np\n",
    "import seaborn as sns\n",
    "import pickle\n",
    "import matplotlib.pyplot as plt\n",
    "from IPython.display import display\n",
    "from sklearn.decomposition import PCA\n",
    "from sklearn.preprocessing import StandardScaler\n",
    "from sklearn.model_selection import train_test_split, GridSearchCV, cross_val_score, StratifiedKFold\n",
    "from sklearn.feature_selection import SelectFromModel, RFE\n",
    "from sklearn.tree import DecisionTreeClassifier\n",
    "from sklearn.ensemble import RandomForestClassifier\n",
    "from sklearn.metrics import classification_report, accuracy_score, confusion_matrix, precision_score, recall_score, f1_score\n",
    "from sklearn.ensemble import GradientBoostingClassifier\n",
    "import xgboost as xgb\n",
    "from sklearn.preprocessing import LabelEncoder\n",
    "from sklearn.neighbors import KNeighborsClassifier\n",
    "import statistics\n",
    "#import missingno as msno"
   ]
  },
  {
   "cell_type": "code",
   "execution_count": 97,
   "id": "3f9039af-dc61-4864-a03d-a603e6d19d54",
   "metadata": {},
   "outputs": [],
   "source": [
    "path_file = 'U99.xlsx'\n",
    "sheets_excel = pd.read_excel('U99.xlsx',sheet_name=None)"
   ]
  },
  {
   "cell_type": "code",
   "execution_count": 98,
   "id": "d5313571-9efe-4742-91e2-8c5a9dfb083f",
   "metadata": {},
   "outputs": [],
   "source": [
    "for name in list(sheets_excel.keys()):\n",
    "    sheets_excel[name].to_csv(name+'.csv', index=False)"
   ]
  },
  {
   "cell_type": "markdown",
   "id": "fc40c815-377e-4135-be8f-c0dc1f051015",
   "metadata": {},
   "source": [
    "### P4_S01"
   ]
  },
  {
   "cell_type": "code",
   "execution_count": 99,
   "id": "4057d338-f804-48db-af07-861ca9a870b4",
   "metadata": {},
   "outputs": [],
   "source": [
    "DF_P4_S1 = pd.read_csv('U99P4S01.csv')"
   ]
  },
  {
   "cell_type": "code",
   "execution_count": 100,
   "id": "cee54143-93a3-4aa1-9181-ce959cb0f086",
   "metadata": {},
   "outputs": [
    {
     "name": "stdout",
     "output_type": "stream",
     "text": [
      "<class 'pandas.core.frame.DataFrame'>\n",
      "RangeIndex: 12186 entries, 0 to 12185\n",
      "Data columns (total 19 columns):\n",
      " #   Column         Non-Null Count  Dtype  \n",
      "---  ------         --------------  -----  \n",
      " 0   Address        12186 non-null  int64  \n",
      " 1   member         12186 non-null  int64  \n",
      " 2   employed_w     12186 non-null  int64  \n",
      " 3   ISCO_w         12186 non-null  int64  \n",
      " 4   ISIC_w         12186 non-null  int64  \n",
      " 5   status_w       12186 non-null  int64  \n",
      " 6   hours_w        11381 non-null  float64\n",
      " 7   days_w         11383 non-null  float64\n",
      " 8   income_w_m     12186 non-null  int64  \n",
      " 9   income_w_y     12186 non-null  int64  \n",
      " 10  wage_w_m       12180 non-null  float64\n",
      " 11  wage_w_y       12186 non-null  int64  \n",
      " 12  perk_w_m       12183 non-null  float64\n",
      " 13  perk_w_y       12186 non-null  int64  \n",
      " 14  netincome_w_m  12186 non-null  int64  \n",
      " 15  netincome_w_y  12186 non-null  int64  \n",
      " 16  Fasl           12186 non-null  int64  \n",
      " 17  year           12186 non-null  int64  \n",
      " 18  DYCOL00        0 non-null      float64\n",
      "dtypes: float64(5), int64(14)\n",
      "memory usage: 1.8 MB\n"
     ]
    }
   ],
   "source": [
    "DF_P4_S1.info()"
   ]
  },
  {
   "cell_type": "markdown",
   "id": "f087010e-23ac-4029-bd99-5408095e75bc",
   "metadata": {},
   "source": [
    "<p dir=rtl style=\"direction: rtl;text-align: justify;line-height:200%;font-family:vazir;font-size:medium\">\n",
    "<font face=\"vazir\" size=5 color= orange>\n",
    "ستون DYcol00 کامل nan است."
   ]
  },
  {
   "cell_type": "code",
   "execution_count": 101,
   "id": "3c0a5108-e7f3-4a1e-a182-e25c43b29fe7",
   "metadata": {},
   "outputs": [],
   "source": [
    "DF_P4_S1.drop(['DYCOL00'], axis=1, inplace=True)"
   ]
  },
  {
   "cell_type": "markdown",
   "id": "7e57539b-5ebc-4b34-9bb2-f89ad3afe262",
   "metadata": {},
   "source": [
    "<p dir=rtl style=\"direction: rtl;text-align: justify;line-height:200%;font-family:vazir;font-size:medium\">\n",
    "<font face=\"vazir\" size=5 color= orange>\n",
    "همبستگی ستون‌های income_w , wage_w, netincome_w مورد برسی قرار گرفت و چون همستگی ستون income در سال‌های دیگه کم بود فقط ستون wage_w حذف میشود."
   ]
  },
  {
   "cell_type": "code",
   "execution_count": 102,
   "id": "f115cfa1-2730-43eb-9e85-6738100ce645",
   "metadata": {},
   "outputs": [
    {
     "data": {
      "text/html": [
       "<div>\n",
       "<style scoped>\n",
       "    .dataframe tbody tr th:only-of-type {\n",
       "        vertical-align: middle;\n",
       "    }\n",
       "\n",
       "    .dataframe tbody tr th {\n",
       "        vertical-align: top;\n",
       "    }\n",
       "\n",
       "    .dataframe thead th {\n",
       "        text-align: right;\n",
       "    }\n",
       "</style>\n",
       "<table border=\"1\" class=\"dataframe\">\n",
       "  <thead>\n",
       "    <tr style=\"text-align: right;\">\n",
       "      <th></th>\n",
       "      <th>income_w_m</th>\n",
       "      <th>wage_w_m</th>\n",
       "      <th>netincome_w_m</th>\n",
       "    </tr>\n",
       "  </thead>\n",
       "  <tbody>\n",
       "    <tr>\n",
       "      <th>income_w_m</th>\n",
       "      <td>1.000000</td>\n",
       "      <td>0.792197</td>\n",
       "      <td>0.804610</td>\n",
       "    </tr>\n",
       "    <tr>\n",
       "      <th>wage_w_m</th>\n",
       "      <td>0.792197</td>\n",
       "      <td>1.000000</td>\n",
       "      <td>0.983115</td>\n",
       "    </tr>\n",
       "    <tr>\n",
       "      <th>netincome_w_m</th>\n",
       "      <td>0.804610</td>\n",
       "      <td>0.983115</td>\n",
       "      <td>1.000000</td>\n",
       "    </tr>\n",
       "  </tbody>\n",
       "</table>\n",
       "</div>"
      ],
      "text/plain": [
       "               income_w_m  wage_w_m  netincome_w_m\n",
       "income_w_m       1.000000  0.792197       0.804610\n",
       "wage_w_m         0.792197  1.000000       0.983115\n",
       "netincome_w_m    0.804610  0.983115       1.000000"
      ]
     },
     "execution_count": 102,
     "metadata": {},
     "output_type": "execute_result"
    }
   ],
   "source": [
    "DF_P4_S1[['income_w_m', 'wage_w_m', 'netincome_w_m']].corr()"
   ]
  },
  {
   "cell_type": "code",
   "execution_count": 103,
   "id": "9d3a559e-8b81-429c-8bcc-b3a3991ea6b9",
   "metadata": {},
   "outputs": [
    {
     "data": {
      "text/html": [
       "<div>\n",
       "<style scoped>\n",
       "    .dataframe tbody tr th:only-of-type {\n",
       "        vertical-align: middle;\n",
       "    }\n",
       "\n",
       "    .dataframe tbody tr th {\n",
       "        vertical-align: top;\n",
       "    }\n",
       "\n",
       "    .dataframe thead th {\n",
       "        text-align: right;\n",
       "    }\n",
       "</style>\n",
       "<table border=\"1\" class=\"dataframe\">\n",
       "  <thead>\n",
       "    <tr style=\"text-align: right;\">\n",
       "      <th></th>\n",
       "      <th>income_w_y</th>\n",
       "      <th>wage_w_y</th>\n",
       "      <th>netincome_w_y</th>\n",
       "    </tr>\n",
       "  </thead>\n",
       "  <tbody>\n",
       "    <tr>\n",
       "      <th>income_w_y</th>\n",
       "      <td>1.000000</td>\n",
       "      <td>0.784004</td>\n",
       "      <td>0.797084</td>\n",
       "    </tr>\n",
       "    <tr>\n",
       "      <th>wage_w_y</th>\n",
       "      <td>0.784004</td>\n",
       "      <td>1.000000</td>\n",
       "      <td>0.991536</td>\n",
       "    </tr>\n",
       "    <tr>\n",
       "      <th>netincome_w_y</th>\n",
       "      <td>0.797084</td>\n",
       "      <td>0.991536</td>\n",
       "      <td>1.000000</td>\n",
       "    </tr>\n",
       "  </tbody>\n",
       "</table>\n",
       "</div>"
      ],
      "text/plain": [
       "               income_w_y  wage_w_y  netincome_w_y\n",
       "income_w_y       1.000000  0.784004       0.797084\n",
       "wage_w_y         0.784004  1.000000       0.991536\n",
       "netincome_w_y    0.797084  0.991536       1.000000"
      ]
     },
     "execution_count": 103,
     "metadata": {},
     "output_type": "execute_result"
    }
   ],
   "source": [
    "DF_P4_S1[['income_w_y', 'wage_w_y', 'netincome_w_y']].corr()"
   ]
  },
  {
   "cell_type": "code",
   "execution_count": 104,
   "id": "ed34b0aa-82c8-48e1-b029-5cf63a01bb4e",
   "metadata": {},
   "outputs": [],
   "source": [
    "DF_P4_S1.drop(['wage_w_m'], axis=1 , inplace= True)\n",
    "DF_P4_S1.drop(['wage_w_y'], axis=1 , inplace= True)"
   ]
  },
  {
   "cell_type": "markdown",
   "id": "246a30e3-ca34-4961-8b46-86ddc63cec73",
   "metadata": {},
   "source": [
    "<p dir=rtl style=\"direction: rtl;text-align: justify;line-height:200%;font-family:vazir;font-size:medium\">\n",
    "<font face=\"vazir\" size=5 color= orange>\n",
    "با توجه به اطلاعات زیر ستون‌های employed_w, status_w, perk_w_m دارای imblance هستند بنابراین حذف می‌کنیم."
   ]
  },
  {
   "cell_type": "code",
   "execution_count": 105,
   "id": "4ceed37f-7b18-4ce1-b198-bf537699d911",
   "metadata": {},
   "outputs": [
    {
     "name": "stdout",
     "output_type": "stream",
     "text": [
      "        Address 0.000492\n",
      "         member 0.666913\n",
      "     employed_w 0.916462\n",
      "         ISCO_w 0.178319\n",
      "         ISIC_w 0.182505\n",
      "       status_w 0.769408\n",
      "        hours_w 0.505170\n",
      "         days_w 0.506975\n",
      "     income_w_m 0.093058\n",
      "     income_w_y 0.039800\n",
      "       perk_w_m 0.930822\n",
      "       perk_w_y 0.579025\n",
      "  netincome_w_m 0.093304\n",
      "  netincome_w_y 0.039307\n",
      "           Fasl 0.253816\n",
      "           year 1.000000\n"
     ]
    }
   ],
   "source": [
    "for col in DF_P4_S1.columns:\n",
    " print(f'{col :>15} {(DF_P4_S1[col].value_counts()/len(DF_P4_S1)).max():f}')"
   ]
  },
  {
   "cell_type": "code",
   "execution_count": 106,
   "id": "abf31e6c-2d81-4362-be94-ca82645bda71",
   "metadata": {},
   "outputs": [],
   "source": [
    "DF_P4_S1.drop(['employed_w', 'status_w',  'perk_w_m'], inplace=True, axis=1)"
   ]
  },
  {
   "cell_type": "code",
   "execution_count": 107,
   "id": "05cee4ff-90ef-46cf-98eb-369c50b87727",
   "metadata": {},
   "outputs": [
    {
     "data": {
      "text/plain": [
       "Address            0\n",
       "member             0\n",
       "ISCO_w             0\n",
       "ISIC_w             0\n",
       "hours_w          805\n",
       "days_w           803\n",
       "income_w_m         0\n",
       "income_w_y         0\n",
       "perk_w_y           0\n",
       "netincome_w_m      0\n",
       "netincome_w_y      0\n",
       "Fasl               0\n",
       "year               0\n",
       "dtype: int64"
      ]
     },
     "execution_count": 107,
     "metadata": {},
     "output_type": "execute_result"
    }
   ],
   "source": [
    "DF_P4_S1.isna().sum()"
   ]
  },
  {
   "cell_type": "markdown",
   "id": "436cdd83-bda6-4fcd-95e3-c3254ae1c20b",
   "metadata": {},
   "source": [
    "<p dir=rtl style=\"direction: rtl;text-align: justify;line-height:200%;font-family:vazir;font-size:medium\">\n",
    "<font face=\"vazir\" size=5 color= orange>\n",
    "ستون‌های day_w , hours_w با گروه بندی روی ISCO_w, ISIC_w پر می‌کنیم و ما بقی را با میانه کل داده‌ها پر می‌کنیم."
   ]
  },
  {
   "cell_type": "code",
   "execution_count": 108,
   "id": "6de147cb-5783-475e-90e9-87d642a69a8e",
   "metadata": {},
   "outputs": [],
   "source": [
    "temp = DF_P4_S1.groupby(['ISCO_w', 'ISIC_w' ])[['hours_w','days_w']].transform('median')\n",
    "#temp = np.floor(temp).astype(pd.Float64Dtype())\n",
    "DF_P4_S1.loc[DF_P4_S1.hours_w.isna(), 'hours_w'] = temp.loc[DF_P4_S1.hours_w.isna(), 'hours_w']\n",
    "DF_P4_S1.loc[DF_P4_S1.days_w.isna(), 'days_w'] = temp.loc[DF_P4_S1.days_w.isna(), 'days_w']"
   ]
  },
  {
   "cell_type": "code",
   "execution_count": 109,
   "id": "490a12db-5c09-40f4-b8a5-2f4cc12f60e5",
   "metadata": {},
   "outputs": [
    {
     "data": {
      "text/plain": [
       "Address            0\n",
       "member             0\n",
       "ISCO_w             0\n",
       "ISIC_w             0\n",
       "hours_w          102\n",
       "days_w           103\n",
       "income_w_m         0\n",
       "income_w_y         0\n",
       "perk_w_y           0\n",
       "netincome_w_m      0\n",
       "netincome_w_y      0\n",
       "Fasl               0\n",
       "year               0\n",
       "dtype: int64"
      ]
     },
     "execution_count": 109,
     "metadata": {},
     "output_type": "execute_result"
    }
   ],
   "source": [
    "DF_P4_S1.isna().sum()"
   ]
  },
  {
   "cell_type": "code",
   "execution_count": 110,
   "id": "ad91d730-a7ed-4492-9975-c8d5b0707792",
   "metadata": {},
   "outputs": [],
   "source": [
    "DF_P4_S1.hours_w.fillna(DF_P4_S1.hours_w.median(),inplace= True)\n",
    "DF_P4_S1.days_w.fillna(DF_P4_S1.days_w.median(), inplace= True)"
   ]
  },
  {
   "cell_type": "code",
   "execution_count": 111,
   "id": "76e4b20a-60d4-42c1-b937-7733d6ff17f9",
   "metadata": {
    "scrolled": true
   },
   "outputs": [
    {
     "data": {
      "text/plain": [
       "Address          0\n",
       "member           0\n",
       "ISCO_w           0\n",
       "ISIC_w           0\n",
       "hours_w          0\n",
       "days_w           0\n",
       "income_w_m       0\n",
       "income_w_y       0\n",
       "perk_w_y         0\n",
       "netincome_w_m    0\n",
       "netincome_w_y    0\n",
       "Fasl             0\n",
       "year             0\n",
       "dtype: int64"
      ]
     },
     "execution_count": 111,
     "metadata": {},
     "output_type": "execute_result"
    }
   ],
   "source": [
    "DF_P4_S1.isna().sum()"
   ]
  },
  {
   "cell_type": "code",
   "execution_count": 112,
   "id": "4e95959c-c580-4780-80c0-4d1cb9111723",
   "metadata": {},
   "outputs": [],
   "source": [
    "path_file = 'U1399_P4_S01'\n",
    "DF_P4_S1.to_csv(path_file+'.csv', index=False)"
   ]
  },
  {
   "cell_type": "markdown",
   "id": "4ddb6f69-ef0e-4ca5-ad30-480e401acf4b",
   "metadata": {},
   "source": [
    "### P4_S02"
   ]
  },
  {
   "cell_type": "code",
   "execution_count": 32,
   "id": "797b1780-dbd7-4120-9dbc-2bc11cab594b",
   "metadata": {},
   "outputs": [
    {
     "data": {
      "text/html": [
       "<div>\n",
       "<style scoped>\n",
       "    .dataframe tbody tr th:only-of-type {\n",
       "        vertical-align: middle;\n",
       "    }\n",
       "\n",
       "    .dataframe tbody tr th {\n",
       "        vertical-align: top;\n",
       "    }\n",
       "\n",
       "    .dataframe thead th {\n",
       "        text-align: right;\n",
       "    }\n",
       "</style>\n",
       "<table border=\"1\" class=\"dataframe\">\n",
       "  <thead>\n",
       "    <tr style=\"text-align: right;\">\n",
       "      <th></th>\n",
       "      <th>Address</th>\n",
       "      <th>member</th>\n",
       "      <th>employed_s</th>\n",
       "      <th>ISCO_s</th>\n",
       "      <th>ISIC_s</th>\n",
       "      <th>status_s</th>\n",
       "      <th>agriculture</th>\n",
       "      <th>hours_s</th>\n",
       "      <th>days_s</th>\n",
       "      <th>cost_employment</th>\n",
       "      <th>cost_raw</th>\n",
       "      <th>cost_machinery</th>\n",
       "      <th>cost_others</th>\n",
       "      <th>cost_tax</th>\n",
       "      <th>sale</th>\n",
       "      <th>income_s_y</th>\n",
       "      <th>Fasl</th>\n",
       "      <th>year</th>\n",
       "      <th>DYCOL00</th>\n",
       "    </tr>\n",
       "  </thead>\n",
       "  <tbody>\n",
       "    <tr>\n",
       "      <th>0</th>\n",
       "      <td>10009008518</td>\n",
       "      <td>1</td>\n",
       "      <td>1</td>\n",
       "      <td>6121.0</td>\n",
       "      <td>1440.0</td>\n",
       "      <td>5</td>\n",
       "      <td>1</td>\n",
       "      <td>6.0</td>\n",
       "      <td>7.0</td>\n",
       "      <td>24000000.0</td>\n",
       "      <td>200000000.0</td>\n",
       "      <td>NaN</td>\n",
       "      <td>9000000.0</td>\n",
       "      <td>NaN</td>\n",
       "      <td>300000000.0</td>\n",
       "      <td>67000000</td>\n",
       "      <td>1</td>\n",
       "      <td>1399</td>\n",
       "      <td>NaN</td>\n",
       "    </tr>\n",
       "    <tr>\n",
       "      <th>1</th>\n",
       "      <td>10011009714</td>\n",
       "      <td>1</td>\n",
       "      <td>1</td>\n",
       "      <td>7412.0</td>\n",
       "      <td>95220.0</td>\n",
       "      <td>5</td>\n",
       "      <td>2</td>\n",
       "      <td>10.0</td>\n",
       "      <td>6.0</td>\n",
       "      <td>NaN</td>\n",
       "      <td>100000000.0</td>\n",
       "      <td>20000000.0</td>\n",
       "      <td>35000000.0</td>\n",
       "      <td>NaN</td>\n",
       "      <td>335000000.0</td>\n",
       "      <td>180000000</td>\n",
       "      <td>1</td>\n",
       "      <td>1399</td>\n",
       "      <td>NaN</td>\n",
       "    </tr>\n",
       "    <tr>\n",
       "      <th>2</th>\n",
       "      <td>10005004618</td>\n",
       "      <td>1</td>\n",
       "      <td>1</td>\n",
       "      <td>7233.0</td>\n",
       "      <td>33120.0</td>\n",
       "      <td>5</td>\n",
       "      <td>2</td>\n",
       "      <td>7.0</td>\n",
       "      <td>7.0</td>\n",
       "      <td>NaN</td>\n",
       "      <td>120000000.0</td>\n",
       "      <td>30000000.0</td>\n",
       "      <td>90000000.0</td>\n",
       "      <td>5000000.0</td>\n",
       "      <td>445000000.0</td>\n",
       "      <td>200000000</td>\n",
       "      <td>1</td>\n",
       "      <td>1399</td>\n",
       "      <td>NaN</td>\n",
       "    </tr>\n",
       "    <tr>\n",
       "      <th>3</th>\n",
       "      <td>10006005924</td>\n",
       "      <td>1</td>\n",
       "      <td>1</td>\n",
       "      <td>7517.0</td>\n",
       "      <td>10711.0</td>\n",
       "      <td>4</td>\n",
       "      <td>2</td>\n",
       "      <td>10.0</td>\n",
       "      <td>7.0</td>\n",
       "      <td>18000000.0</td>\n",
       "      <td>160000000.0</td>\n",
       "      <td>2000000.0</td>\n",
       "      <td>10000000.0</td>\n",
       "      <td>NaN</td>\n",
       "      <td>430000000.0</td>\n",
       "      <td>240000000</td>\n",
       "      <td>1</td>\n",
       "      <td>1399</td>\n",
       "      <td>NaN</td>\n",
       "    </tr>\n",
       "    <tr>\n",
       "      <th>4</th>\n",
       "      <td>10009008517</td>\n",
       "      <td>1</td>\n",
       "      <td>1</td>\n",
       "      <td>8322.0</td>\n",
       "      <td>49230.0</td>\n",
       "      <td>5</td>\n",
       "      <td>2</td>\n",
       "      <td>7.0</td>\n",
       "      <td>6.0</td>\n",
       "      <td>NaN</td>\n",
       "      <td>35000000.0</td>\n",
       "      <td>22000000.0</td>\n",
       "      <td>20000000.0</td>\n",
       "      <td>3000000.0</td>\n",
       "      <td>190000000.0</td>\n",
       "      <td>110000000</td>\n",
       "      <td>1</td>\n",
       "      <td>1399</td>\n",
       "      <td>NaN</td>\n",
       "    </tr>\n",
       "  </tbody>\n",
       "</table>\n",
       "</div>"
      ],
      "text/plain": [
       "       Address  member  employed_s  ISCO_s   ISIC_s  status_s  agriculture  \\\n",
       "0  10009008518       1           1  6121.0   1440.0         5            1   \n",
       "1  10011009714       1           1  7412.0  95220.0         5            2   \n",
       "2  10005004618       1           1  7233.0  33120.0         5            2   \n",
       "3  10006005924       1           1  7517.0  10711.0         4            2   \n",
       "4  10009008517       1           1  8322.0  49230.0         5            2   \n",
       "\n",
       "   hours_s  days_s  cost_employment     cost_raw  cost_machinery  cost_others  \\\n",
       "0      6.0     7.0       24000000.0  200000000.0             NaN    9000000.0   \n",
       "1     10.0     6.0              NaN  100000000.0      20000000.0   35000000.0   \n",
       "2      7.0     7.0              NaN  120000000.0      30000000.0   90000000.0   \n",
       "3     10.0     7.0       18000000.0  160000000.0       2000000.0   10000000.0   \n",
       "4      7.0     6.0              NaN   35000000.0      22000000.0   20000000.0   \n",
       "\n",
       "    cost_tax         sale  income_s_y  Fasl  year  DYCOL00  \n",
       "0        NaN  300000000.0    67000000     1  1399      NaN  \n",
       "1        NaN  335000000.0   180000000     1  1399      NaN  \n",
       "2  5000000.0  445000000.0   200000000     1  1399      NaN  \n",
       "3        NaN  430000000.0   240000000     1  1399      NaN  \n",
       "4  3000000.0  190000000.0   110000000     1  1399      NaN  "
      ]
     },
     "execution_count": 32,
     "metadata": {},
     "output_type": "execute_result"
    }
   ],
   "source": [
    "DF_P4_S2 = pd.read_csv('U99P4S02.csv')\n",
    "DF_P4_S2.head()"
   ]
  },
  {
   "cell_type": "code",
   "execution_count": 33,
   "id": "4d4b3333-5c5b-4840-84c2-5940ecfb3149",
   "metadata": {},
   "outputs": [
    {
     "name": "stdout",
     "output_type": "stream",
     "text": [
      "<class 'pandas.core.frame.DataFrame'>\n",
      "RangeIndex: 6377 entries, 0 to 6376\n",
      "Data columns (total 19 columns):\n",
      " #   Column           Non-Null Count  Dtype  \n",
      "---  ------           --------------  -----  \n",
      " 0   Address          6377 non-null   int64  \n",
      " 1   member           6377 non-null   int64  \n",
      " 2   employed_s       6377 non-null   int64  \n",
      " 3   ISCO_s           6376 non-null   float64\n",
      " 4   ISIC_s           6375 non-null   float64\n",
      " 5   status_s         6377 non-null   int64  \n",
      " 6   agriculture      6377 non-null   int64  \n",
      " 7   hours_s          6252 non-null   float64\n",
      " 8   days_s           6253 non-null   float64\n",
      " 9   cost_employment  5477 non-null   float64\n",
      " 10  cost_raw         6125 non-null   float64\n",
      " 11  cost_machinery   5890 non-null   float64\n",
      " 12  cost_others      6052 non-null   float64\n",
      " 13  cost_tax         5454 non-null   float64\n",
      " 14  sale             6327 non-null   float64\n",
      " 15  income_s_y       6377 non-null   int64  \n",
      " 16  Fasl             6377 non-null   int64  \n",
      " 17  year             6377 non-null   int64  \n",
      " 18  DYCOL00          0 non-null      float64\n",
      "dtypes: float64(11), int64(8)\n",
      "memory usage: 946.7 KB\n"
     ]
    }
   ],
   "source": [
    "DF_P4_S2.info()"
   ]
  },
  {
   "cell_type": "code",
   "execution_count": 34,
   "id": "d733ec9f-4f81-4014-b406-ccf0d317e635",
   "metadata": {},
   "outputs": [],
   "source": [
    "DF_P4_S2.drop(['DYCOL00'], axis=1 , inplace= True)"
   ]
  },
  {
   "cell_type": "markdown",
   "id": "42f2e3a7-f730-49a8-a074-d83083a7df3f",
   "metadata": {},
   "source": [
    "<p dir=rtl style=\"direction: rtl;text-align: justify;line-height:200%;font-family:vazir;font-size:medium\">\n",
    "<font face=\"vazir\" size=5 color= orange>\n",
    "ستون‌های cost جمع می‌شوند و در ستون جدیدی به نام Total_cost ذخیره می‌شوند."
   ]
  },
  {
   "cell_type": "code",
   "execution_count": 35,
   "id": "db352c6b-521f-4591-887e-f8078b768904",
   "metadata": {},
   "outputs": [],
   "source": [
    "del_columns = ['cost_employment', 'cost_raw', 'cost_machinery', 'cost_others', 'cost_tax']\n",
    "DF_P4_S2.insert(9,'Total_cost', DF_P4_S2.loc[:,'cost_employment':'cost_tax' ].sum(axis=1))\n",
    "DF_P4_S2.drop(del_columns, axis=1, inplace=True)"
   ]
  },
  {
   "cell_type": "code",
   "execution_count": 36,
   "id": "8e3ed9ee-db15-40eb-b618-9c93932be817",
   "metadata": {},
   "outputs": [
    {
     "data": {
      "text/plain": [
       "Address          0\n",
       "member           0\n",
       "employed_s       0\n",
       "ISCO_s           1\n",
       "ISIC_s           2\n",
       "status_s         0\n",
       "agriculture      0\n",
       "hours_s        125\n",
       "days_s         124\n",
       "Total_cost       0\n",
       "sale            50\n",
       "income_s_y       0\n",
       "Fasl             0\n",
       "year             0\n",
       "dtype: int64"
      ]
     },
     "execution_count": 36,
     "metadata": {},
     "output_type": "execute_result"
    }
   ],
   "source": [
    "DF_P4_S2.isna().sum()"
   ]
  },
  {
   "cell_type": "markdown",
   "id": "0366199f-2d99-47d7-93fe-f8c7a85173bb",
   "metadata": {},
   "source": [
    "<p dir=rtl style=\"direction: rtl;text-align: justify;line-height:200%;font-family:vazir;font-size:medium\">\n",
    "<font face=\"vazir\" size=5 color= orange>\n",
    "ستون‌های day_s , hours_s با گروه بندی روی ISCO_s, ISIC_s پر می‌کنیم و ما بقی را با میانه کل داده‌ها پر می‌کنیم."
   ]
  },
  {
   "cell_type": "code",
   "execution_count": 37,
   "id": "1d444551-8343-4b2c-b355-c4b3c7de3e8b",
   "metadata": {},
   "outputs": [],
   "source": [
    "temp = DF_P4_S2.groupby(['ISCO_s', 'ISIC_s' ])[['hours_s','days_s']].transform('median')\n",
    "\n",
    "DF_P4_S2.loc[DF_P4_S2.hours_s.isna(), 'hours_s'] = temp.loc[DF_P4_S2.hours_s.isna(), 'hours_s']\n",
    "DF_P4_S2.loc[DF_P4_S2.days_s.isna(), 'days_s'] = temp.loc[DF_P4_S2.days_s.isna(), 'days_s']\n",
    "\n",
    "DF_P4_S2.hours_s.fillna(DF_P4_S2.hours_s.median(),inplace= True)\n",
    "DF_P4_S2.days_s.fillna(DF_P4_S2.days_s.median(), inplace= True)"
   ]
  },
  {
   "cell_type": "code",
   "execution_count": 38,
   "id": "53708c7c-4cca-453a-ae4f-6ee365c95206",
   "metadata": {},
   "outputs": [
    {
     "data": {
      "text/plain": [
       "Address         0\n",
       "member          0\n",
       "employed_s      0\n",
       "ISCO_s          1\n",
       "ISIC_s          2\n",
       "status_s        0\n",
       "agriculture     0\n",
       "hours_s         0\n",
       "days_s          0\n",
       "Total_cost      0\n",
       "sale           50\n",
       "income_s_y      0\n",
       "Fasl            0\n",
       "year            0\n",
       "dtype: int64"
      ]
     },
     "execution_count": 38,
     "metadata": {},
     "output_type": "execute_result"
    }
   ],
   "source": [
    "DF_P4_S2.isna().sum()"
   ]
  },
  {
   "cell_type": "code",
   "execution_count": 39,
   "id": "8f108cac-9606-4fd2-b10e-affb10a0d3e0",
   "metadata": {},
   "outputs": [],
   "source": [
    "DF_P4_S2.dropna(subset=['ISCO_s', 'ISIC_s' ],inplace=True)"
   ]
  },
  {
   "cell_type": "code",
   "execution_count": 40,
   "id": "3c13a94c-5a4e-43ed-810a-588882dc13eb",
   "metadata": {},
   "outputs": [
    {
     "data": {
      "text/plain": [
       "Address         0\n",
       "member          0\n",
       "employed_s      0\n",
       "ISCO_s          0\n",
       "ISIC_s          0\n",
       "status_s        0\n",
       "agriculture     0\n",
       "hours_s         0\n",
       "days_s          0\n",
       "Total_cost      0\n",
       "sale           50\n",
       "income_s_y      0\n",
       "Fasl            0\n",
       "year            0\n",
       "dtype: int64"
      ]
     },
     "execution_count": 40,
     "metadata": {},
     "output_type": "execute_result"
    }
   ],
   "source": [
    "DF_P4_S2.isna().sum()"
   ]
  },
  {
   "cell_type": "markdown",
   "id": "f42ad2dd-74ed-4ac7-924e-7de450c95b18",
   "metadata": {},
   "source": [
    "<p dir=rtl style=\"direction: rtl;text-align: justify;line-height:200%;font-family:vazir;font-size:medium\">\n",
    "<font face=\"vazir\" size=5 color= orange>\n",
    "ستون sale\n",
    "همان طور که در کد زیر نشان داده شده است تقریبن در 100 درصد موارد nan در ستون income_s_y مقدار0 دارد."
   ]
  },
  {
   "cell_type": "code",
   "execution_count": 41,
   "id": "470da841-ad33-4eb3-96d9-3a1bcc1d8b59",
   "metadata": {},
   "outputs": [
    {
     "data": {
      "text/plain": [
       "income_s_y\n",
       "0            98.0\n",
       "170000000     2.0\n",
       "Name: count, dtype: float64"
      ]
     },
     "execution_count": 41,
     "metadata": {},
     "output_type": "execute_result"
    }
   ],
   "source": [
    "DF_P4_S2.loc[DF_P4_S2.sale.isna()].income_s_y.value_counts() / DF_P4_S2.sale.isna().sum() * 100"
   ]
  },
  {
   "cell_type": "code",
   "execution_count": 42,
   "id": "097776c8-0795-4219-8ca5-3ea80703e716",
   "metadata": {},
   "outputs": [
    {
     "data": {
      "text/plain": [
       "status_s\n",
       "6    49\n",
       "5     1\n",
       "Name: count, dtype: int64"
      ]
     },
     "execution_count": 42,
     "metadata": {},
     "output_type": "execute_result"
    }
   ],
   "source": [
    "DF_P4_S2.loc[DF_P4_S2.sale.isna()].status_s.value_counts()"
   ]
  },
  {
   "cell_type": "code",
   "execution_count": 44,
   "id": "a1e356e0-2e99-4928-b996-b028bb369c31",
   "metadata": {},
   "outputs": [],
   "source": [
    "DF_P4_S2.fillna(0, inplace=True)"
   ]
  },
  {
   "cell_type": "markdown",
   "id": "9953d962-2749-4713-a846-0ee887e3b97e",
   "metadata": {},
   "source": [
    "<p dir=rtl style=\"direction: rtl;text-align: justify;line-height:200%;font-family:vazir;font-size:medium\">\n",
    "<font face=\"vazir\" size=5 color= orange>\n",
    "ستون employed_s به دلیل imblance حذف می‌کنیم."
   ]
  },
  {
   "cell_type": "code",
   "execution_count": 45,
   "id": "d03457a0-a2f6-4b0a-8b55-f6faf488d2e9",
   "metadata": {},
   "outputs": [
    {
     "name": "stdout",
     "output_type": "stream",
     "text": [
      "        Address 0.001098\n",
      "         member 0.788706\n",
      "     employed_s 0.968471\n",
      "         ISCO_s 0.192784\n",
      "         ISIC_s 0.117333\n",
      "       status_s 0.838275\n",
      "    agriculture 0.780549\n",
      "        hours_s 0.280314\n",
      "         days_s 0.459922\n",
      "     Total_cost 0.180706\n",
      "           sale 0.066824\n",
      "     income_s_y 0.061020\n",
      "           Fasl 0.253647\n",
      "           year 1.000000\n"
     ]
    }
   ],
   "source": [
    "for col in DF_P4_S2.columns:\n",
    " print(f'{col :>15} {(DF_P4_S2[col].value_counts()/len(DF_P4_S2)).max():f}')"
   ]
  },
  {
   "cell_type": "code",
   "execution_count": 46,
   "id": "dfe2f96e-85db-4f9f-b1f8-162b01b61fe7",
   "metadata": {},
   "outputs": [],
   "source": [
    "DF_P4_S2.drop(['employed_s'],axis=1, inplace=True)"
   ]
  },
  {
   "cell_type": "code",
   "execution_count": 47,
   "id": "f3e5f0a3-b1d5-4cb6-ac90-f17fdf7bd66e",
   "metadata": {},
   "outputs": [
    {
     "data": {
      "text/plain": [
       "Address        0\n",
       "member         0\n",
       "ISCO_s         0\n",
       "ISIC_s         0\n",
       "status_s       0\n",
       "agriculture    0\n",
       "hours_s        0\n",
       "days_s         0\n",
       "Total_cost     0\n",
       "sale           0\n",
       "income_s_y     0\n",
       "Fasl           0\n",
       "year           0\n",
       "dtype: int64"
      ]
     },
     "execution_count": 47,
     "metadata": {},
     "output_type": "execute_result"
    }
   ],
   "source": [
    "DF_P4_S2.isna().sum()"
   ]
  },
  {
   "cell_type": "code",
   "execution_count": 48,
   "id": "7afab917-4335-4e6c-9d78-e7e264c8bac2",
   "metadata": {},
   "outputs": [],
   "source": [
    "path_file = 'U1399_P4_S02'\n",
    "DF_P4_S2.to_csv(path_file+'.csv', index=False)"
   ]
  },
  {
   "cell_type": "markdown",
   "id": "477c7fc6-7aec-453e-86de-70297d5a2d97",
   "metadata": {},
   "source": [
    "### P4_S03"
   ]
  },
  {
   "cell_type": "code",
   "execution_count": 74,
   "id": "56f59032-81c8-43b7-adb7-5f43c36f4d2f",
   "metadata": {},
   "outputs": [
    {
     "data": {
      "text/html": [
       "<div>\n",
       "<style scoped>\n",
       "    .dataframe tbody tr th:only-of-type {\n",
       "        vertical-align: middle;\n",
       "    }\n",
       "\n",
       "    .dataframe tbody tr th {\n",
       "        vertical-align: top;\n",
       "    }\n",
       "\n",
       "    .dataframe thead th {\n",
       "        text-align: right;\n",
       "    }\n",
       "</style>\n",
       "<table border=\"1\" class=\"dataframe\">\n",
       "  <thead>\n",
       "    <tr style=\"text-align: right;\">\n",
       "      <th></th>\n",
       "      <th>Address</th>\n",
       "      <th>member</th>\n",
       "      <th>income_pension</th>\n",
       "      <th>income_rent</th>\n",
       "      <th>income_interest</th>\n",
       "      <th>income_aid</th>\n",
       "      <th>income_resale</th>\n",
       "      <th>income_transfer</th>\n",
       "      <th>Fasl</th>\n",
       "      <th>year</th>\n",
       "      <th>DYCOL00</th>\n",
       "    </tr>\n",
       "  </thead>\n",
       "  <tbody>\n",
       "    <tr>\n",
       "      <th>0</th>\n",
       "      <td>10009008518</td>\n",
       "      <td>1</td>\n",
       "      <td>NaN</td>\n",
       "      <td>0120000000</td>\n",
       "      <td>NaN</td>\n",
       "      <td>10000000.0</td>\n",
       "      <td>NaN</td>\n",
       "      <td>0040000000</td>\n",
       "      <td>1</td>\n",
       "      <td>1399</td>\n",
       "      <td>NaN</td>\n",
       "    </tr>\n",
       "    <tr>\n",
       "      <th>1</th>\n",
       "      <td>10005004626</td>\n",
       "      <td>1</td>\n",
       "      <td>0216000000</td>\n",
       "      <td>NaN</td>\n",
       "      <td>NaN</td>\n",
       "      <td>16900000.0</td>\n",
       "      <td>NaN</td>\n",
       "      <td>NaN</td>\n",
       "      <td>1</td>\n",
       "      <td>1399</td>\n",
       "      <td>NaN</td>\n",
       "    </tr>\n",
       "    <tr>\n",
       "      <th>2</th>\n",
       "      <td>10006005929</td>\n",
       "      <td>1</td>\n",
       "      <td>NaN</td>\n",
       "      <td>NaN</td>\n",
       "      <td>0001600000</td>\n",
       "      <td>16900000.0</td>\n",
       "      <td>NaN</td>\n",
       "      <td>NaN</td>\n",
       "      <td>1</td>\n",
       "      <td>1399</td>\n",
       "      <td>NaN</td>\n",
       "    </tr>\n",
       "    <tr>\n",
       "      <th>3</th>\n",
       "      <td>10011009720</td>\n",
       "      <td>1</td>\n",
       "      <td>NaN</td>\n",
       "      <td>NaN</td>\n",
       "      <td>0006300000</td>\n",
       "      <td>10000000.0</td>\n",
       "      <td>NaN</td>\n",
       "      <td>NaN</td>\n",
       "      <td>1</td>\n",
       "      <td>1399</td>\n",
       "      <td>NaN</td>\n",
       "    </tr>\n",
       "    <tr>\n",
       "      <th>4</th>\n",
       "      <td>10005004618</td>\n",
       "      <td>1</td>\n",
       "      <td>NaN</td>\n",
       "      <td>NaN</td>\n",
       "      <td>NaN</td>\n",
       "      <td>10000000.0</td>\n",
       "      <td>NaN</td>\n",
       "      <td>NaN</td>\n",
       "      <td>1</td>\n",
       "      <td>1399</td>\n",
       "      <td>NaN</td>\n",
       "    </tr>\n",
       "  </tbody>\n",
       "</table>\n",
       "</div>"
      ],
      "text/plain": [
       "       Address  member income_pension income_rent income_interest  income_aid  \\\n",
       "0  10009008518       1            NaN  0120000000             NaN  10000000.0   \n",
       "1  10005004626       1     0216000000         NaN             NaN  16900000.0   \n",
       "2  10006005929       1            NaN         NaN      0001600000  16900000.0   \n",
       "3  10011009720       1            NaN         NaN      0006300000  10000000.0   \n",
       "4  10005004618       1            NaN         NaN             NaN  10000000.0   \n",
       "\n",
       "  income_resale income_transfer  Fasl  year  DYCOL00  \n",
       "0           NaN      0040000000     1  1399      NaN  \n",
       "1           NaN             NaN     1  1399      NaN  \n",
       "2           NaN             NaN     1  1399      NaN  \n",
       "3           NaN             NaN     1  1399      NaN  \n",
       "4           NaN             NaN     1  1399      NaN  "
      ]
     },
     "execution_count": 74,
     "metadata": {},
     "output_type": "execute_result"
    }
   ],
   "source": [
    "DF_P4_S3 = pd.read_csv('U99P4S03.csv')\n",
    "DF_P4_S3.head()"
   ]
  },
  {
   "cell_type": "code",
   "execution_count": 75,
   "id": "d0d9378f-52e2-407e-b13d-7bfeedae5ec1",
   "metadata": {},
   "outputs": [
    {
     "name": "stdout",
     "output_type": "stream",
     "text": [
      "<class 'pandas.core.frame.DataFrame'>\n",
      "RangeIndex: 23632 entries, 0 to 23631\n",
      "Data columns (total 11 columns):\n",
      " #   Column           Non-Null Count  Dtype  \n",
      "---  ------           --------------  -----  \n",
      " 0   Address          23632 non-null  int64  \n",
      " 1   member           23632 non-null  int64  \n",
      " 2   income_pension   10601 non-null  object \n",
      " 3   income_rent      7516 non-null   object \n",
      " 4   income_interest  14115 non-null  object \n",
      " 5   income_aid       18249 non-null  float64\n",
      " 6   income_resale    6860 non-null   object \n",
      " 7   income_transfer  9475 non-null   object \n",
      " 8   Fasl             23632 non-null  int64  \n",
      " 9   year             23632 non-null  int64  \n",
      " 10  DYCOL00          0 non-null      float64\n",
      "dtypes: float64(2), int64(4), object(5)\n",
      "memory usage: 2.0+ MB\n"
     ]
    }
   ],
   "source": [
    "DF_P4_S3.info()"
   ]
  },
  {
   "cell_type": "code",
   "execution_count": 76,
   "id": "19c36805-fc70-430f-b57b-c2b0af562ff7",
   "metadata": {},
   "outputs": [],
   "source": [
    "DF_P4_S3.drop(['DYCOL00'], axis = 1, inplace=True)"
   ]
  },
  {
   "cell_type": "markdown",
   "id": "87aeddf3-be15-4f6b-a1db-c6e82ecebb21",
   "metadata": {},
   "source": [
    "<p dir=rtl style=\"direction: rtl;text-align: justify;line-height:200%;font-family:vazir;font-size:medium\">\n",
    "<font face=\"vazir\" size=5 color= orange>\n",
    "ستون‌های income_pension , income_rent به float تغییر می‌دهیم."
   ]
  },
  {
   "cell_type": "code",
   "execution_count": 77,
   "id": "3121847a-c892-4a27-b907-191163ead932",
   "metadata": {},
   "outputs": [],
   "source": [
    "DF_P4_S3.income_pension = DF_P4_S3.income_pension.str.strip()\n",
    "DF_P4_S3.loc[DF_P4_S3.income_pension.isin(['']) , 'income_pension' ] = np.nan\n",
    "DF_P4_S3.income_pension = DF_P4_S3.income_pension.astype(pd.Float64Dtype())\n",
    "\n",
    "DF_P4_S3.income_rent = DF_P4_S3.income_rent.str.strip()\n",
    "DF_P4_S3.loc[DF_P4_S3.income_rent.isin(['']) , 'income_rent' ] = np.nan\n",
    "DF_P4_S3.income_rent = DF_P4_S3.income_rent.astype(pd.Float64Dtype())\n",
    "\n",
    "DF_P4_S3.income_interest = DF_P4_S3.income_interest.str.strip()\n",
    "DF_P4_S3.loc[DF_P4_S3.income_interest.isin(['']) , 'income_interest' ] = np.nan\n",
    "DF_P4_S3.income_interest = DF_P4_S3.income_interest.astype(pd.Float64Dtype())\n",
    "\n",
    "DF_P4_S3.income_resale = DF_P4_S3.income_resale.str.strip()\n",
    "DF_P4_S3.loc[DF_P4_S3.income_resale.isin(['']) , 'income_resale' ] = np.nan\n",
    "DF_P4_S3.income_resale = DF_P4_S3.income_resale.astype(pd.Float64Dtype())\n",
    "\n",
    "DF_P4_S3.income_interest = DF_P4_S3.income_interest.str.strip()\n",
    "DF_P4_S3.loc[DF_P4_S3.income_interest.isin(['']) , 'income_interest' ] = np.nan\n",
    "DF_P4_S3.income_interest = DF_P4_S3.income_interest.astype(pd.Float64Dtype())\n"
   ]
  },
  {
   "cell_type": "code",
   "execution_count": 79,
   "id": "21596f8b-2d73-4673-9bcb-21aa3cfb8f93",
   "metadata": {},
   "outputs": [
    {
     "name": "stdout",
     "output_type": "stream",
     "text": [
      "<class 'pandas.core.frame.DataFrame'>\n",
      "RangeIndex: 23632 entries, 0 to 23631\n",
      "Data columns (total 10 columns):\n",
      " #   Column           Non-Null Count  Dtype  \n",
      "---  ------           --------------  -----  \n",
      " 0   Address          23632 non-null  int64  \n",
      " 1   member           23632 non-null  int64  \n",
      " 2   income_pension   10600 non-null  Float64\n",
      " 3   income_rent      7515 non-null   Float64\n",
      " 4   income_interest  14114 non-null  Float64\n",
      " 5   income_aid       18249 non-null  float64\n",
      " 6   income_resale    6860 non-null   object \n",
      " 7   income_transfer  9475 non-null   object \n",
      " 8   Fasl             23632 non-null  int64  \n",
      " 9   year             23632 non-null  int64  \n",
      "dtypes: Float64(3), float64(1), int64(4), object(2)\n",
      "memory usage: 1.9+ MB\n"
     ]
    }
   ],
   "source": [
    "DF_P4_S3.info()"
   ]
  },
  {
   "cell_type": "markdown",
   "id": "9c20da33-5f36-4540-8bfd-fcaf9e2550eb",
   "metadata": {},
   "source": [
    "<p dir=rtl style=\"direction: rtl;text-align: justify;line-height:200%;font-family:vazir;font-size:medium\">\n",
    "<font face=\"vazir\" size=5 color= orange>\n",
    "ستون‌های income جمع می‌شوند و در ستون جدیدی به نام Total_income ذخیره می‌شوند."
   ]
  },
  {
   "cell_type": "code",
   "execution_count": 78,
   "id": "00e71041-164c-48c0-94ba-040274b00084",
   "metadata": {},
   "outputs": [
    {
     "ename": "TypeError",
     "evalue": "unsupported operand type(s) for +: 'float' and 'str'",
     "output_type": "error",
     "traceback": [
      "\u001b[1;31m---------------------------------------------------------------------------\u001b[0m",
      "\u001b[1;31mTypeError\u001b[0m                                 Traceback (most recent call last)",
      "Cell \u001b[1;32mIn[78], line 1\u001b[0m\n\u001b[1;32m----> 1\u001b[0m DF_P4_S3\u001b[38;5;241m.\u001b[39minsert(\u001b[38;5;241m2\u001b[39m,\u001b[38;5;124m'\u001b[39m\u001b[38;5;124mTotal_income\u001b[39m\u001b[38;5;124m'\u001b[39m, DF_P4_S3\u001b[38;5;241m.\u001b[39mloc[:,\u001b[38;5;124m'\u001b[39m\u001b[38;5;124mincome_pension\u001b[39m\u001b[38;5;124m'\u001b[39m:\u001b[38;5;124m'\u001b[39m\u001b[38;5;124mincome_transfer\u001b[39m\u001b[38;5;124m'\u001b[39m ]\u001b[38;5;241m.\u001b[39msum(axis\u001b[38;5;241m=\u001b[39m\u001b[38;5;241m1\u001b[39m))\n\u001b[0;32m      2\u001b[0m del_columns \u001b[38;5;241m=\u001b[39m [\u001b[38;5;124m'\u001b[39m\u001b[38;5;124mincome_pension\u001b[39m\u001b[38;5;124m'\u001b[39m,\u001b[38;5;124m'\u001b[39m\u001b[38;5;124mincome_rent\u001b[39m\u001b[38;5;124m'\u001b[39m, \u001b[38;5;124m'\u001b[39m\u001b[38;5;124mincome_interest\u001b[39m\u001b[38;5;124m'\u001b[39m,\u001b[38;5;124m'\u001b[39m\u001b[38;5;124mincome_aid\u001b[39m\u001b[38;5;124m'\u001b[39m,\u001b[38;5;124m'\u001b[39m\u001b[38;5;124mincome_resale\u001b[39m\u001b[38;5;124m'\u001b[39m,\u001b[38;5;124m'\u001b[39m\u001b[38;5;124mincome_transfer\u001b[39m\u001b[38;5;124m'\u001b[39m]\n\u001b[0;32m      3\u001b[0m DF_P4_S3\u001b[38;5;241m.\u001b[39mdrop(del_columns,axis\u001b[38;5;241m=\u001b[39m\u001b[38;5;241m1\u001b[39m, inplace\u001b[38;5;241m=\u001b[39m\u001b[38;5;28;01mTrue\u001b[39;00m)\n",
      "File \u001b[1;32mC:\\ProgramData\\anaconda3\\Lib\\site-packages\\pandas\\core\\frame.py:11312\u001b[0m, in \u001b[0;36mDataFrame.sum\u001b[1;34m(self, axis, skipna, numeric_only, min_count, **kwargs)\u001b[0m\n\u001b[0;32m  11303\u001b[0m \u001b[38;5;129m@doc\u001b[39m(make_doc(\u001b[38;5;124m\"\u001b[39m\u001b[38;5;124msum\u001b[39m\u001b[38;5;124m\"\u001b[39m, ndim\u001b[38;5;241m=\u001b[39m\u001b[38;5;241m2\u001b[39m))\n\u001b[0;32m  11304\u001b[0m \u001b[38;5;28;01mdef\u001b[39;00m \u001b[38;5;21msum\u001b[39m(\n\u001b[0;32m  11305\u001b[0m     \u001b[38;5;28mself\u001b[39m,\n\u001b[1;32m   (...)\u001b[0m\n\u001b[0;32m  11310\u001b[0m     \u001b[38;5;241m*\u001b[39m\u001b[38;5;241m*\u001b[39mkwargs,\n\u001b[0;32m  11311\u001b[0m ):\n\u001b[1;32m> 11312\u001b[0m     result \u001b[38;5;241m=\u001b[39m \u001b[38;5;28msuper\u001b[39m()\u001b[38;5;241m.\u001b[39msum(axis, skipna, numeric_only, min_count, \u001b[38;5;241m*\u001b[39m\u001b[38;5;241m*\u001b[39mkwargs)\n\u001b[0;32m  11313\u001b[0m     \u001b[38;5;28;01mreturn\u001b[39;00m result\u001b[38;5;241m.\u001b[39m__finalize__(\u001b[38;5;28mself\u001b[39m, method\u001b[38;5;241m=\u001b[39m\u001b[38;5;124m\"\u001b[39m\u001b[38;5;124msum\u001b[39m\u001b[38;5;124m\"\u001b[39m)\n",
      "File \u001b[1;32mC:\\ProgramData\\anaconda3\\Lib\\site-packages\\pandas\\core\\generic.py:12078\u001b[0m, in \u001b[0;36mNDFrame.sum\u001b[1;34m(self, axis, skipna, numeric_only, min_count, **kwargs)\u001b[0m\n\u001b[0;32m  12070\u001b[0m \u001b[38;5;28;01mdef\u001b[39;00m \u001b[38;5;21msum\u001b[39m(\n\u001b[0;32m  12071\u001b[0m     \u001b[38;5;28mself\u001b[39m,\n\u001b[0;32m  12072\u001b[0m     axis: Axis \u001b[38;5;241m|\u001b[39m \u001b[38;5;28;01mNone\u001b[39;00m \u001b[38;5;241m=\u001b[39m \u001b[38;5;241m0\u001b[39m,\n\u001b[1;32m   (...)\u001b[0m\n\u001b[0;32m  12076\u001b[0m     \u001b[38;5;241m*\u001b[39m\u001b[38;5;241m*\u001b[39mkwargs,\n\u001b[0;32m  12077\u001b[0m ):\n\u001b[1;32m> 12078\u001b[0m     \u001b[38;5;28;01mreturn\u001b[39;00m \u001b[38;5;28mself\u001b[39m\u001b[38;5;241m.\u001b[39m_min_count_stat_function(\n\u001b[0;32m  12079\u001b[0m         \u001b[38;5;124m\"\u001b[39m\u001b[38;5;124msum\u001b[39m\u001b[38;5;124m\"\u001b[39m, nanops\u001b[38;5;241m.\u001b[39mnansum, axis, skipna, numeric_only, min_count, \u001b[38;5;241m*\u001b[39m\u001b[38;5;241m*\u001b[39mkwargs\n\u001b[0;32m  12080\u001b[0m     )\n",
      "File \u001b[1;32mC:\\ProgramData\\anaconda3\\Lib\\site-packages\\pandas\\core\\generic.py:12061\u001b[0m, in \u001b[0;36mNDFrame._min_count_stat_function\u001b[1;34m(self, name, func, axis, skipna, numeric_only, min_count, **kwargs)\u001b[0m\n\u001b[0;32m  12058\u001b[0m \u001b[38;5;28;01melif\u001b[39;00m axis \u001b[38;5;129;01mis\u001b[39;00m lib\u001b[38;5;241m.\u001b[39mno_default:\n\u001b[0;32m  12059\u001b[0m     axis \u001b[38;5;241m=\u001b[39m \u001b[38;5;241m0\u001b[39m\n\u001b[1;32m> 12061\u001b[0m \u001b[38;5;28;01mreturn\u001b[39;00m \u001b[38;5;28mself\u001b[39m\u001b[38;5;241m.\u001b[39m_reduce(\n\u001b[0;32m  12062\u001b[0m     func,\n\u001b[0;32m  12063\u001b[0m     name\u001b[38;5;241m=\u001b[39mname,\n\u001b[0;32m  12064\u001b[0m     axis\u001b[38;5;241m=\u001b[39maxis,\n\u001b[0;32m  12065\u001b[0m     skipna\u001b[38;5;241m=\u001b[39mskipna,\n\u001b[0;32m  12066\u001b[0m     numeric_only\u001b[38;5;241m=\u001b[39mnumeric_only,\n\u001b[0;32m  12067\u001b[0m     min_count\u001b[38;5;241m=\u001b[39mmin_count,\n\u001b[0;32m  12068\u001b[0m )\n",
      "File \u001b[1;32mC:\\ProgramData\\anaconda3\\Lib\\site-packages\\pandas\\core\\frame.py:11204\u001b[0m, in \u001b[0;36mDataFrame._reduce\u001b[1;34m(self, op, name, axis, skipna, numeric_only, filter_type, **kwds)\u001b[0m\n\u001b[0;32m  11200\u001b[0m     df \u001b[38;5;241m=\u001b[39m df\u001b[38;5;241m.\u001b[39mT\n\u001b[0;32m  11202\u001b[0m \u001b[38;5;66;03m# After possibly _get_data and transposing, we are now in the\u001b[39;00m\n\u001b[0;32m  11203\u001b[0m \u001b[38;5;66;03m#  simple case where we can use BlockManager.reduce\u001b[39;00m\n\u001b[1;32m> 11204\u001b[0m res \u001b[38;5;241m=\u001b[39m df\u001b[38;5;241m.\u001b[39m_mgr\u001b[38;5;241m.\u001b[39mreduce(blk_func)\n\u001b[0;32m  11205\u001b[0m out \u001b[38;5;241m=\u001b[39m df\u001b[38;5;241m.\u001b[39m_constructor_from_mgr(res, axes\u001b[38;5;241m=\u001b[39mres\u001b[38;5;241m.\u001b[39maxes)\u001b[38;5;241m.\u001b[39miloc[\u001b[38;5;241m0\u001b[39m]\n\u001b[0;32m  11206\u001b[0m \u001b[38;5;28;01mif\u001b[39;00m out_dtype \u001b[38;5;129;01mis\u001b[39;00m \u001b[38;5;129;01mnot\u001b[39;00m \u001b[38;5;28;01mNone\u001b[39;00m \u001b[38;5;129;01mand\u001b[39;00m out\u001b[38;5;241m.\u001b[39mdtype \u001b[38;5;241m!=\u001b[39m \u001b[38;5;124m\"\u001b[39m\u001b[38;5;124mboolean\u001b[39m\u001b[38;5;124m\"\u001b[39m:\n",
      "File \u001b[1;32mC:\\ProgramData\\anaconda3\\Lib\\site-packages\\pandas\\core\\internals\\managers.py:1459\u001b[0m, in \u001b[0;36mBlockManager.reduce\u001b[1;34m(self, func)\u001b[0m\n\u001b[0;32m   1457\u001b[0m res_blocks: \u001b[38;5;28mlist\u001b[39m[Block] \u001b[38;5;241m=\u001b[39m []\n\u001b[0;32m   1458\u001b[0m \u001b[38;5;28;01mfor\u001b[39;00m blk \u001b[38;5;129;01min\u001b[39;00m \u001b[38;5;28mself\u001b[39m\u001b[38;5;241m.\u001b[39mblocks:\n\u001b[1;32m-> 1459\u001b[0m     nbs \u001b[38;5;241m=\u001b[39m blk\u001b[38;5;241m.\u001b[39mreduce(func)\n\u001b[0;32m   1460\u001b[0m     res_blocks\u001b[38;5;241m.\u001b[39mextend(nbs)\n\u001b[0;32m   1462\u001b[0m index \u001b[38;5;241m=\u001b[39m Index([\u001b[38;5;28;01mNone\u001b[39;00m])  \u001b[38;5;66;03m# placeholder\u001b[39;00m\n",
      "File \u001b[1;32mC:\\ProgramData\\anaconda3\\Lib\\site-packages\\pandas\\core\\internals\\blocks.py:377\u001b[0m, in \u001b[0;36mBlock.reduce\u001b[1;34m(self, func)\u001b[0m\n\u001b[0;32m    371\u001b[0m \u001b[38;5;129m@final\u001b[39m\n\u001b[0;32m    372\u001b[0m \u001b[38;5;28;01mdef\u001b[39;00m \u001b[38;5;21mreduce\u001b[39m(\u001b[38;5;28mself\u001b[39m, func) \u001b[38;5;241m-\u001b[39m\u001b[38;5;241m>\u001b[39m \u001b[38;5;28mlist\u001b[39m[Block]:\n\u001b[0;32m    373\u001b[0m     \u001b[38;5;66;03m# We will apply the function and reshape the result into a single-row\u001b[39;00m\n\u001b[0;32m    374\u001b[0m     \u001b[38;5;66;03m#  Block with the same mgr_locs; squeezing will be done at a higher level\u001b[39;00m\n\u001b[0;32m    375\u001b[0m     \u001b[38;5;28;01massert\u001b[39;00m \u001b[38;5;28mself\u001b[39m\u001b[38;5;241m.\u001b[39mndim \u001b[38;5;241m==\u001b[39m \u001b[38;5;241m2\u001b[39m\n\u001b[1;32m--> 377\u001b[0m     result \u001b[38;5;241m=\u001b[39m func(\u001b[38;5;28mself\u001b[39m\u001b[38;5;241m.\u001b[39mvalues)\n\u001b[0;32m    379\u001b[0m     \u001b[38;5;28;01mif\u001b[39;00m \u001b[38;5;28mself\u001b[39m\u001b[38;5;241m.\u001b[39mvalues\u001b[38;5;241m.\u001b[39mndim \u001b[38;5;241m==\u001b[39m \u001b[38;5;241m1\u001b[39m:\n\u001b[0;32m    380\u001b[0m         res_values \u001b[38;5;241m=\u001b[39m result\n",
      "File \u001b[1;32mC:\\ProgramData\\anaconda3\\Lib\\site-packages\\pandas\\core\\frame.py:11136\u001b[0m, in \u001b[0;36mDataFrame._reduce.<locals>.blk_func\u001b[1;34m(values, axis)\u001b[0m\n\u001b[0;32m  11134\u001b[0m         \u001b[38;5;28;01mreturn\u001b[39;00m np\u001b[38;5;241m.\u001b[39marray([result])\n\u001b[0;32m  11135\u001b[0m \u001b[38;5;28;01melse\u001b[39;00m:\n\u001b[1;32m> 11136\u001b[0m     \u001b[38;5;28;01mreturn\u001b[39;00m op(values, axis\u001b[38;5;241m=\u001b[39maxis, skipna\u001b[38;5;241m=\u001b[39mskipna, \u001b[38;5;241m*\u001b[39m\u001b[38;5;241m*\u001b[39mkwds)\n",
      "File \u001b[1;32mC:\\ProgramData\\anaconda3\\Lib\\site-packages\\pandas\\core\\nanops.py:85\u001b[0m, in \u001b[0;36mdisallow.__call__.<locals>._f\u001b[1;34m(*args, **kwargs)\u001b[0m\n\u001b[0;32m     81\u001b[0m     \u001b[38;5;28;01mraise\u001b[39;00m \u001b[38;5;167;01mTypeError\u001b[39;00m(\n\u001b[0;32m     82\u001b[0m         \u001b[38;5;124mf\u001b[39m\u001b[38;5;124m\"\u001b[39m\u001b[38;5;124mreduction operation \u001b[39m\u001b[38;5;124m'\u001b[39m\u001b[38;5;132;01m{\u001b[39;00mf_name\u001b[38;5;132;01m}\u001b[39;00m\u001b[38;5;124m'\u001b[39m\u001b[38;5;124m not allowed for this dtype\u001b[39m\u001b[38;5;124m\"\u001b[39m\n\u001b[0;32m     83\u001b[0m     )\n\u001b[0;32m     84\u001b[0m \u001b[38;5;28;01mtry\u001b[39;00m:\n\u001b[1;32m---> 85\u001b[0m     \u001b[38;5;28;01mreturn\u001b[39;00m f(\u001b[38;5;241m*\u001b[39margs, \u001b[38;5;241m*\u001b[39m\u001b[38;5;241m*\u001b[39mkwargs)\n\u001b[0;32m     86\u001b[0m \u001b[38;5;28;01mexcept\u001b[39;00m \u001b[38;5;167;01mValueError\u001b[39;00m \u001b[38;5;28;01mas\u001b[39;00m e:\n\u001b[0;32m     87\u001b[0m     \u001b[38;5;66;03m# we want to transform an object array\u001b[39;00m\n\u001b[0;32m     88\u001b[0m     \u001b[38;5;66;03m# ValueError message to the more typical TypeError\u001b[39;00m\n\u001b[0;32m     89\u001b[0m     \u001b[38;5;66;03m# e.g. this is normally a disallowed function on\u001b[39;00m\n\u001b[0;32m     90\u001b[0m     \u001b[38;5;66;03m# object arrays that contain strings\u001b[39;00m\n\u001b[0;32m     91\u001b[0m     \u001b[38;5;28;01mif\u001b[39;00m is_object_dtype(args[\u001b[38;5;241m0\u001b[39m]):\n",
      "File \u001b[1;32mC:\\ProgramData\\anaconda3\\Lib\\site-packages\\pandas\\core\\nanops.py:404\u001b[0m, in \u001b[0;36m_datetimelike_compat.<locals>.new_func\u001b[1;34m(values, axis, skipna, mask, **kwargs)\u001b[0m\n\u001b[0;32m    401\u001b[0m \u001b[38;5;28;01mif\u001b[39;00m datetimelike \u001b[38;5;129;01mand\u001b[39;00m mask \u001b[38;5;129;01mis\u001b[39;00m \u001b[38;5;28;01mNone\u001b[39;00m:\n\u001b[0;32m    402\u001b[0m     mask \u001b[38;5;241m=\u001b[39m isna(values)\n\u001b[1;32m--> 404\u001b[0m result \u001b[38;5;241m=\u001b[39m func(values, axis\u001b[38;5;241m=\u001b[39maxis, skipna\u001b[38;5;241m=\u001b[39mskipna, mask\u001b[38;5;241m=\u001b[39mmask, \u001b[38;5;241m*\u001b[39m\u001b[38;5;241m*\u001b[39mkwargs)\n\u001b[0;32m    406\u001b[0m \u001b[38;5;28;01mif\u001b[39;00m datetimelike:\n\u001b[0;32m    407\u001b[0m     result \u001b[38;5;241m=\u001b[39m _wrap_results(result, orig_values\u001b[38;5;241m.\u001b[39mdtype, fill_value\u001b[38;5;241m=\u001b[39miNaT)\n",
      "File \u001b[1;32mC:\\ProgramData\\anaconda3\\Lib\\site-packages\\pandas\\core\\nanops.py:477\u001b[0m, in \u001b[0;36mmaybe_operate_rowwise.<locals>.newfunc\u001b[1;34m(values, axis, **kwargs)\u001b[0m\n\u001b[0;32m    474\u001b[0m         results \u001b[38;5;241m=\u001b[39m [func(x, \u001b[38;5;241m*\u001b[39m\u001b[38;5;241m*\u001b[39mkwargs) \u001b[38;5;28;01mfor\u001b[39;00m x \u001b[38;5;129;01min\u001b[39;00m arrs]\n\u001b[0;32m    475\u001b[0m     \u001b[38;5;28;01mreturn\u001b[39;00m np\u001b[38;5;241m.\u001b[39marray(results)\n\u001b[1;32m--> 477\u001b[0m \u001b[38;5;28;01mreturn\u001b[39;00m func(values, axis\u001b[38;5;241m=\u001b[39maxis, \u001b[38;5;241m*\u001b[39m\u001b[38;5;241m*\u001b[39mkwargs)\n",
      "File \u001b[1;32mC:\\ProgramData\\anaconda3\\Lib\\site-packages\\pandas\\core\\nanops.py:646\u001b[0m, in \u001b[0;36mnansum\u001b[1;34m(values, axis, skipna, min_count, mask)\u001b[0m\n\u001b[0;32m    643\u001b[0m \u001b[38;5;28;01melif\u001b[39;00m dtype\u001b[38;5;241m.\u001b[39mkind \u001b[38;5;241m==\u001b[39m \u001b[38;5;124m\"\u001b[39m\u001b[38;5;124mm\u001b[39m\u001b[38;5;124m\"\u001b[39m:\n\u001b[0;32m    644\u001b[0m     dtype_sum \u001b[38;5;241m=\u001b[39m np\u001b[38;5;241m.\u001b[39mdtype(np\u001b[38;5;241m.\u001b[39mfloat64)\n\u001b[1;32m--> 646\u001b[0m the_sum \u001b[38;5;241m=\u001b[39m values\u001b[38;5;241m.\u001b[39msum(axis, dtype\u001b[38;5;241m=\u001b[39mdtype_sum)\n\u001b[0;32m    647\u001b[0m the_sum \u001b[38;5;241m=\u001b[39m _maybe_null_out(the_sum, axis, mask, values\u001b[38;5;241m.\u001b[39mshape, min_count\u001b[38;5;241m=\u001b[39mmin_count)\n\u001b[0;32m    649\u001b[0m \u001b[38;5;28;01mreturn\u001b[39;00m the_sum\n",
      "File \u001b[1;32mC:\\ProgramData\\anaconda3\\Lib\\site-packages\\numpy\\core\\_methods.py:49\u001b[0m, in \u001b[0;36m_sum\u001b[1;34m(a, axis, dtype, out, keepdims, initial, where)\u001b[0m\n\u001b[0;32m     47\u001b[0m \u001b[38;5;28;01mdef\u001b[39;00m \u001b[38;5;21m_sum\u001b[39m(a, axis\u001b[38;5;241m=\u001b[39m\u001b[38;5;28;01mNone\u001b[39;00m, dtype\u001b[38;5;241m=\u001b[39m\u001b[38;5;28;01mNone\u001b[39;00m, out\u001b[38;5;241m=\u001b[39m\u001b[38;5;28;01mNone\u001b[39;00m, keepdims\u001b[38;5;241m=\u001b[39m\u001b[38;5;28;01mFalse\u001b[39;00m,\n\u001b[0;32m     48\u001b[0m          initial\u001b[38;5;241m=\u001b[39m_NoValue, where\u001b[38;5;241m=\u001b[39m\u001b[38;5;28;01mTrue\u001b[39;00m):\n\u001b[1;32m---> 49\u001b[0m     \u001b[38;5;28;01mreturn\u001b[39;00m umr_sum(a, axis, dtype, out, keepdims, initial, where)\n",
      "\u001b[1;31mTypeError\u001b[0m: unsupported operand type(s) for +: 'float' and 'str'"
     ]
    }
   ],
   "source": [
    "DF_P4_S3.insert(2,'Total_income', DF_P4_S3.loc[:,'income_pension':'income_transfer' ].sum(axis=1))\n",
    "del_columns = ['income_pension','income_rent', 'income_interest','income_aid','income_resale','income_transfer']\n",
    "DF_P4_S3.drop(del_columns,axis=1, inplace=True)"
   ]
  },
  {
   "cell_type": "code",
   "execution_count": null,
   "id": "c9dafa18-d518-45e0-b933-8a0a126c3043",
   "metadata": {},
   "outputs": [],
   "source": [
    "DF_P4_S3.isna().sum()"
   ]
  },
  {
   "cell_type": "markdown",
   "id": "10943bcf-3128-4118-ab85-c0166b74b24a",
   "metadata": {},
   "source": [
    "<p dir=rtl style=\"direction: rtl;text-align: justify;line-height:200%;font-family:vazir;font-size:medium\">\n",
    "<font face=\"vazir\" size=5 color= orange>\n",
    "حذف سطر‌های nan"
   ]
  },
  {
   "cell_type": "code",
   "execution_count": null,
   "id": "50ce6cc2-d3a7-48ef-ab17-f3a8a28d5a7a",
   "metadata": {},
   "outputs": [],
   "source": [
    "DF_P4_S3.dropna(inplace=True)"
   ]
  },
  {
   "cell_type": "code",
   "execution_count": null,
   "id": "19c8a685-4b00-4f60-9a55-12488adbece2",
   "metadata": {},
   "outputs": [],
   "source": [
    "DF_P4_S3.isna().sum()"
   ]
  },
  {
   "cell_type": "code",
   "execution_count": null,
   "id": "cacca18b-e666-4594-9899-5f7e20e3c4aa",
   "metadata": {},
   "outputs": [],
   "source": [
    "path_file = 'R1399_P4_S03'\n",
    "DF_P4_S3.to_csv(path_file+'.csv', index=False)"
   ]
  },
  {
   "cell_type": "markdown",
   "id": "3d57a5ca-cb57-4601-90fe-f080bf12be4c",
   "metadata": {},
   "source": [
    "### P4_S04"
   ]
  },
  {
   "cell_type": "code",
   "execution_count": null,
   "id": "2fcc93bd-6242-440d-8c98-1c40f08bb046",
   "metadata": {},
   "outputs": [],
   "source": [
    "DF_P4_S4 = pd.read_csv('R99P4S04.csv')\n",
    "DF_P4_S4.head()"
   ]
  },
  {
   "cell_type": "code",
   "execution_count": null,
   "id": "70d7ddfe-1b5f-43ce-9a28-2537801b188c",
   "metadata": {},
   "outputs": [],
   "source": [
    "DF_P4_S4.info()"
   ]
  },
  {
   "cell_type": "code",
   "execution_count": null,
   "id": "5032ab69-776b-4f46-aa39-e83394891381",
   "metadata": {},
   "outputs": [],
   "source": [
    "DF_P4_S4.drop(['DYCOL00'], axis = 1, inplace=True)"
   ]
  },
  {
   "cell_type": "code",
   "execution_count": null,
   "id": "486a6bbc-5cfa-412b-b786-fcdc506cccb0",
   "metadata": {},
   "outputs": [],
   "source": [
    "DF_P4_S4.isna().sum()"
   ]
  },
  {
   "cell_type": "code",
   "execution_count": null,
   "id": "629a3c23-9f66-41c0-8056-cc157ad18d75",
   "metadata": {},
   "outputs": [],
   "source": [
    "DF_P4_S4.dropna(inplace=True)"
   ]
  },
  {
   "cell_type": "code",
   "execution_count": null,
   "id": "c807cf98-b718-4e52-97bb-74a89aeb9458",
   "metadata": {},
   "outputs": [],
   "source": [
    "DF_P4_S4.isna().sum()"
   ]
  },
  {
   "cell_type": "code",
   "execution_count": null,
   "id": "24c0ca8f-8dd6-4608-9a3c-bca610e22090",
   "metadata": {},
   "outputs": [],
   "source": [
    "path_file = 'R1399_P4_S04'\n",
    "DF_P4_S4.to_csv(path_file+'.csv', index=False)"
   ]
  },
  {
   "cell_type": "code",
   "execution_count": null,
   "id": "ec97ff3e-5d68-46bb-acdc-fb6da8ae244d",
   "metadata": {},
   "outputs": [],
   "source": []
  }
 ],
 "metadata": {
  "kernelspec": {
   "display_name": "Python 3 (ipykernel)",
   "language": "python",
   "name": "python3"
  },
  "language_info": {
   "codemirror_mode": {
    "name": "ipython",
    "version": 3
   },
   "file_extension": ".py",
   "mimetype": "text/x-python",
   "name": "python",
   "nbconvert_exporter": "python",
   "pygments_lexer": "ipython3",
   "version": "3.11.7"
  }
 },
 "nbformat": 4,
 "nbformat_minor": 5
}
