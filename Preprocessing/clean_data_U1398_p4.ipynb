{
 "cells": [
  {
   "cell_type": "code",
   "execution_count": 61,
   "id": "5dd496d1-03f6-4d80-9b70-48c8b384f9d3",
   "metadata": {},
   "outputs": [],
   "source": [
    "import pandas as pd\n",
    "import numpy as np\n",
    "import seaborn as sns\n",
    "import pickle\n",
    "import matplotlib.pyplot as plt\n",
    "from IPython.display import display\n",
    "from sklearn.decomposition import PCA\n",
    "from sklearn.preprocessing import StandardScaler\n",
    "from sklearn.model_selection import train_test_split, GridSearchCV, cross_val_score, StratifiedKFold\n",
    "from sklearn.feature_selection import SelectFromModel, RFE\n",
    "from sklearn.tree import DecisionTreeClassifier\n",
    "from sklearn.ensemble import RandomForestClassifier\n",
    "from sklearn.metrics import classification_report, accuracy_score, confusion_matrix, precision_score, recall_score, f1_score\n",
    "from sklearn.ensemble import GradientBoostingClassifier\n",
    "import xgboost as xgb\n",
    "from sklearn.preprocessing import LabelEncoder\n",
    "from sklearn.neighbors import KNeighborsClassifier\n",
    "import statistics\n",
    "#import missingno as msno"
   ]
  },
  {
   "cell_type": "code",
   "execution_count": 62,
   "id": "3f9039af-dc61-4864-a03d-a603e6d19d54",
   "metadata": {},
   "outputs": [],
   "source": [
    "path_file = 'U98.xlsx'\n",
    "sheets_excel = pd.read_excel('U98.xlsx',sheet_name=None)"
   ]
  },
  {
   "cell_type": "code",
   "execution_count": 63,
   "id": "d5313571-9efe-4742-91e2-8c5a9dfb083f",
   "metadata": {},
   "outputs": [],
   "source": [
    "for name in list(sheets_excel.keys()):\n",
    "    sheets_excel[name].to_csv(name+'.csv', index=False)"
   ]
  },
  {
   "cell_type": "code",
   "execution_count": 64,
   "id": "b8664bb0-cbcf-43fd-8841-073a0e25beab",
   "metadata": {},
   "outputs": [
    {
     "data": {
      "text/plain": [
       "dict_keys(['U1399Data', 'R1399P1', 'R1399P2', 'U1399P3S01', 'U1399P3S02', 'U1399P3S03', 'U1399P3S04', 'U1399P3S05', 'U1399P3S06', 'U1399P3S07', 'U1399P3S08', 'U1399P3S09', 'U1399P3S10', 'U1399P3S11', 'U1399P3S12', 'U1399P3S13', 'U1399P3S14', 'U1399P4S01', 'U1399P4S02', 'U1399P4S03', 'U1399P4S04'])"
      ]
     },
     "execution_count": 64,
     "metadata": {},
     "output_type": "execute_result"
    }
   ],
   "source": [
    "sheets_excel.keys()"
   ]
  },
  {
   "cell_type": "markdown",
   "id": "fc40c815-377e-4135-be8f-c0dc1f051015",
   "metadata": {},
   "source": [
    "### P4_S01"
   ]
  },
  {
   "cell_type": "code",
   "execution_count": 111,
   "id": "4057d338-f804-48db-af07-861ca9a870b4",
   "metadata": {},
   "outputs": [],
   "source": [
    "DF_P4_S1 = pd.read_csv('U1399P4S01.csv')"
   ]
  },
  {
   "cell_type": "code",
   "execution_count": 112,
   "id": "cee54143-93a3-4aa1-9181-ce959cb0f086",
   "metadata": {},
   "outputs": [
    {
     "name": "stdout",
     "output_type": "stream",
     "text": [
      "<class 'pandas.core.frame.DataFrame'>\n",
      "RangeIndex: 12755 entries, 0 to 12754\n",
      "Data columns (total 19 columns):\n",
      " #   Column         Non-Null Count  Dtype  \n",
      "---  ------         --------------  -----  \n",
      " 0   Address        12755 non-null  int64  \n",
      " 1   member         12755 non-null  int64  \n",
      " 2   employed_w     12755 non-null  int64  \n",
      " 3   ISCO_w         12755 non-null  int64  \n",
      " 4   ISIC_w         12755 non-null  int64  \n",
      " 5   status_w       12755 non-null  int64  \n",
      " 6   hours_w        11858 non-null  float64\n",
      " 7   days_w         11858 non-null  float64\n",
      " 8   income_w_m     12755 non-null  int64  \n",
      " 9   income_w_y     12755 non-null  int64  \n",
      " 10  wage_w_m       12745 non-null  float64\n",
      " 11  wage_w_y       12751 non-null  float64\n",
      " 12  perk_w_m       12745 non-null  float64\n",
      " 13  perk_w_y       12751 non-null  float64\n",
      " 14  netincome_w_m  12755 non-null  int64  \n",
      " 15  netincome_w_y  12755 non-null  int64  \n",
      " 16  Fasl           12755 non-null  int64  \n",
      " 17  year           12755 non-null  int64  \n",
      " 18  DYCOL00        0 non-null      float64\n",
      "dtypes: float64(7), int64(12)\n",
      "memory usage: 1.8 MB\n"
     ]
    }
   ],
   "source": [
    "DF_P4_S1.info()"
   ]
  },
  {
   "cell_type": "markdown",
   "id": "f087010e-23ac-4029-bd99-5408095e75bc",
   "metadata": {},
   "source": [
    "<p dir=rtl style=\"direction: rtl;text-align: justify;line-height:200%;font-family:vazir;font-size:medium\">\n",
    "<font face=\"vazir\" size=5 color= orange>\n",
    "ستون DYcol00 کامل nan است."
   ]
  },
  {
   "cell_type": "code",
   "execution_count": 113,
   "id": "3c0a5108-e7f3-4a1e-a182-e25c43b29fe7",
   "metadata": {},
   "outputs": [],
   "source": [
    "DF_P4_S1.drop(['DYCOL00'], axis=1, inplace=True)"
   ]
  },
  {
   "cell_type": "markdown",
   "id": "7e57539b-5ebc-4b34-9bb2-f89ad3afe262",
   "metadata": {},
   "source": [
    "<p dir=rtl style=\"direction: rtl;text-align: justify;line-height:200%;font-family:vazir;font-size:medium\">\n",
    "<font face=\"vazir\" size=5 color= orange>\n",
    "همبستگی ستون‌های income_w , wage_w, netincome_w مورد برسی قرار گرفت و چون همستگی ستون income در سال‌های دیگه کم بود فقط ستون wage_w حذف میشود."
   ]
  },
  {
   "cell_type": "code",
   "execution_count": 114,
   "id": "f115cfa1-2730-43eb-9e85-6738100ce645",
   "metadata": {},
   "outputs": [
    {
     "data": {
      "text/html": [
       "<div>\n",
       "<style scoped>\n",
       "    .dataframe tbody tr th:only-of-type {\n",
       "        vertical-align: middle;\n",
       "    }\n",
       "\n",
       "    .dataframe tbody tr th {\n",
       "        vertical-align: top;\n",
       "    }\n",
       "\n",
       "    .dataframe thead th {\n",
       "        text-align: right;\n",
       "    }\n",
       "</style>\n",
       "<table border=\"1\" class=\"dataframe\">\n",
       "  <thead>\n",
       "    <tr style=\"text-align: right;\">\n",
       "      <th></th>\n",
       "      <th>income_w_m</th>\n",
       "      <th>wage_w_m</th>\n",
       "      <th>netincome_w_m</th>\n",
       "    </tr>\n",
       "  </thead>\n",
       "  <tbody>\n",
       "    <tr>\n",
       "      <th>income_w_m</th>\n",
       "      <td>1.000000</td>\n",
       "      <td>0.762181</td>\n",
       "      <td>0.780017</td>\n",
       "    </tr>\n",
       "    <tr>\n",
       "      <th>wage_w_m</th>\n",
       "      <td>0.762181</td>\n",
       "      <td>1.000000</td>\n",
       "      <td>0.978651</td>\n",
       "    </tr>\n",
       "    <tr>\n",
       "      <th>netincome_w_m</th>\n",
       "      <td>0.780017</td>\n",
       "      <td>0.978651</td>\n",
       "      <td>1.000000</td>\n",
       "    </tr>\n",
       "  </tbody>\n",
       "</table>\n",
       "</div>"
      ],
      "text/plain": [
       "               income_w_m  wage_w_m  netincome_w_m\n",
       "income_w_m       1.000000  0.762181       0.780017\n",
       "wage_w_m         0.762181  1.000000       0.978651\n",
       "netincome_w_m    0.780017  0.978651       1.000000"
      ]
     },
     "execution_count": 114,
     "metadata": {},
     "output_type": "execute_result"
    }
   ],
   "source": [
    "DF_P4_S1[['income_w_m', 'wage_w_m', 'netincome_w_m']].corr()"
   ]
  },
  {
   "cell_type": "code",
   "execution_count": 115,
   "id": "9d3a559e-8b81-429c-8bcc-b3a3991ea6b9",
   "metadata": {},
   "outputs": [
    {
     "data": {
      "text/html": [
       "<div>\n",
       "<style scoped>\n",
       "    .dataframe tbody tr th:only-of-type {\n",
       "        vertical-align: middle;\n",
       "    }\n",
       "\n",
       "    .dataframe tbody tr th {\n",
       "        vertical-align: top;\n",
       "    }\n",
       "\n",
       "    .dataframe thead th {\n",
       "        text-align: right;\n",
       "    }\n",
       "</style>\n",
       "<table border=\"1\" class=\"dataframe\">\n",
       "  <thead>\n",
       "    <tr style=\"text-align: right;\">\n",
       "      <th></th>\n",
       "      <th>income_w_y</th>\n",
       "      <th>wage_w_y</th>\n",
       "      <th>netincome_w_y</th>\n",
       "    </tr>\n",
       "  </thead>\n",
       "  <tbody>\n",
       "    <tr>\n",
       "      <th>income_w_y</th>\n",
       "      <td>1.000000</td>\n",
       "      <td>0.835469</td>\n",
       "      <td>0.846165</td>\n",
       "    </tr>\n",
       "    <tr>\n",
       "      <th>wage_w_y</th>\n",
       "      <td>0.835469</td>\n",
       "      <td>1.000000</td>\n",
       "      <td>0.988116</td>\n",
       "    </tr>\n",
       "    <tr>\n",
       "      <th>netincome_w_y</th>\n",
       "      <td>0.846165</td>\n",
       "      <td>0.988116</td>\n",
       "      <td>1.000000</td>\n",
       "    </tr>\n",
       "  </tbody>\n",
       "</table>\n",
       "</div>"
      ],
      "text/plain": [
       "               income_w_y  wage_w_y  netincome_w_y\n",
       "income_w_y       1.000000  0.835469       0.846165\n",
       "wage_w_y         0.835469  1.000000       0.988116\n",
       "netincome_w_y    0.846165  0.988116       1.000000"
      ]
     },
     "execution_count": 115,
     "metadata": {},
     "output_type": "execute_result"
    }
   ],
   "source": [
    "DF_P4_S1[['income_w_y', 'wage_w_y', 'netincome_w_y']].corr()"
   ]
  },
  {
   "cell_type": "code",
   "execution_count": 116,
   "id": "ed34b0aa-82c8-48e1-b029-5cf63a01bb4e",
   "metadata": {},
   "outputs": [],
   "source": [
    "DF_P4_S1.drop(['wage_w_m'], axis=1 , inplace= True)\n",
    "DF_P4_S1.drop(['wage_w_y'], axis=1 , inplace= True)"
   ]
  },
  {
   "cell_type": "markdown",
   "id": "246a30e3-ca34-4961-8b46-86ddc63cec73",
   "metadata": {},
   "source": [
    "<p dir=rtl style=\"direction: rtl;text-align: justify;line-height:200%;font-family:vazir;font-size:medium\">\n",
    "<font face=\"vazir\" size=5 color= orange>\n",
    "با توجه به اطلاعات زیر ستون‌های employed_w, status_w,  perk_w_m دارای imblance هستند بنابراین حذف می‌کنیم."
   ]
  },
  {
   "cell_type": "code",
   "execution_count": 117,
   "id": "4ceed37f-7b18-4ce1-b198-bf537699d911",
   "metadata": {},
   "outputs": [
    {
     "name": "stdout",
     "output_type": "stream",
     "text": [
      "        Address 0.000706\n",
      "         member 0.655978\n",
      "     employed_w 0.916268\n",
      "         ISCO_w 0.152803\n",
      "         ISIC_w 0.155782\n",
      "       status_w 0.753195\n",
      "        hours_w 0.497530\n",
      "         days_w 0.503646\n",
      "     income_w_m 0.090474\n",
      "     income_w_y 0.041552\n",
      "       perk_w_m 0.923089\n",
      "       perk_w_y 0.563309\n",
      "  netincome_w_m 0.091102\n",
      "  netincome_w_y 0.041160\n",
      "           Fasl 0.262328\n",
      "           year 1.000000\n"
     ]
    }
   ],
   "source": [
    "for col in DF_P4_S1.columns:\n",
    " print(f'{col :>15} {(DF_P4_S1[col].value_counts()/len(DF_P4_S1)).max():f}')"
   ]
  },
  {
   "cell_type": "code",
   "execution_count": 118,
   "id": "abf31e6c-2d81-4362-be94-ca82645bda71",
   "metadata": {},
   "outputs": [],
   "source": [
    "DF_P4_S1.drop(['employed_w', 'status_w', 'perk_w_m'], inplace=True, axis=1)"
   ]
  },
  {
   "cell_type": "code",
   "execution_count": 119,
   "id": "05cee4ff-90ef-46cf-98eb-369c50b87727",
   "metadata": {},
   "outputs": [
    {
     "data": {
      "text/plain": [
       "Address            0\n",
       "member             0\n",
       "ISCO_w             0\n",
       "ISIC_w             0\n",
       "hours_w          897\n",
       "days_w           897\n",
       "income_w_m         0\n",
       "income_w_y         0\n",
       "perk_w_y           4\n",
       "netincome_w_m      0\n",
       "netincome_w_y      0\n",
       "Fasl               0\n",
       "year               0\n",
       "dtype: int64"
      ]
     },
     "execution_count": 119,
     "metadata": {},
     "output_type": "execute_result"
    }
   ],
   "source": [
    "DF_P4_S1.isna().sum()"
   ]
  },
  {
   "cell_type": "markdown",
   "id": "436cdd83-bda6-4fcd-95e3-c3254ae1c20b",
   "metadata": {},
   "source": [
    "<p dir=rtl style=\"direction: rtl;text-align: justify;line-height:200%;font-family:vazir;font-size:medium\">\n",
    "<font face=\"vazir\" size=5 color= orange>\n",
    "ستون‌های day_w , hours_w با گروه بندی روی ISCO_w, ISIC_w پر می‌کنیم و ما بقی را با میانه کل داده‌ها پر می‌کنیم."
   ]
  },
  {
   "cell_type": "code",
   "execution_count": 120,
   "id": "6de147cb-5783-475e-90e9-87d642a69a8e",
   "metadata": {},
   "outputs": [],
   "source": [
    "temp = DF_P4_S1.groupby(['ISCO_w', 'ISIC_w' ])[['hours_w','days_w']].transform('median')\n",
    "#temp = np.floor(temp).astype(pd.Float64Dtype())\n",
    "DF_P4_S1.loc[DF_P4_S1.hours_w.isna(), 'hours_w'] = temp.loc[DF_P4_S1.hours_w.isna(), 'hours_w']\n",
    "DF_P4_S1.loc[DF_P4_S1.days_w.isna(), 'days_w'] = temp.loc[DF_P4_S1.days_w.isna(), 'days_w']"
   ]
  },
  {
   "cell_type": "code",
   "execution_count": 121,
   "id": "490a12db-5c09-40f4-b8a5-2f4cc12f60e5",
   "metadata": {},
   "outputs": [
    {
     "data": {
      "text/plain": [
       "Address            0\n",
       "member             0\n",
       "ISCO_w             0\n",
       "ISIC_w             0\n",
       "hours_w           99\n",
       "days_w           100\n",
       "income_w_m         0\n",
       "income_w_y         0\n",
       "perk_w_y           4\n",
       "netincome_w_m      0\n",
       "netincome_w_y      0\n",
       "Fasl               0\n",
       "year               0\n",
       "dtype: int64"
      ]
     },
     "execution_count": 121,
     "metadata": {},
     "output_type": "execute_result"
    }
   ],
   "source": [
    "DF_P4_S1.isna().sum()"
   ]
  },
  {
   "cell_type": "code",
   "execution_count": 122,
   "id": "ad91d730-a7ed-4492-9975-c8d5b0707792",
   "metadata": {},
   "outputs": [],
   "source": [
    "DF_P4_S1.hours_w.fillna(DF_P4_S1.hours_w.median(),inplace= True)\n",
    "DF_P4_S1.days_w.fillna(DF_P4_S1.days_w.median(), inplace= True)"
   ]
  },
  {
   "cell_type": "code",
   "execution_count": 123,
   "id": "76e4b20a-60d4-42c1-b937-7733d6ff17f9",
   "metadata": {
    "scrolled": true
   },
   "outputs": [
    {
     "data": {
      "text/plain": [
       "Address          0\n",
       "member           0\n",
       "ISCO_w           0\n",
       "ISIC_w           0\n",
       "hours_w          0\n",
       "days_w           0\n",
       "income_w_m       0\n",
       "income_w_y       0\n",
       "perk_w_y         4\n",
       "netincome_w_m    0\n",
       "netincome_w_y    0\n",
       "Fasl             0\n",
       "year             0\n",
       "dtype: int64"
      ]
     },
     "execution_count": 123,
     "metadata": {},
     "output_type": "execute_result"
    }
   ],
   "source": [
    "DF_P4_S1.isna().sum()"
   ]
  },
  {
   "cell_type": "code",
   "execution_count": 124,
   "id": "6177d73c-b26a-4953-b107-126d42593fe4",
   "metadata": {},
   "outputs": [],
   "source": [
    "DF_P4_S1.dropna(inplace=True)"
   ]
  },
  {
   "cell_type": "code",
   "execution_count": 125,
   "id": "4e95959c-c580-4780-80c0-4d1cb9111723",
   "metadata": {},
   "outputs": [],
   "source": [
    "path_file = 'U1398_P4_S01'\n",
    "DF_P4_S1.to_csv(path_file+'.csv', index=False)"
   ]
  },
  {
   "cell_type": "markdown",
   "id": "4ddb6f69-ef0e-4ca5-ad30-480e401acf4b",
   "metadata": {},
   "source": [
    "### P4_S02"
   ]
  },
  {
   "cell_type": "code",
   "execution_count": 126,
   "id": "797b1780-dbd7-4120-9dbc-2bc11cab594b",
   "metadata": {},
   "outputs": [
    {
     "data": {
      "text/html": [
       "<div>\n",
       "<style scoped>\n",
       "    .dataframe tbody tr th:only-of-type {\n",
       "        vertical-align: middle;\n",
       "    }\n",
       "\n",
       "    .dataframe tbody tr th {\n",
       "        vertical-align: top;\n",
       "    }\n",
       "\n",
       "    .dataframe thead th {\n",
       "        text-align: right;\n",
       "    }\n",
       "</style>\n",
       "<table border=\"1\" class=\"dataframe\">\n",
       "  <thead>\n",
       "    <tr style=\"text-align: right;\">\n",
       "      <th></th>\n",
       "      <th>Address</th>\n",
       "      <th>member</th>\n",
       "      <th>employed_s</th>\n",
       "      <th>ISCO_s</th>\n",
       "      <th>ISIC_s</th>\n",
       "      <th>status_s</th>\n",
       "      <th>agriculture</th>\n",
       "      <th>hours_s</th>\n",
       "      <th>days_s</th>\n",
       "      <th>cost_employment</th>\n",
       "      <th>cost_raw</th>\n",
       "      <th>cost_machinery</th>\n",
       "      <th>cost_others</th>\n",
       "      <th>cost_tax</th>\n",
       "      <th>sale</th>\n",
       "      <th>income_s_y</th>\n",
       "      <th>Fasl</th>\n",
       "      <th>year</th>\n",
       "      <th>DYCOL00</th>\n",
       "    </tr>\n",
       "  </thead>\n",
       "  <tbody>\n",
       "    <tr>\n",
       "      <th>0</th>\n",
       "      <td>10002002808</td>\n",
       "      <td>1.0</td>\n",
       "      <td>1.0</td>\n",
       "      <td>7213.0</td>\n",
       "      <td>45200.0</td>\n",
       "      <td>5.0</td>\n",
       "      <td>2.0</td>\n",
       "      <td>9.0</td>\n",
       "      <td>7.0</td>\n",
       "      <td>NaN</td>\n",
       "      <td>7.000000e+07</td>\n",
       "      <td>10000000.0</td>\n",
       "      <td>20000000.0</td>\n",
       "      <td>NaN</td>\n",
       "      <td>3.400000e+08</td>\n",
       "      <td>240000000.0</td>\n",
       "      <td>1</td>\n",
       "      <td>98</td>\n",
       "      <td>NaN</td>\n",
       "    </tr>\n",
       "    <tr>\n",
       "      <th>1</th>\n",
       "      <td>10002002815</td>\n",
       "      <td>1.0</td>\n",
       "      <td>1.0</td>\n",
       "      <td>1412.0</td>\n",
       "      <td>56100.0</td>\n",
       "      <td>4.0</td>\n",
       "      <td>2.0</td>\n",
       "      <td>7.0</td>\n",
       "      <td>7.0</td>\n",
       "      <td>233000000.0</td>\n",
       "      <td>2.400000e+09</td>\n",
       "      <td>20000000.0</td>\n",
       "      <td>100000000.0</td>\n",
       "      <td>50000000.0</td>\n",
       "      <td>3.263000e+09</td>\n",
       "      <td>460000000.0</td>\n",
       "      <td>1</td>\n",
       "      <td>98</td>\n",
       "      <td>NaN</td>\n",
       "    </tr>\n",
       "    <tr>\n",
       "      <th>2</th>\n",
       "      <td>10002002815</td>\n",
       "      <td>1.0</td>\n",
       "      <td>1.0</td>\n",
       "      <td>5224.0</td>\n",
       "      <td>47213.0</td>\n",
       "      <td>5.0</td>\n",
       "      <td>2.0</td>\n",
       "      <td>5.0</td>\n",
       "      <td>4.0</td>\n",
       "      <td>NaN</td>\n",
       "      <td>1.100000e+09</td>\n",
       "      <td>2000000.0</td>\n",
       "      <td>5000000.0</td>\n",
       "      <td>25000000.0</td>\n",
       "      <td>1.172000e+09</td>\n",
       "      <td>40000000.0</td>\n",
       "      <td>1</td>\n",
       "      <td>98</td>\n",
       "      <td>NaN</td>\n",
       "    </tr>\n",
       "    <tr>\n",
       "      <th>3</th>\n",
       "      <td>10006006814</td>\n",
       "      <td>1.0</td>\n",
       "      <td>1.0</td>\n",
       "      <td>5224.0</td>\n",
       "      <td>47212.0</td>\n",
       "      <td>5.0</td>\n",
       "      <td>2.0</td>\n",
       "      <td>8.0</td>\n",
       "      <td>7.0</td>\n",
       "      <td>NaN</td>\n",
       "      <td>1.000000e+09</td>\n",
       "      <td>3000000.0</td>\n",
       "      <td>145000000.0</td>\n",
       "      <td>15000000.0</td>\n",
       "      <td>1.583000e+09</td>\n",
       "      <td>420000000.0</td>\n",
       "      <td>1</td>\n",
       "      <td>98</td>\n",
       "      <td>NaN</td>\n",
       "    </tr>\n",
       "    <tr>\n",
       "      <th>4</th>\n",
       "      <td>10006006812</td>\n",
       "      <td>1.0</td>\n",
       "      <td>1.0</td>\n",
       "      <td>5224.0</td>\n",
       "      <td>47212.0</td>\n",
       "      <td>5.0</td>\n",
       "      <td>2.0</td>\n",
       "      <td>8.0</td>\n",
       "      <td>7.0</td>\n",
       "      <td>NaN</td>\n",
       "      <td>3.000000e+08</td>\n",
       "      <td>10000000.0</td>\n",
       "      <td>6000000.0</td>\n",
       "      <td>NaN</td>\n",
       "      <td>4.200000e+08</td>\n",
       "      <td>104000000.0</td>\n",
       "      <td>1</td>\n",
       "      <td>98</td>\n",
       "      <td>NaN</td>\n",
       "    </tr>\n",
       "  </tbody>\n",
       "</table>\n",
       "</div>"
      ],
      "text/plain": [
       "       Address  member  employed_s  ISCO_s   ISIC_s  status_s  agriculture  \\\n",
       "0  10002002808     1.0         1.0  7213.0  45200.0       5.0          2.0   \n",
       "1  10002002815     1.0         1.0  1412.0  56100.0       4.0          2.0   \n",
       "2  10002002815     1.0         1.0  5224.0  47213.0       5.0          2.0   \n",
       "3  10006006814     1.0         1.0  5224.0  47212.0       5.0          2.0   \n",
       "4  10006006812     1.0         1.0  5224.0  47212.0       5.0          2.0   \n",
       "\n",
       "   hours_s  days_s  cost_employment      cost_raw  cost_machinery  \\\n",
       "0      9.0     7.0              NaN  7.000000e+07      10000000.0   \n",
       "1      7.0     7.0      233000000.0  2.400000e+09      20000000.0   \n",
       "2      5.0     4.0              NaN  1.100000e+09       2000000.0   \n",
       "3      8.0     7.0              NaN  1.000000e+09       3000000.0   \n",
       "4      8.0     7.0              NaN  3.000000e+08      10000000.0   \n",
       "\n",
       "   cost_others    cost_tax          sale   income_s_y  Fasl  year  DYCOL00  \n",
       "0   20000000.0         NaN  3.400000e+08  240000000.0     1    98      NaN  \n",
       "1  100000000.0  50000000.0  3.263000e+09  460000000.0     1    98      NaN  \n",
       "2    5000000.0  25000000.0  1.172000e+09   40000000.0     1    98      NaN  \n",
       "3  145000000.0  15000000.0  1.583000e+09  420000000.0     1    98      NaN  \n",
       "4    6000000.0         NaN  4.200000e+08  104000000.0     1    98      NaN  "
      ]
     },
     "execution_count": 126,
     "metadata": {},
     "output_type": "execute_result"
    }
   ],
   "source": [
    "DF_P4_S2 = pd.read_csv('U1399P4S02.csv')\n",
    "DF_P4_S2.head()"
   ]
  },
  {
   "cell_type": "code",
   "execution_count": 127,
   "id": "4d4b3333-5c5b-4840-84c2-5940ecfb3149",
   "metadata": {},
   "outputs": [
    {
     "name": "stdout",
     "output_type": "stream",
     "text": [
      "<class 'pandas.core.frame.DataFrame'>\n",
      "RangeIndex: 7312 entries, 0 to 7311\n",
      "Data columns (total 19 columns):\n",
      " #   Column           Non-Null Count  Dtype  \n",
      "---  ------           --------------  -----  \n",
      " 0   Address          7312 non-null   int64  \n",
      " 1   member           7311 non-null   float64\n",
      " 2   employed_s       7311 non-null   float64\n",
      " 3   ISCO_s           7310 non-null   float64\n",
      " 4   ISIC_s           7310 non-null   float64\n",
      " 5   status_s         7311 non-null   float64\n",
      " 6   agriculture      7311 non-null   float64\n",
      " 7   hours_s          7146 non-null   float64\n",
      " 8   days_s           7147 non-null   float64\n",
      " 9   cost_employment  6333 non-null   float64\n",
      " 10  cost_raw         7117 non-null   float64\n",
      " 11  cost_machinery   6871 non-null   float64\n",
      " 12  cost_others      7034 non-null   float64\n",
      " 13  cost_tax         6400 non-null   float64\n",
      " 14  sale             7268 non-null   float64\n",
      " 15  income_s_y       7311 non-null   float64\n",
      " 16  Fasl             7312 non-null   int64  \n",
      " 17  year             7312 non-null   int64  \n",
      " 18  DYCOL00          0 non-null      float64\n",
      "dtypes: float64(16), int64(3)\n",
      "memory usage: 1.1 MB\n"
     ]
    }
   ],
   "source": [
    "DF_P4_S2.info()"
   ]
  },
  {
   "cell_type": "code",
   "execution_count": 128,
   "id": "d733ec9f-4f81-4014-b406-ccf0d317e635",
   "metadata": {},
   "outputs": [],
   "source": [
    "DF_P4_S2.drop(['DYCOL00'], axis=1 , inplace= True)"
   ]
  },
  {
   "cell_type": "markdown",
   "id": "42f2e3a7-f730-49a8-a074-d83083a7df3f",
   "metadata": {},
   "source": [
    "<p dir=rtl style=\"direction: rtl;text-align: justify;line-height:200%;font-family:vazir;font-size:medium\">\n",
    "<font face=\"vazir\" size=5 color= orange>\n",
    "ستون‌های cost جمع می‌شوند و در ستون جدیدی به نام Total_cost ذخیره می‌شوند."
   ]
  },
  {
   "cell_type": "code",
   "execution_count": 129,
   "id": "db352c6b-521f-4591-887e-f8078b768904",
   "metadata": {},
   "outputs": [],
   "source": [
    "del_columns = ['cost_employment', 'cost_raw', 'cost_machinery', 'cost_others', 'cost_tax']\n",
    "DF_P4_S2.insert(9,'Total_cost', DF_P4_S2.loc[:,'cost_employment':'cost_tax' ].sum(axis=1))\n",
    "DF_P4_S2.drop(del_columns, axis=1, inplace=True)"
   ]
  },
  {
   "cell_type": "code",
   "execution_count": 130,
   "id": "8e3ed9ee-db15-40eb-b618-9c93932be817",
   "metadata": {},
   "outputs": [
    {
     "data": {
      "text/plain": [
       "Address          0\n",
       "member           1\n",
       "employed_s       1\n",
       "ISCO_s           2\n",
       "ISIC_s           2\n",
       "status_s         1\n",
       "agriculture      1\n",
       "hours_s        166\n",
       "days_s         165\n",
       "Total_cost       0\n",
       "sale            44\n",
       "income_s_y       1\n",
       "Fasl             0\n",
       "year             0\n",
       "dtype: int64"
      ]
     },
     "execution_count": 130,
     "metadata": {},
     "output_type": "execute_result"
    }
   ],
   "source": [
    "DF_P4_S2.isna().sum()"
   ]
  },
  {
   "cell_type": "markdown",
   "id": "0366199f-2d99-47d7-93fe-f8c7a85173bb",
   "metadata": {},
   "source": [
    "<p dir=rtl style=\"direction: rtl;text-align: justify;line-height:200%;font-family:vazir;font-size:medium\">\n",
    "<font face=\"vazir\" size=5 color= orange>\n",
    "ستون‌های day_s , hours_s با گروه بندی روی ISCO_s, ISIC_s پر می‌کنیم و ما بقی را با میانه کل داده‌ها پر می‌کنیم."
   ]
  },
  {
   "cell_type": "code",
   "execution_count": 131,
   "id": "1d444551-8343-4b2c-b355-c4b3c7de3e8b",
   "metadata": {},
   "outputs": [],
   "source": [
    "temp = DF_P4_S2.groupby(['ISCO_s', 'ISIC_s' ])[['hours_s','days_s']].transform('median')\n",
    "#temp = np.floor(temp).astype(pd.Int16Dtype())\n",
    "DF_P4_S2.loc[DF_P4_S2.hours_s.isna(), 'hours_s'] = temp.loc[DF_P4_S2.hours_s.isna(), 'hours_s']\n",
    "DF_P4_S2.loc[DF_P4_S2.days_s.isna(), 'days_s'] = temp.loc[DF_P4_S2.days_s.isna(), 'days_s']\n",
    "\n",
    "DF_P4_S2.hours_s.fillna(DF_P4_S2.hours_s.median(),inplace= True)\n",
    "DF_P4_S2.days_s.fillna(DF_P4_S2.days_s.median(), inplace= True)"
   ]
  },
  {
   "cell_type": "code",
   "execution_count": 132,
   "id": "53708c7c-4cca-453a-ae4f-6ee365c95206",
   "metadata": {},
   "outputs": [
    {
     "data": {
      "text/plain": [
       "Address         0\n",
       "member          1\n",
       "employed_s      1\n",
       "ISCO_s          2\n",
       "ISIC_s          2\n",
       "status_s        1\n",
       "agriculture     1\n",
       "hours_s         0\n",
       "days_s          0\n",
       "Total_cost      0\n",
       "sale           44\n",
       "income_s_y      1\n",
       "Fasl            0\n",
       "year            0\n",
       "dtype: int64"
      ]
     },
     "execution_count": 132,
     "metadata": {},
     "output_type": "execute_result"
    }
   ],
   "source": [
    "DF_P4_S2.isna().sum()"
   ]
  },
  {
   "cell_type": "code",
   "execution_count": 133,
   "id": "3558c014-5ec5-4780-a46a-0b88f1f455a8",
   "metadata": {},
   "outputs": [],
   "source": [
    "DF_P4_S2.dropna(subset = ['member','employed_s','ISCO_s','ISIC_s','status_s','agriculture'],inplace=True)"
   ]
  },
  {
   "cell_type": "code",
   "execution_count": 134,
   "id": "cae58354-5943-4567-acca-92a1cc54d591",
   "metadata": {},
   "outputs": [
    {
     "data": {
      "text/plain": [
       "Address         0\n",
       "member          0\n",
       "employed_s      0\n",
       "ISCO_s          0\n",
       "ISIC_s          0\n",
       "status_s        0\n",
       "agriculture     0\n",
       "hours_s         0\n",
       "days_s          0\n",
       "Total_cost      0\n",
       "sale           43\n",
       "income_s_y      0\n",
       "Fasl            0\n",
       "year            0\n",
       "dtype: int64"
      ]
     },
     "execution_count": 134,
     "metadata": {},
     "output_type": "execute_result"
    }
   ],
   "source": [
    "DF_P4_S2.isna().sum()"
   ]
  },
  {
   "cell_type": "markdown",
   "id": "f42ad2dd-74ed-4ac7-924e-7de450c95b18",
   "metadata": {},
   "source": [
    "<p dir=rtl style=\"direction: rtl;text-align: justify;line-height:200%;font-family:vazir;font-size:medium\">\n",
    "<font face=\"vazir\" size=5 color= orange>\n",
    "ستون sale\n",
    "همان طور که در کد زیر نشان داده شده است تقریبن در 100 درصد موارد nan در ستون income_s_y مقدار0 دارد."
   ]
  },
  {
   "cell_type": "code",
   "execution_count": 135,
   "id": "470da841-ad33-4eb3-96d9-3a1bcc1d8b59",
   "metadata": {},
   "outputs": [
    {
     "data": {
      "text/plain": [
       "income_s_y\n",
       "0.0    100.0\n",
       "Name: count, dtype: float64"
      ]
     },
     "execution_count": 135,
     "metadata": {},
     "output_type": "execute_result"
    }
   ],
   "source": [
    "DF_P4_S2.loc[DF_P4_S2.sale.isna()].income_s_y.value_counts() / DF_P4_S2.sale.isna().sum() * 100"
   ]
  },
  {
   "cell_type": "code",
   "execution_count": 136,
   "id": "097776c8-0795-4219-8ca5-3ea80703e716",
   "metadata": {},
   "outputs": [
    {
     "data": {
      "text/plain": [
       "status_s\n",
       "6.0    43\n",
       "Name: count, dtype: int64"
      ]
     },
     "execution_count": 136,
     "metadata": {},
     "output_type": "execute_result"
    }
   ],
   "source": [
    "DF_P4_S2.loc[DF_P4_S2.sale.isna()].status_s.value_counts()"
   ]
  },
  {
   "cell_type": "code",
   "execution_count": 137,
   "id": "a1e356e0-2e99-4928-b996-b028bb369c31",
   "metadata": {},
   "outputs": [],
   "source": [
    "DF_P4_S2.fillna(0, inplace=True)"
   ]
  },
  {
   "cell_type": "markdown",
   "id": "9953d962-2749-4713-a846-0ee887e3b97e",
   "metadata": {},
   "source": [
    "<p dir=rtl style=\"direction: rtl;text-align: justify;line-height:200%;font-family:vazir;font-size:medium\">\n",
    "<font face=\"vazir\" size=5 color= orange>\n",
    "ستون employed_s به دلیل imblance حذف می‌کنیم."
   ]
  },
  {
   "cell_type": "code",
   "execution_count": 138,
   "id": "d03457a0-a2f6-4b0a-8b55-f6faf488d2e9",
   "metadata": {},
   "outputs": [
    {
     "name": "stdout",
     "output_type": "stream",
     "text": [
      "        Address 0.000821\n",
      "         member 0.780027\n",
      "     employed_s 0.970178\n",
      "         ISCO_s 0.189877\n",
      "         ISIC_s 0.131464\n",
      "       status_s 0.835021\n",
      "    agriculture 0.778386\n",
      "        hours_s 0.270725\n",
      "         days_s 0.455130\n",
      "     Total_cost 0.169083\n",
      "           sale 0.066347\n",
      "     income_s_y 0.059781\n",
      "           Fasl 0.269083\n",
      "           year 1.000000\n"
     ]
    }
   ],
   "source": [
    "for col in DF_P4_S2.columns:\n",
    " print(f'{col :>15} {(DF_P4_S2[col].value_counts()/len(DF_P4_S2)).max():f}')"
   ]
  },
  {
   "cell_type": "code",
   "execution_count": 139,
   "id": "dfe2f96e-85db-4f9f-b1f8-162b01b61fe7",
   "metadata": {},
   "outputs": [],
   "source": [
    "DF_P4_S2.drop(['employed_s'],axis=1, inplace=True)"
   ]
  },
  {
   "cell_type": "code",
   "execution_count": 140,
   "id": "f3e5f0a3-b1d5-4cb6-ac90-f17fdf7bd66e",
   "metadata": {},
   "outputs": [
    {
     "data": {
      "text/plain": [
       "Address        0\n",
       "member         0\n",
       "ISCO_s         0\n",
       "ISIC_s         0\n",
       "status_s       0\n",
       "agriculture    0\n",
       "hours_s        0\n",
       "days_s         0\n",
       "Total_cost     0\n",
       "sale           0\n",
       "income_s_y     0\n",
       "Fasl           0\n",
       "year           0\n",
       "dtype: int64"
      ]
     },
     "execution_count": 140,
     "metadata": {},
     "output_type": "execute_result"
    }
   ],
   "source": [
    "DF_P4_S2.isna().sum()"
   ]
  },
  {
   "cell_type": "code",
   "execution_count": 141,
   "id": "7afab917-4335-4e6c-9d78-e7e264c8bac2",
   "metadata": {},
   "outputs": [],
   "source": [
    "path_file = 'U1398_P4_S02'\n",
    "DF_P4_S2.to_csv(path_file+'.csv', index=False)"
   ]
  },
  {
   "cell_type": "markdown",
   "id": "477c7fc6-7aec-453e-86de-70297d5a2d97",
   "metadata": {},
   "source": [
    "### P4_S03"
   ]
  },
  {
   "cell_type": "code",
   "execution_count": 142,
   "id": "56f59032-81c8-43b7-adb7-5f43c36f4d2f",
   "metadata": {},
   "outputs": [
    {
     "data": {
      "text/html": [
       "<div>\n",
       "<style scoped>\n",
       "    .dataframe tbody tr th:only-of-type {\n",
       "        vertical-align: middle;\n",
       "    }\n",
       "\n",
       "    .dataframe tbody tr th {\n",
       "        vertical-align: top;\n",
       "    }\n",
       "\n",
       "    .dataframe thead th {\n",
       "        text-align: right;\n",
       "    }\n",
       "</style>\n",
       "<table border=\"1\" class=\"dataframe\">\n",
       "  <thead>\n",
       "    <tr style=\"text-align: right;\">\n",
       "      <th></th>\n",
       "      <th>Address</th>\n",
       "      <th>member</th>\n",
       "      <th>income_pension</th>\n",
       "      <th>income_rent</th>\n",
       "      <th>income_interest</th>\n",
       "      <th>income_aid</th>\n",
       "      <th>income_resale</th>\n",
       "      <th>income_transfer</th>\n",
       "      <th>Fasl</th>\n",
       "      <th>year</th>\n",
       "      <th>DYCOL00</th>\n",
       "    </tr>\n",
       "  </thead>\n",
       "  <tbody>\n",
       "    <tr>\n",
       "      <th>0</th>\n",
       "      <td>10004004223</td>\n",
       "      <td>1</td>\n",
       "      <td>0358000000</td>\n",
       "      <td>NaN</td>\n",
       "      <td>NaN</td>\n",
       "      <td>NaN</td>\n",
       "      <td>NaN</td>\n",
       "      <td>NaN</td>\n",
       "      <td>1</td>\n",
       "      <td>98</td>\n",
       "      <td>NaN</td>\n",
       "    </tr>\n",
       "    <tr>\n",
       "      <th>1</th>\n",
       "      <td>10004004223</td>\n",
       "      <td>2</td>\n",
       "      <td>0262000000</td>\n",
       "      <td>NaN</td>\n",
       "      <td>NaN</td>\n",
       "      <td>NaN</td>\n",
       "      <td>NaN</td>\n",
       "      <td>NaN</td>\n",
       "      <td>1</td>\n",
       "      <td>98</td>\n",
       "      <td>NaN</td>\n",
       "    </tr>\n",
       "    <tr>\n",
       "      <th>2</th>\n",
       "      <td>10002002810</td>\n",
       "      <td>1</td>\n",
       "      <td>NaN</td>\n",
       "      <td>0060000000</td>\n",
       "      <td>NaN</td>\n",
       "      <td>NaN</td>\n",
       "      <td>NaN</td>\n",
       "      <td>30000000.0</td>\n",
       "      <td>1</td>\n",
       "      <td>98</td>\n",
       "      <td>NaN</td>\n",
       "    </tr>\n",
       "    <tr>\n",
       "      <th>3</th>\n",
       "      <td>10002002820</td>\n",
       "      <td>1</td>\n",
       "      <td>0165000000</td>\n",
       "      <td>NaN</td>\n",
       "      <td>NaN</td>\n",
       "      <td>NaN</td>\n",
       "      <td>NaN</td>\n",
       "      <td>NaN</td>\n",
       "      <td>1</td>\n",
       "      <td>98</td>\n",
       "      <td>NaN</td>\n",
       "    </tr>\n",
       "    <tr>\n",
       "      <th>4</th>\n",
       "      <td>10002002823</td>\n",
       "      <td>1</td>\n",
       "      <td>0212400000</td>\n",
       "      <td>NaN</td>\n",
       "      <td>NaN</td>\n",
       "      <td>NaN</td>\n",
       "      <td>30000000.0</td>\n",
       "      <td>NaN</td>\n",
       "      <td>1</td>\n",
       "      <td>98</td>\n",
       "      <td>NaN</td>\n",
       "    </tr>\n",
       "  </tbody>\n",
       "</table>\n",
       "</div>"
      ],
      "text/plain": [
       "       Address  member income_pension income_rent  income_interest  \\\n",
       "0  10004004223       1     0358000000         NaN              NaN   \n",
       "1  10004004223       2     0262000000         NaN              NaN   \n",
       "2  10002002810       1            NaN  0060000000              NaN   \n",
       "3  10002002820       1     0165000000         NaN              NaN   \n",
       "4  10002002823       1     0212400000         NaN              NaN   \n",
       "\n",
       "   income_aid  income_resale  income_transfer  Fasl  year  DYCOL00  \n",
       "0         NaN            NaN              NaN     1    98      NaN  \n",
       "1         NaN            NaN              NaN     1    98      NaN  \n",
       "2         NaN            NaN       30000000.0     1    98      NaN  \n",
       "3         NaN            NaN              NaN     1    98      NaN  \n",
       "4         NaN     30000000.0              NaN     1    98      NaN  "
      ]
     },
     "execution_count": 142,
     "metadata": {},
     "output_type": "execute_result"
    }
   ],
   "source": [
    "DF_P4_S3 = pd.read_csv('U1399P4S03.csv')\n",
    "DF_P4_S3.head()"
   ]
  },
  {
   "cell_type": "code",
   "execution_count": 143,
   "id": "d0d9378f-52e2-407e-b13d-7bfeedae5ec1",
   "metadata": {},
   "outputs": [
    {
     "name": "stdout",
     "output_type": "stream",
     "text": [
      "<class 'pandas.core.frame.DataFrame'>\n",
      "RangeIndex: 19137 entries, 0 to 19136\n",
      "Data columns (total 11 columns):\n",
      " #   Column           Non-Null Count  Dtype  \n",
      "---  ------           --------------  -----  \n",
      " 0   Address          19137 non-null  int64  \n",
      " 1   member           19137 non-null  int64  \n",
      " 2   income_pension   8917 non-null   object \n",
      " 3   income_rent      6065 non-null   object \n",
      " 4   income_interest  11900 non-null  float64\n",
      " 5   income_aid       9125 non-null   float64\n",
      " 6   income_resale    5200 non-null   float64\n",
      " 7   income_transfer  8429 non-null   float64\n",
      " 8   Fasl             19137 non-null  int64  \n",
      " 9   year             19137 non-null  int64  \n",
      " 10  DYCOL00          0 non-null      float64\n",
      "dtypes: float64(5), int64(4), object(2)\n",
      "memory usage: 1.6+ MB\n"
     ]
    }
   ],
   "source": [
    "DF_P4_S3.info()"
   ]
  },
  {
   "cell_type": "code",
   "execution_count": 144,
   "id": "19c36805-fc70-430f-b57b-c2b0af562ff7",
   "metadata": {},
   "outputs": [],
   "source": [
    "DF_P4_S3.drop(['DYCOL00'], axis = 1, inplace=True)"
   ]
  },
  {
   "cell_type": "markdown",
   "id": "87aeddf3-be15-4f6b-a1db-c6e82ecebb21",
   "metadata": {},
   "source": [
    "<p dir=rtl style=\"direction: rtl;text-align: justify;line-height:200%;font-family:vazir;font-size:medium\">\n",
    "<font face=\"vazir\" size=5 color= orange>\n",
    "ستون‌های income_pension , income_rent به float تغییر می‌دهیم."
   ]
  },
  {
   "cell_type": "code",
   "execution_count": 145,
   "id": "3121847a-c892-4a27-b907-191163ead932",
   "metadata": {},
   "outputs": [],
   "source": [
    "DF_P4_S3.income_pension = DF_P4_S3.income_pension.str.strip()\n",
    "DF_P4_S3.loc[DF_P4_S3.income_pension.isin(['']) , 'income_pension' ] = np.nan\n",
    "DF_P4_S3.income_pension = DF_P4_S3.income_pension.astype(pd.Float64Dtype())\n",
    "\n",
    "DF_P4_S3.income_rent = DF_P4_S3.income_rent.str.strip()\n",
    "DF_P4_S3.loc[DF_P4_S3.income_rent.isin(['']) , 'income_rent' ] = np.nan\n",
    "DF_P4_S3.income_rent = DF_P4_S3.income_rent.astype(pd.Float64Dtype())\n"
   ]
  },
  {
   "cell_type": "markdown",
   "id": "9c20da33-5f36-4540-8bfd-fcaf9e2550eb",
   "metadata": {},
   "source": [
    "<p dir=rtl style=\"direction: rtl;text-align: justify;line-height:200%;font-family:vazir;font-size:medium\">\n",
    "<font face=\"vazir\" size=5 color= orange>\n",
    "ستون‌های income جمع می‌شوند و در ستون جدیدی به نام Total_income ذخیره می‌شوند."
   ]
  },
  {
   "cell_type": "code",
   "execution_count": 146,
   "id": "00e71041-164c-48c0-94ba-040274b00084",
   "metadata": {},
   "outputs": [],
   "source": [
    "DF_P4_S3.insert(2,'Total_income', DF_P4_S3.loc[:,'income_pension':'income_transfer' ].sum(axis=1))\n",
    "del_columns = ['income_pension','income_rent', 'income_interest','income_aid','income_resale','income_transfer']\n",
    "DF_P4_S3.drop(del_columns,axis=1, inplace=True)"
   ]
  },
  {
   "cell_type": "code",
   "execution_count": 147,
   "id": "c9dafa18-d518-45e0-b933-8a0a126c3043",
   "metadata": {},
   "outputs": [
    {
     "data": {
      "text/plain": [
       "Address         0\n",
       "member          0\n",
       "Total_income    0\n",
       "Fasl            0\n",
       "year            0\n",
       "dtype: int64"
      ]
     },
     "execution_count": 147,
     "metadata": {},
     "output_type": "execute_result"
    }
   ],
   "source": [
    "DF_P4_S3.isna().sum()"
   ]
  },
  {
   "cell_type": "code",
   "execution_count": 148,
   "id": "cacca18b-e666-4594-9899-5f7e20e3c4aa",
   "metadata": {},
   "outputs": [],
   "source": [
    "path_file = 'U1398_P4_S03'\n",
    "DF_P4_S3.to_csv(path_file+'.csv', index=False)"
   ]
  },
  {
   "cell_type": "markdown",
   "id": "3d57a5ca-cb57-4601-90fe-f080bf12be4c",
   "metadata": {},
   "source": [
    "### P4_S04"
   ]
  },
  {
   "cell_type": "code",
   "execution_count": 149,
   "id": "2fcc93bd-6242-440d-8c98-1c40f08bb046",
   "metadata": {},
   "outputs": [
    {
     "data": {
      "text/html": [
       "<div>\n",
       "<style scoped>\n",
       "    .dataframe tbody tr th:only-of-type {\n",
       "        vertical-align: middle;\n",
       "    }\n",
       "\n",
       "    .dataframe tbody tr th {\n",
       "        vertical-align: top;\n",
       "    }\n",
       "\n",
       "    .dataframe thead th {\n",
       "        text-align: right;\n",
       "    }\n",
       "</style>\n",
       "<table border=\"1\" class=\"dataframe\">\n",
       "  <thead>\n",
       "    <tr style=\"text-align: right;\">\n",
       "      <th></th>\n",
       "      <th>Address</th>\n",
       "      <th>member</th>\n",
       "      <th>subsidy_number</th>\n",
       "      <th>subsidy_month</th>\n",
       "      <th>subsidy</th>\n",
       "      <th>Fasl</th>\n",
       "      <th>year</th>\n",
       "      <th>DYCOL00</th>\n",
       "    </tr>\n",
       "  </thead>\n",
       "  <tbody>\n",
       "    <tr>\n",
       "      <th>0</th>\n",
       "      <td>10004004223</td>\n",
       "      <td>1</td>\n",
       "      <td>2</td>\n",
       "      <td>12</td>\n",
       "      <td>10920000</td>\n",
       "      <td>1</td>\n",
       "      <td>98</td>\n",
       "      <td>NaN</td>\n",
       "    </tr>\n",
       "    <tr>\n",
       "      <th>1</th>\n",
       "      <td>10004004220</td>\n",
       "      <td>1</td>\n",
       "      <td>4</td>\n",
       "      <td>12</td>\n",
       "      <td>21840000</td>\n",
       "      <td>1</td>\n",
       "      <td>98</td>\n",
       "      <td>NaN</td>\n",
       "    </tr>\n",
       "    <tr>\n",
       "      <th>2</th>\n",
       "      <td>10002002810</td>\n",
       "      <td>1</td>\n",
       "      <td>1</td>\n",
       "      <td>12</td>\n",
       "      <td>5460000</td>\n",
       "      <td>1</td>\n",
       "      <td>98</td>\n",
       "      <td>NaN</td>\n",
       "    </tr>\n",
       "    <tr>\n",
       "      <th>3</th>\n",
       "      <td>10002002820</td>\n",
       "      <td>1</td>\n",
       "      <td>4</td>\n",
       "      <td>12</td>\n",
       "      <td>21840000</td>\n",
       "      <td>1</td>\n",
       "      <td>98</td>\n",
       "      <td>NaN</td>\n",
       "    </tr>\n",
       "    <tr>\n",
       "      <th>4</th>\n",
       "      <td>10002002823</td>\n",
       "      <td>1</td>\n",
       "      <td>3</td>\n",
       "      <td>12</td>\n",
       "      <td>16380000</td>\n",
       "      <td>1</td>\n",
       "      <td>98</td>\n",
       "      <td>NaN</td>\n",
       "    </tr>\n",
       "  </tbody>\n",
       "</table>\n",
       "</div>"
      ],
      "text/plain": [
       "       Address  member  subsidy_number  subsidy_month   subsidy  Fasl  year  \\\n",
       "0  10004004223       1               2             12  10920000     1    98   \n",
       "1  10004004220       1               4             12  21840000     1    98   \n",
       "2  10002002810       1               1             12   5460000     1    98   \n",
       "3  10002002820       1               4             12  21840000     1    98   \n",
       "4  10002002823       1               3             12  16380000     1    98   \n",
       "\n",
       "   DYCOL00  \n",
       "0      NaN  \n",
       "1      NaN  \n",
       "2      NaN  \n",
       "3      NaN  \n",
       "4      NaN  "
      ]
     },
     "execution_count": 149,
     "metadata": {},
     "output_type": "execute_result"
    }
   ],
   "source": [
    "DF_P4_S4 = pd.read_csv('U1399P4S04.csv')\n",
    "DF_P4_S4.head()"
   ]
  },
  {
   "cell_type": "code",
   "execution_count": 150,
   "id": "70d7ddfe-1b5f-43ce-9a28-2537801b188c",
   "metadata": {},
   "outputs": [
    {
     "name": "stdout",
     "output_type": "stream",
     "text": [
      "<class 'pandas.core.frame.DataFrame'>\n",
      "RangeIndex: 19833 entries, 0 to 19832\n",
      "Data columns (total 8 columns):\n",
      " #   Column          Non-Null Count  Dtype  \n",
      "---  ------          --------------  -----  \n",
      " 0   Address         19833 non-null  int64  \n",
      " 1   member          19833 non-null  int64  \n",
      " 2   subsidy_number  19833 non-null  int64  \n",
      " 3   subsidy_month   19833 non-null  int64  \n",
      " 4   subsidy         19833 non-null  int64  \n",
      " 5   Fasl            19833 non-null  int64  \n",
      " 6   year            19833 non-null  int64  \n",
      " 7   DYCOL00         0 non-null      float64\n",
      "dtypes: float64(1), int64(7)\n",
      "memory usage: 1.2 MB\n"
     ]
    }
   ],
   "source": [
    "DF_P4_S4.info()"
   ]
  },
  {
   "cell_type": "code",
   "execution_count": 151,
   "id": "5032ab69-776b-4f46-aa39-e83394891381",
   "metadata": {},
   "outputs": [],
   "source": [
    "DF_P4_S4.drop(['DYCOL00'], axis = 1, inplace=True)"
   ]
  },
  {
   "cell_type": "code",
   "execution_count": 152,
   "id": "486a6bbc-5cfa-412b-b786-fcdc506cccb0",
   "metadata": {},
   "outputs": [
    {
     "data": {
      "text/plain": [
       "Address           0\n",
       "member            0\n",
       "subsidy_number    0\n",
       "subsidy_month     0\n",
       "subsidy           0\n",
       "Fasl              0\n",
       "year              0\n",
       "dtype: int64"
      ]
     },
     "execution_count": 152,
     "metadata": {},
     "output_type": "execute_result"
    }
   ],
   "source": [
    "DF_P4_S4.isna().sum()"
   ]
  },
  {
   "cell_type": "code",
   "execution_count": 153,
   "id": "24c0ca8f-8dd6-4608-9a3c-bca610e22090",
   "metadata": {},
   "outputs": [],
   "source": [
    "path_file = 'U1398_P4_S04'\n",
    "DF_P4_S4.to_csv(path_file+'.csv', index=False)"
   ]
  },
  {
   "cell_type": "code",
   "execution_count": null,
   "id": "ec97ff3e-5d68-46bb-acdc-fb6da8ae244d",
   "metadata": {},
   "outputs": [],
   "source": []
  },
  {
   "cell_type": "code",
   "execution_count": null,
   "id": "9f575801-202b-4bb4-aa67-429b2d5b401a",
   "metadata": {},
   "outputs": [],
   "source": []
  }
 ],
 "metadata": {
  "kernelspec": {
   "display_name": "Python 3 (ipykernel)",
   "language": "python",
   "name": "python3"
  },
  "language_info": {
   "codemirror_mode": {
    "name": "ipython",
    "version": 3
   },
   "file_extension": ".py",
   "mimetype": "text/x-python",
   "name": "python",
   "nbconvert_exporter": "python",
   "pygments_lexer": "ipython3",
   "version": "3.11.7"
  }
 },
 "nbformat": 4,
 "nbformat_minor": 5
}
