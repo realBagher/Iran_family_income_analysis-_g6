{
 "cells": [
  {
   "cell_type": "code",
   "execution_count": 239,
   "id": "5dd496d1-03f6-4d80-9b70-48c8b384f9d3",
   "metadata": {},
   "outputs": [],
   "source": [
    "import pandas as pd\n",
    "import numpy as np\n",
    "import seaborn as sns\n",
    "import pickle\n",
    "import matplotlib.pyplot as plt\n",
    "from IPython.display import display\n",
    "from sklearn.decomposition import PCA\n",
    "from sklearn.preprocessing import StandardScaler\n",
    "from sklearn.model_selection import train_test_split, GridSearchCV, cross_val_score, StratifiedKFold\n",
    "from sklearn.feature_selection import SelectFromModel, RFE\n",
    "from sklearn.tree import DecisionTreeClassifier\n",
    "from sklearn.ensemble import RandomForestClassifier\n",
    "from sklearn.metrics import classification_report, accuracy_score, confusion_matrix, precision_score, recall_score, f1_score\n",
    "from sklearn.ensemble import GradientBoostingClassifier\n",
    "import xgboost as xgb\n",
    "from sklearn.preprocessing import LabelEncoder\n",
    "from sklearn.neighbors import KNeighborsClassifier\n",
    "import statistics\n",
    "#import missingno as msno"
   ]
  },
  {
   "cell_type": "code",
   "execution_count": 240,
   "id": "3f9039af-dc61-4864-a03d-a603e6d19d54",
   "metadata": {},
   "outputs": [],
   "source": [
    "path_file = 'R1401.xlsx'\n",
    "sheets_excel = pd.read_excel('R1401.xlsx',sheet_name=None)"
   ]
  },
  {
   "cell_type": "code",
   "execution_count": 241,
   "id": "d5313571-9efe-4742-91e2-8c5a9dfb083f",
   "metadata": {},
   "outputs": [],
   "source": [
    "for name in list(sheets_excel.keys()):\n",
    "    sheets_excel[name].to_csv(name+'.csv', index=False)"
   ]
  },
  {
   "cell_type": "markdown",
   "id": "fc40c815-377e-4135-be8f-c0dc1f051015",
   "metadata": {},
   "source": [
    "### P4_S01"
   ]
  },
  {
   "cell_type": "code",
   "execution_count": 242,
   "id": "4057d338-f804-48db-af07-861ca9a870b4",
   "metadata": {},
   "outputs": [],
   "source": [
    "DF_P4_S1 = pd.read_csv('R1401P4S01.csv')"
   ]
  },
  {
   "cell_type": "code",
   "execution_count": 243,
   "id": "cee54143-93a3-4aa1-9181-ce959cb0f086",
   "metadata": {},
   "outputs": [
    {
     "name": "stdout",
     "output_type": "stream",
     "text": [
      "<class 'pandas.core.frame.DataFrame'>\n",
      "RangeIndex: 10303 entries, 0 to 10302\n",
      "Data columns (total 19 columns):\n",
      " #   Column         Non-Null Count  Dtype  \n",
      "---  ------         --------------  -----  \n",
      " 0   Address        10303 non-null  int64  \n",
      " 1   member         10303 non-null  int64  \n",
      " 2   employed_w     10303 non-null  int64  \n",
      " 3   ISCO_w         10303 non-null  int64  \n",
      " 4   ISIC_w         10302 non-null  float64\n",
      " 5   status_w       10303 non-null  object \n",
      " 6   hours_w        10303 non-null  object \n",
      " 7   days_w         10303 non-null  object \n",
      " 8   income_w_m     10303 non-null  int64  \n",
      " 9   income_w_y     10303 non-null  int64  \n",
      " 10  wage_w_m       10300 non-null  float64\n",
      " 11  wage_w_y       10299 non-null  float64\n",
      " 12  perk_w_m       10301 non-null  float64\n",
      " 13  perk_w_y       10302 non-null  float64\n",
      " 14  netincome_w_m  10303 non-null  int64  \n",
      " 15  netincome_w_y  10303 non-null  int64  \n",
      " 16  Fasl           10303 non-null  int64  \n",
      " 17  year           10303 non-null  int64  \n",
      " 18  DYCOL00        0 non-null      float64\n",
      "dtypes: float64(6), int64(10), object(3)\n",
      "memory usage: 1.5+ MB\n"
     ]
    }
   ],
   "source": [
    "DF_P4_S1.info()"
   ]
  },
  {
   "cell_type": "markdown",
   "id": "f087010e-23ac-4029-bd99-5408095e75bc",
   "metadata": {},
   "source": [
    "<p dir=rtl style=\"direction: rtl;text-align: justify;line-height:200%;font-family:vazir;font-size:medium\">\n",
    "<font face=\"vazir\" size=5 color= orange>\n",
    "ستون DYcol00 کامل nan است."
   ]
  },
  {
   "cell_type": "code",
   "execution_count": 244,
   "id": "3c0a5108-e7f3-4a1e-a182-e25c43b29fe7",
   "metadata": {},
   "outputs": [],
   "source": [
    "DF_P4_S1.drop(['DYCOL00'], axis=1, inplace=True)"
   ]
  },
  {
   "cell_type": "markdown",
   "id": "2f8295e7-0090-4660-8d8d-e4ecd14a6862",
   "metadata": {},
   "source": [
    "<p dir=rtl style=\"direction: rtl;text-align: justify;line-height:200%;font-family:vazir;font-size:medium\">\n",
    "<font face=\"vazir\" size=5 color= orange>\n",
    "ستون های days_w, hours_w , status_w به int تبدیل می‌کنیم"
   ]
  },
  {
   "cell_type": "code",
   "execution_count": 245,
   "id": "a4bd17ea-f40c-4568-a9bc-0de1846ed3f7",
   "metadata": {},
   "outputs": [],
   "source": [
    "DF_P4_S1.loc[DF_P4_S1.days_w.isin([' ','  ']),['days_w' ]] = np.nan\n",
    "DF_P4_S1.loc[DF_P4_S1.hours_w.isin([' ','  ']),['hours_w' ]] = np.nan\n",
    "DF_P4_S1.loc[DF_P4_S1.status_w.isin([' ','  ']),['status_w' ]] = np.nan\n",
    "\n",
    "DF_P4_S1.status_w= DF_P4_S1.status_w.astype(pd.Int64Dtype())\n",
    "DF_P4_S1.days_w= DF_P4_S1.days_w.astype(pd.Int64Dtype())\n",
    "DF_P4_S1.hours_w= DF_P4_S1.hours_w.astype(pd.Int64Dtype())"
   ]
  },
  {
   "cell_type": "code",
   "execution_count": 246,
   "id": "9cddee18-1185-41d2-9b22-d313f0a3e1f9",
   "metadata": {},
   "outputs": [
    {
     "name": "stdout",
     "output_type": "stream",
     "text": [
      "<class 'pandas.core.frame.DataFrame'>\n",
      "RangeIndex: 10303 entries, 0 to 10302\n",
      "Data columns (total 18 columns):\n",
      " #   Column         Non-Null Count  Dtype  \n",
      "---  ------         --------------  -----  \n",
      " 0   Address        10303 non-null  int64  \n",
      " 1   member         10303 non-null  int64  \n",
      " 2   employed_w     10303 non-null  int64  \n",
      " 3   ISCO_w         10303 non-null  int64  \n",
      " 4   ISIC_w         10302 non-null  float64\n",
      " 5   status_w       10300 non-null  Int64  \n",
      " 6   hours_w        9308 non-null   Int64  \n",
      " 7   days_w         9308 non-null   Int64  \n",
      " 8   income_w_m     10303 non-null  int64  \n",
      " 9   income_w_y     10303 non-null  int64  \n",
      " 10  wage_w_m       10300 non-null  float64\n",
      " 11  wage_w_y       10299 non-null  float64\n",
      " 12  perk_w_m       10301 non-null  float64\n",
      " 13  perk_w_y       10302 non-null  float64\n",
      " 14  netincome_w_m  10303 non-null  int64  \n",
      " 15  netincome_w_y  10303 non-null  int64  \n",
      " 16  Fasl           10303 non-null  int64  \n",
      " 17  year           10303 non-null  int64  \n",
      "dtypes: Int64(3), float64(5), int64(10)\n",
      "memory usage: 1.4 MB\n"
     ]
    }
   ],
   "source": [
    "DF_P4_S1.info()"
   ]
  },
  {
   "cell_type": "markdown",
   "id": "7e57539b-5ebc-4b34-9bb2-f89ad3afe262",
   "metadata": {},
   "source": [
    "<p dir=rtl style=\"direction: rtl;text-align: justify;line-height:200%;font-family:vazir;font-size:medium\">\n",
    "<font face=\"vazir\" size=5 color= orange>\n",
    "همبستگی ستون‌های income_w , wage_w, netincome_w مورد برسی قرار گرفت و چون همستگی ستون income در سال‌های دیگه کم بود فقط ستون wage_w حذف میشود."
   ]
  },
  {
   "cell_type": "code",
   "execution_count": 247,
   "id": "f115cfa1-2730-43eb-9e85-6738100ce645",
   "metadata": {},
   "outputs": [
    {
     "data": {
      "text/html": [
       "<div>\n",
       "<style scoped>\n",
       "    .dataframe tbody tr th:only-of-type {\n",
       "        vertical-align: middle;\n",
       "    }\n",
       "\n",
       "    .dataframe tbody tr th {\n",
       "        vertical-align: top;\n",
       "    }\n",
       "\n",
       "    .dataframe thead th {\n",
       "        text-align: right;\n",
       "    }\n",
       "</style>\n",
       "<table border=\"1\" class=\"dataframe\">\n",
       "  <thead>\n",
       "    <tr style=\"text-align: right;\">\n",
       "      <th></th>\n",
       "      <th>income_w_m</th>\n",
       "      <th>wage_w_m</th>\n",
       "      <th>netincome_w_m</th>\n",
       "    </tr>\n",
       "  </thead>\n",
       "  <tbody>\n",
       "    <tr>\n",
       "      <th>income_w_m</th>\n",
       "      <td>1.000000</td>\n",
       "      <td>0.868651</td>\n",
       "      <td>0.925823</td>\n",
       "    </tr>\n",
       "    <tr>\n",
       "      <th>wage_w_m</th>\n",
       "      <td>0.868651</td>\n",
       "      <td>1.000000</td>\n",
       "      <td>0.938779</td>\n",
       "    </tr>\n",
       "    <tr>\n",
       "      <th>netincome_w_m</th>\n",
       "      <td>0.925823</td>\n",
       "      <td>0.938779</td>\n",
       "      <td>1.000000</td>\n",
       "    </tr>\n",
       "  </tbody>\n",
       "</table>\n",
       "</div>"
      ],
      "text/plain": [
       "               income_w_m  wage_w_m  netincome_w_m\n",
       "income_w_m       1.000000  0.868651       0.925823\n",
       "wage_w_m         0.868651  1.000000       0.938779\n",
       "netincome_w_m    0.925823  0.938779       1.000000"
      ]
     },
     "execution_count": 247,
     "metadata": {},
     "output_type": "execute_result"
    }
   ],
   "source": [
    "DF_P4_S1[['income_w_m', 'wage_w_m', 'netincome_w_m']].corr()"
   ]
  },
  {
   "cell_type": "code",
   "execution_count": 248,
   "id": "9d3a559e-8b81-429c-8bcc-b3a3991ea6b9",
   "metadata": {},
   "outputs": [
    {
     "data": {
      "text/html": [
       "<div>\n",
       "<style scoped>\n",
       "    .dataframe tbody tr th:only-of-type {\n",
       "        vertical-align: middle;\n",
       "    }\n",
       "\n",
       "    .dataframe tbody tr th {\n",
       "        vertical-align: top;\n",
       "    }\n",
       "\n",
       "    .dataframe thead th {\n",
       "        text-align: right;\n",
       "    }\n",
       "</style>\n",
       "<table border=\"1\" class=\"dataframe\">\n",
       "  <thead>\n",
       "    <tr style=\"text-align: right;\">\n",
       "      <th></th>\n",
       "      <th>income_w_y</th>\n",
       "      <th>wage_w_y</th>\n",
       "      <th>netincome_w_y</th>\n",
       "    </tr>\n",
       "  </thead>\n",
       "  <tbody>\n",
       "    <tr>\n",
       "      <th>income_w_y</th>\n",
       "      <td>1.000000</td>\n",
       "      <td>0.813705</td>\n",
       "      <td>0.833815</td>\n",
       "    </tr>\n",
       "    <tr>\n",
       "      <th>wage_w_y</th>\n",
       "      <td>0.813705</td>\n",
       "      <td>1.000000</td>\n",
       "      <td>0.978596</td>\n",
       "    </tr>\n",
       "    <tr>\n",
       "      <th>netincome_w_y</th>\n",
       "      <td>0.833815</td>\n",
       "      <td>0.978596</td>\n",
       "      <td>1.000000</td>\n",
       "    </tr>\n",
       "  </tbody>\n",
       "</table>\n",
       "</div>"
      ],
      "text/plain": [
       "               income_w_y  wage_w_y  netincome_w_y\n",
       "income_w_y       1.000000  0.813705       0.833815\n",
       "wage_w_y         0.813705  1.000000       0.978596\n",
       "netincome_w_y    0.833815  0.978596       1.000000"
      ]
     },
     "execution_count": 248,
     "metadata": {},
     "output_type": "execute_result"
    }
   ],
   "source": [
    "DF_P4_S1[['income_w_y', 'wage_w_y', 'netincome_w_y']].corr()"
   ]
  },
  {
   "cell_type": "code",
   "execution_count": 249,
   "id": "ed34b0aa-82c8-48e1-b029-5cf63a01bb4e",
   "metadata": {},
   "outputs": [],
   "source": [
    "DF_P4_S1.drop(['wage_w_m'], axis=1 , inplace= True)\n",
    "DF_P4_S1.drop(['wage_w_y'], axis=1 , inplace= True)"
   ]
  },
  {
   "cell_type": "markdown",
   "id": "246a30e3-ca34-4961-8b46-86ddc63cec73",
   "metadata": {},
   "source": [
    "<p dir=rtl style=\"direction: rtl;text-align: justify;line-height:200%;font-family:vazir;font-size:medium\">\n",
    "<font face=\"vazir\" size=5 color= orange>\n",
    "با توجه به اطلاعات زیر ستون‌های employed_w, status_w, perk_w_y, perk_w_m دارای imblance هستند بنابراین حذف می‌کنیم."
   ]
  },
  {
   "cell_type": "code",
   "execution_count": 250,
   "id": "4ceed37f-7b18-4ce1-b198-bf537699d911",
   "metadata": {},
   "outputs": [
    {
     "name": "stdout",
     "output_type": "stream",
     "text": [
      "        Address 0.000582\n",
      "         member 0.683587\n",
      "     employed_w 0.903329\n",
      "         ISCO_w 0.288945\n",
      "         ISIC_w 0.276036\n",
      "       status_w 0.898476\n",
      "        hours_w 0.537125\n",
      "         days_w 0.392216\n",
      "     income_w_m 0.127827\n",
      "     income_w_y 0.052315\n",
      "       perk_w_m 0.954382\n",
      "       perk_w_y 0.768514\n",
      "  netincome_w_m 0.128312\n",
      "  netincome_w_y 0.052800\n",
      "           Fasl 0.259245\n",
      "           year 1.000000\n"
     ]
    }
   ],
   "source": [
    "for col in DF_P4_S1.columns:\n",
    " print(f'{col :>15} {(DF_P4_S1[col].value_counts()/len(DF_P4_S1)).max():f}')"
   ]
  },
  {
   "cell_type": "code",
   "execution_count": 251,
   "id": "abf31e6c-2d81-4362-be94-ca82645bda71",
   "metadata": {},
   "outputs": [],
   "source": [
    "DF_P4_S1.drop(['employed_w', 'status_w', 'perk_w_y', 'perk_w_m'], inplace=True, axis=1)"
   ]
  },
  {
   "cell_type": "code",
   "execution_count": 252,
   "id": "05cee4ff-90ef-46cf-98eb-369c50b87727",
   "metadata": {},
   "outputs": [
    {
     "data": {
      "text/plain": [
       "Address            0\n",
       "member             0\n",
       "ISCO_w             0\n",
       "ISIC_w             1\n",
       "hours_w          995\n",
       "days_w           995\n",
       "income_w_m         0\n",
       "income_w_y         0\n",
       "netincome_w_m      0\n",
       "netincome_w_y      0\n",
       "Fasl               0\n",
       "year               0\n",
       "dtype: int64"
      ]
     },
     "execution_count": 252,
     "metadata": {},
     "output_type": "execute_result"
    }
   ],
   "source": [
    "DF_P4_S1.isna().sum()"
   ]
  },
  {
   "cell_type": "markdown",
   "id": "436cdd83-bda6-4fcd-95e3-c3254ae1c20b",
   "metadata": {},
   "source": [
    "<p dir=rtl style=\"direction: rtl;text-align: justify;line-height:200%;font-family:vazir;font-size:medium\">\n",
    "<font face=\"vazir\" size=5 color= orange>\n",
    "ستون‌های day_w , hours_w با گروه بندی روی ISCO_w, ISIC_w پر می‌کنیم و ما بقی را با میانه کل داده‌ها پر می‌کنیم."
   ]
  },
  {
   "cell_type": "code",
   "execution_count": 253,
   "id": "6de147cb-5783-475e-90e9-87d642a69a8e",
   "metadata": {},
   "outputs": [],
   "source": [
    "temp = DF_P4_S1.groupby(['ISCO_w', 'ISIC_w' ])[['hours_w','days_w']].transform('median').astype(pd.Int16Dtype())\n",
    "DF_P4_S1.loc[DF_P4_S1.hours_w.isna(), 'hours_w'] = temp.loc[DF_P4_S1.hours_w.isna(), 'hours_w']\n",
    "DF_P4_S1.loc[DF_P4_S1.days_w.isna(), 'days_w'] = temp.loc[DF_P4_S1.days_w.isna(), 'days_w']"
   ]
  },
  {
   "cell_type": "code",
   "execution_count": 254,
   "id": "490a12db-5c09-40f4-b8a5-2f4cc12f60e5",
   "metadata": {},
   "outputs": [
    {
     "data": {
      "text/plain": [
       "Address           0\n",
       "member            0\n",
       "ISCO_w            0\n",
       "ISIC_w            1\n",
       "hours_w          49\n",
       "days_w           50\n",
       "income_w_m        0\n",
       "income_w_y        0\n",
       "netincome_w_m     0\n",
       "netincome_w_y     0\n",
       "Fasl              0\n",
       "year              0\n",
       "dtype: int64"
      ]
     },
     "execution_count": 254,
     "metadata": {},
     "output_type": "execute_result"
    }
   ],
   "source": [
    "DF_P4_S1.isna().sum()"
   ]
  },
  {
   "cell_type": "code",
   "execution_count": 255,
   "id": "ad91d730-a7ed-4492-9975-c8d5b0707792",
   "metadata": {},
   "outputs": [],
   "source": [
    "DF_P4_S1.hours_w.fillna(DF_P4_S1.hours_w.median(),inplace= True)\n",
    "DF_P4_S1.days_w.fillna(DF_P4_S1.days_w.median(), inplace= True)"
   ]
  },
  {
   "cell_type": "code",
   "execution_count": 256,
   "id": "74686525-6280-4b4f-b84f-214b65ec781d",
   "metadata": {},
   "outputs": [],
   "source": [
    "DF_P4_S1.dropna(inplace=True)"
   ]
  },
  {
   "cell_type": "code",
   "execution_count": 257,
   "id": "76e4b20a-60d4-42c1-b937-7733d6ff17f9",
   "metadata": {
    "scrolled": true
   },
   "outputs": [
    {
     "data": {
      "text/plain": [
       "Address          0\n",
       "member           0\n",
       "ISCO_w           0\n",
       "ISIC_w           0\n",
       "hours_w          0\n",
       "days_w           0\n",
       "income_w_m       0\n",
       "income_w_y       0\n",
       "netincome_w_m    0\n",
       "netincome_w_y    0\n",
       "Fasl             0\n",
       "year             0\n",
       "dtype: int64"
      ]
     },
     "execution_count": 257,
     "metadata": {},
     "output_type": "execute_result"
    }
   ],
   "source": [
    "DF_P4_S1.isna().sum()"
   ]
  },
  {
   "cell_type": "code",
   "execution_count": 259,
   "id": "4e95959c-c580-4780-80c0-4d1cb9111723",
   "metadata": {},
   "outputs": [],
   "source": [
    "path_file = 'R1401_P4_S01'\n",
    "DF_P4_S1.to_csv(path_file+'.csv', index=False)"
   ]
  },
  {
   "cell_type": "markdown",
   "id": "4ddb6f69-ef0e-4ca5-ad30-480e401acf4b",
   "metadata": {},
   "source": [
    "### P4_S02"
   ]
  },
  {
   "cell_type": "code",
   "execution_count": 260,
   "id": "797b1780-dbd7-4120-9dbc-2bc11cab594b",
   "metadata": {},
   "outputs": [
    {
     "data": {
      "text/html": [
       "<div>\n",
       "<style scoped>\n",
       "    .dataframe tbody tr th:only-of-type {\n",
       "        vertical-align: middle;\n",
       "    }\n",
       "\n",
       "    .dataframe tbody tr th {\n",
       "        vertical-align: top;\n",
       "    }\n",
       "\n",
       "    .dataframe thead th {\n",
       "        text-align: right;\n",
       "    }\n",
       "</style>\n",
       "<table border=\"1\" class=\"dataframe\">\n",
       "  <thead>\n",
       "    <tr style=\"text-align: right;\">\n",
       "      <th></th>\n",
       "      <th>Address</th>\n",
       "      <th>member</th>\n",
       "      <th>employed_s</th>\n",
       "      <th>ISCO_s</th>\n",
       "      <th>ISIC_s</th>\n",
       "      <th>status_s</th>\n",
       "      <th>agriculture</th>\n",
       "      <th>hours_s</th>\n",
       "      <th>days_s</th>\n",
       "      <th>cost_employment</th>\n",
       "      <th>cost_raw</th>\n",
       "      <th>cost_machinery</th>\n",
       "      <th>cost_others</th>\n",
       "      <th>cost_tax</th>\n",
       "      <th>sale</th>\n",
       "      <th>income_s_y</th>\n",
       "      <th>Fasl</th>\n",
       "      <th>year</th>\n",
       "      <th>DYCOL00</th>\n",
       "    </tr>\n",
       "  </thead>\n",
       "  <tbody>\n",
       "    <tr>\n",
       "      <th>0</th>\n",
       "      <td>20001384026</td>\n",
       "      <td>1</td>\n",
       "      <td>1</td>\n",
       "      <td>6112</td>\n",
       "      <td>1240</td>\n",
       "      <td>4</td>\n",
       "      <td>1</td>\n",
       "      <td>5</td>\n",
       "      <td>4</td>\n",
       "      <td>150000000</td>\n",
       "      <td>41000000</td>\n",
       "      <td>0</td>\n",
       "      <td>0</td>\n",
       "      <td>0</td>\n",
       "      <td>320000000</td>\n",
       "      <td>129000000</td>\n",
       "      <td>3</td>\n",
       "      <td>1401</td>\n",
       "      <td>NaN</td>\n",
       "    </tr>\n",
       "    <tr>\n",
       "      <th>1</th>\n",
       "      <td>20001384038</td>\n",
       "      <td>1</td>\n",
       "      <td>1</td>\n",
       "      <td>6112</td>\n",
       "      <td>1240</td>\n",
       "      <td>4</td>\n",
       "      <td>1</td>\n",
       "      <td>8</td>\n",
       "      <td>5</td>\n",
       "      <td>60000000</td>\n",
       "      <td>62000000</td>\n",
       "      <td>0</td>\n",
       "      <td>15000000</td>\n",
       "      <td>0</td>\n",
       "      <td>200000000</td>\n",
       "      <td>63000000</td>\n",
       "      <td>3</td>\n",
       "      <td>1401</td>\n",
       "      <td>NaN</td>\n",
       "    </tr>\n",
       "    <tr>\n",
       "      <th>2</th>\n",
       "      <td>20001385231</td>\n",
       "      <td>1</td>\n",
       "      <td>1</td>\n",
       "      <td>6121</td>\n",
       "      <td>1440</td>\n",
       "      <td>5</td>\n",
       "      <td>1</td>\n",
       "      <td>4</td>\n",
       "      <td>7</td>\n",
       "      <td>0</td>\n",
       "      <td>203000000</td>\n",
       "      <td>0</td>\n",
       "      <td>0</td>\n",
       "      <td>0</td>\n",
       "      <td>370000000</td>\n",
       "      <td>167000000</td>\n",
       "      <td>3</td>\n",
       "      <td>1401</td>\n",
       "      <td>NaN</td>\n",
       "    </tr>\n",
       "    <tr>\n",
       "      <th>3</th>\n",
       "      <td>20001385231</td>\n",
       "      <td>3</td>\n",
       "      <td>1</td>\n",
       "      <td>6121</td>\n",
       "      <td>1440</td>\n",
       "      <td>6</td>\n",
       "      <td>1</td>\n",
       "      <td>4</td>\n",
       "      <td>7</td>\n",
       "      <td>0</td>\n",
       "      <td>0</td>\n",
       "      <td>0</td>\n",
       "      <td>0</td>\n",
       "      <td>0</td>\n",
       "      <td>0</td>\n",
       "      <td></td>\n",
       "      <td>3</td>\n",
       "      <td>1401</td>\n",
       "      <td>NaN</td>\n",
       "    </tr>\n",
       "    <tr>\n",
       "      <th>4</th>\n",
       "      <td>20001385231</td>\n",
       "      <td>4</td>\n",
       "      <td>1</td>\n",
       "      <td>6121</td>\n",
       "      <td>1440</td>\n",
       "      <td>6</td>\n",
       "      <td>1</td>\n",
       "      <td>4</td>\n",
       "      <td>7</td>\n",
       "      <td>0</td>\n",
       "      <td>0</td>\n",
       "      <td>0</td>\n",
       "      <td>0</td>\n",
       "      <td>0</td>\n",
       "      <td>0</td>\n",
       "      <td></td>\n",
       "      <td>3</td>\n",
       "      <td>1401</td>\n",
       "      <td>NaN</td>\n",
       "    </tr>\n",
       "  </tbody>\n",
       "</table>\n",
       "</div>"
      ],
      "text/plain": [
       "       Address  member  employed_s  ISCO_s  ISIC_s  status_s  agriculture  \\\n",
       "0  20001384026       1           1    6112    1240         4            1   \n",
       "1  20001384038       1           1    6112    1240         4            1   \n",
       "2  20001385231       1           1    6121    1440         5            1   \n",
       "3  20001385231       3           1    6121    1440         6            1   \n",
       "4  20001385231       4           1    6121    1440         6            1   \n",
       "\n",
       "  hours_s days_s  cost_employment   cost_raw  cost_machinery  cost_others  \\\n",
       "0      5       4        150000000   41000000               0            0   \n",
       "1      8       5         60000000   62000000               0     15000000   \n",
       "2      4       7                0  203000000               0            0   \n",
       "3      4       7                0          0               0            0   \n",
       "4      4       7                0          0               0            0   \n",
       "\n",
       "   cost_tax       sale      income_s_y  Fasl  year  DYCOL00  \n",
       "0         0  320000000  129000000          3  1401      NaN  \n",
       "1         0  200000000  63000000           3  1401      NaN  \n",
       "2         0  370000000  167000000          3  1401      NaN  \n",
       "3         0          0                     3  1401      NaN  \n",
       "4         0          0                     3  1401      NaN  "
      ]
     },
     "execution_count": 260,
     "metadata": {},
     "output_type": "execute_result"
    }
   ],
   "source": [
    "DF_P4_S2 = pd.read_csv('R1401P4S02.csv')\n",
    "DF_P4_S2.head()"
   ]
  },
  {
   "cell_type": "code",
   "execution_count": 261,
   "id": "4d4b3333-5c5b-4840-84c2-5940ecfb3149",
   "metadata": {},
   "outputs": [
    {
     "name": "stdout",
     "output_type": "stream",
     "text": [
      "<class 'pandas.core.frame.DataFrame'>\n",
      "RangeIndex: 11139 entries, 0 to 11138\n",
      "Data columns (total 19 columns):\n",
      " #   Column           Non-Null Count  Dtype  \n",
      "---  ------           --------------  -----  \n",
      " 0   Address          11139 non-null  int64  \n",
      " 1   member           11139 non-null  int64  \n",
      " 2   employed_s       11139 non-null  int64  \n",
      " 3   ISCO_s           11139 non-null  int64  \n",
      " 4   ISIC_s           11139 non-null  int64  \n",
      " 5   status_s         11139 non-null  int64  \n",
      " 6   agriculture      11139 non-null  int64  \n",
      " 7   hours_s          11139 non-null  object \n",
      " 8   days_s           11139 non-null  object \n",
      " 9   cost_employment  11139 non-null  int64  \n",
      " 10  cost_raw         11139 non-null  int64  \n",
      " 11  cost_machinery   11139 non-null  int64  \n",
      " 12  cost_others      11139 non-null  int64  \n",
      " 13  cost_tax         11139 non-null  int64  \n",
      " 14  sale             11139 non-null  int64  \n",
      " 15  income_s_y       11138 non-null  object \n",
      " 16  Fasl             11139 non-null  int64  \n",
      " 17  year             11139 non-null  int64  \n",
      " 18  DYCOL00          0 non-null      float64\n",
      "dtypes: float64(1), int64(15), object(3)\n",
      "memory usage: 1.6+ MB\n"
     ]
    }
   ],
   "source": [
    "DF_P4_S2.info()"
   ]
  },
  {
   "cell_type": "code",
   "execution_count": 262,
   "id": "d733ec9f-4f81-4014-b406-ccf0d317e635",
   "metadata": {},
   "outputs": [],
   "source": [
    "DF_P4_S2.drop(['DYCOL00'], axis=1 , inplace= True)"
   ]
  },
  {
   "cell_type": "markdown",
   "id": "65afae05-6849-4a46-b751-be08631eaafc",
   "metadata": {},
   "source": [
    "<p dir=rtl style=\"direction: rtl;text-align: justify;line-height:200%;font-family:vazir;font-size:medium\">\n",
    "<font face=\"vazir\" size=5 color= orange>\n",
    "ستون های days_w, hours_s , status_s, income_s_y به int تبدیل می‌کنیم"
   ]
  },
  {
   "cell_type": "code",
   "execution_count": 263,
   "id": "bbb389f2-1008-46ae-ae4c-65c8723e46bb",
   "metadata": {},
   "outputs": [
    {
     "data": {
      "text/plain": [
       "array(['5 ', '8 ', '4 ', '7 ', '9 ', '  ', '3 ', '1 ', '6 ', '10', '2 ',\n",
       "       '12', '11', '18', '15', '13', '14', '17', '04', '16', '09', '08'],\n",
       "      dtype=object)"
      ]
     },
     "execution_count": 263,
     "metadata": {},
     "output_type": "execute_result"
    }
   ],
   "source": [
    "DF_P4_S2.hours_s.unique()"
   ]
  },
  {
   "cell_type": "code",
   "execution_count": 264,
   "id": "d8cd395e-63e3-48fc-a309-9e96c7bf6671",
   "metadata": {},
   "outputs": [],
   "source": [
    "DF_P4_S2.loc[DF_P4_S2.hours_s.isin(['  ']), 'hours_s'] = np.nan\n",
    "DF_P4_S2.hours_s = DF_P4_S2.hours_s.astype(pd.Int64Dtype())"
   ]
  },
  {
   "cell_type": "code",
   "execution_count": 265,
   "id": "c92ad29b-63ac-4af5-8896-e80d8350e7e8",
   "metadata": {},
   "outputs": [
    {
     "data": {
      "text/plain": [
       "array(['4', '5', '7', '6', ' ', '2', '3', '1'], dtype=object)"
      ]
     },
     "execution_count": 265,
     "metadata": {},
     "output_type": "execute_result"
    }
   ],
   "source": [
    "DF_P4_S2.days_s.unique()"
   ]
  },
  {
   "cell_type": "code",
   "execution_count": 266,
   "id": "8ce9c6f8-a505-4dd8-9eaa-8a5470464e30",
   "metadata": {},
   "outputs": [],
   "source": [
    "DF_P4_S2.loc[DF_P4_S2.days_s.isin([' ']), 'days_s'] = np.nan\n",
    "DF_P4_S2.days_s = DF_P4_S2.days_s.astype(pd.Int64Dtype())"
   ]
  },
  {
   "cell_type": "code",
   "execution_count": 267,
   "id": "16dfb968-0ee0-4ec1-b9e9-31eb1a8ff873",
   "metadata": {},
   "outputs": [],
   "source": [
    "DF_P4_S2.income_s_y = DF_P4_S2.income_s_y.str.strip()"
   ]
  },
  {
   "cell_type": "code",
   "execution_count": 268,
   "id": "139f9bd0-6ad0-42e0-91f5-ec5b0ec74f6e",
   "metadata": {},
   "outputs": [],
   "source": [
    "DF_P4_S2.loc[DF_P4_S2.income_s_y.isin(['']), 'income_s_y'] = np.nan\n",
    "DF_P4_S2.income_s_y = DF_P4_S2.income_s_y.astype(pd.Int64Dtype())"
   ]
  },
  {
   "cell_type": "code",
   "execution_count": 269,
   "id": "78623402-b8e4-4465-82c1-a0a0a77b25bc",
   "metadata": {},
   "outputs": [
    {
     "name": "stdout",
     "output_type": "stream",
     "text": [
      "<class 'pandas.core.frame.DataFrame'>\n",
      "RangeIndex: 11139 entries, 0 to 11138\n",
      "Data columns (total 18 columns):\n",
      " #   Column           Non-Null Count  Dtype\n",
      "---  ------           --------------  -----\n",
      " 0   Address          11139 non-null  int64\n",
      " 1   member           11139 non-null  int64\n",
      " 2   employed_s       11139 non-null  int64\n",
      " 3   ISCO_s           11139 non-null  int64\n",
      " 4   ISIC_s           11139 non-null  int64\n",
      " 5   status_s         11139 non-null  int64\n",
      " 6   agriculture      11139 non-null  int64\n",
      " 7   hours_s          10887 non-null  Int64\n",
      " 8   days_s           10884 non-null  Int64\n",
      " 9   cost_employment  11139 non-null  int64\n",
      " 10  cost_raw         11139 non-null  int64\n",
      " 11  cost_machinery   11139 non-null  int64\n",
      " 12  cost_others      11139 non-null  int64\n",
      " 13  cost_tax         11139 non-null  int64\n",
      " 14  sale             11139 non-null  int64\n",
      " 15  income_s_y       10795 non-null  Int64\n",
      " 16  Fasl             11139 non-null  int64\n",
      " 17  year             11139 non-null  int64\n",
      "dtypes: Int64(3), int64(15)\n",
      "memory usage: 1.6 MB\n"
     ]
    }
   ],
   "source": [
    "DF_P4_S2.info()"
   ]
  },
  {
   "cell_type": "markdown",
   "id": "42f2e3a7-f730-49a8-a074-d83083a7df3f",
   "metadata": {},
   "source": [
    "<p dir=rtl style=\"direction: rtl;text-align: justify;line-height:200%;font-family:vazir;font-size:medium\">\n",
    "<font face=\"vazir\" size=5 color= orange>\n",
    "ستون‌های cost جمع می‌شوند و در ستون جدیدی به نام Total_cost ذخیره می‌شوند."
   ]
  },
  {
   "cell_type": "code",
   "execution_count": 270,
   "id": "db352c6b-521f-4591-887e-f8078b768904",
   "metadata": {},
   "outputs": [],
   "source": [
    "del_columns = ['cost_employment', 'cost_raw', 'cost_machinery', 'cost_others', 'cost_tax']\n",
    "DF_P4_S2.insert(9,'Total_cost', DF_P4_S2.loc[:,'cost_employment':'cost_tax' ].sum(axis=1))\n",
    "DF_P4_S2.drop(del_columns, axis=1, inplace=True)"
   ]
  },
  {
   "cell_type": "code",
   "execution_count": 271,
   "id": "8e3ed9ee-db15-40eb-b618-9c93932be817",
   "metadata": {},
   "outputs": [
    {
     "data": {
      "text/plain": [
       "Address          0\n",
       "member           0\n",
       "employed_s       0\n",
       "ISCO_s           0\n",
       "ISIC_s           0\n",
       "status_s         0\n",
       "agriculture      0\n",
       "hours_s        252\n",
       "days_s         255\n",
       "Total_cost       0\n",
       "sale             0\n",
       "income_s_y     344\n",
       "Fasl             0\n",
       "year             0\n",
       "dtype: int64"
      ]
     },
     "execution_count": 271,
     "metadata": {},
     "output_type": "execute_result"
    }
   ],
   "source": [
    "DF_P4_S2.isna().sum()"
   ]
  },
  {
   "cell_type": "markdown",
   "id": "0366199f-2d99-47d7-93fe-f8c7a85173bb",
   "metadata": {},
   "source": [
    "<p dir=rtl style=\"direction: rtl;text-align: justify;line-height:200%;font-family:vazir;font-size:medium\">\n",
    "<font face=\"vazir\" size=5 color= orange>\n",
    "ستون‌های day_s , hours_s با گروه بندی روی ISCO_s, ISIC_s پر می‌کنیم و ما بقی را با میانه کل داده‌ها پر می‌کنیم."
   ]
  },
  {
   "cell_type": "code",
   "execution_count": 272,
   "id": "1d444551-8343-4b2c-b355-c4b3c7de3e8b",
   "metadata": {},
   "outputs": [],
   "source": [
    "temp = DF_P4_S2.groupby(['ISCO_s', 'ISIC_s' ])[['hours_s','days_s']].transform('median')\n",
    "temp = np.floor(temp).astype(pd.Int16Dtype())\n",
    "DF_P4_S2.loc[DF_P4_S2.hours_s.isna(), 'hours_s'] = temp.loc[DF_P4_S2.hours_s.isna(), 'hours_s']\n",
    "DF_P4_S2.loc[DF_P4_S2.days_s.isna(), 'days_s'] = temp.loc[DF_P4_S2.days_s.isna(), 'days_s']\n",
    "\n",
    "DF_P4_S2.hours_s.fillna(DF_P4_S2.hours_s.median(),inplace= True)\n",
    "DF_P4_S2.days_s.fillna(DF_P4_S2.days_s.median(), inplace= True)"
   ]
  },
  {
   "cell_type": "code",
   "execution_count": 273,
   "id": "53708c7c-4cca-453a-ae4f-6ee365c95206",
   "metadata": {},
   "outputs": [
    {
     "data": {
      "text/plain": [
       "Address          0\n",
       "member           0\n",
       "employed_s       0\n",
       "ISCO_s           0\n",
       "ISIC_s           0\n",
       "status_s         0\n",
       "agriculture      0\n",
       "hours_s          0\n",
       "days_s           0\n",
       "Total_cost       0\n",
       "sale             0\n",
       "income_s_y     344\n",
       "Fasl             0\n",
       "year             0\n",
       "dtype: int64"
      ]
     },
     "execution_count": 273,
     "metadata": {},
     "output_type": "execute_result"
    }
   ],
   "source": [
    "DF_P4_S2.isna().sum()"
   ]
  },
  {
   "cell_type": "markdown",
   "id": "f42ad2dd-74ed-4ac7-924e-7de450c95b18",
   "metadata": {},
   "source": [
    "<p dir=rtl style=\"direction: rtl;text-align: justify;line-height:200%;font-family:vazir;font-size:medium\">\n",
    "<font face=\"vazir\" size=5 color= orange>\n",
    "ستون income_s_y\n",
    "همان طور که در کد زیر نشان داده شده است تقریبن  در همه موارد nan در ستون status_s مقدار ۶ )کارکن فامیلی) دارد."
   ]
  },
  {
   "cell_type": "code",
   "execution_count": 274,
   "id": "470da841-ad33-4eb3-96d9-3a1bcc1d8b59",
   "metadata": {},
   "outputs": [
    {
     "data": {
      "text/plain": [
       "status_s\n",
       "6    338\n",
       "5      6\n",
       "Name: count, dtype: int64"
      ]
     },
     "execution_count": 274,
     "metadata": {},
     "output_type": "execute_result"
    }
   ],
   "source": [
    "DF_P4_S2.loc[DF_P4_S2.income_s_y.isna()].status_s.value_counts()"
   ]
  },
  {
   "cell_type": "code",
   "execution_count": 275,
   "id": "a1e356e0-2e99-4928-b996-b028bb369c31",
   "metadata": {},
   "outputs": [],
   "source": [
    "DF_P4_S2.fillna(0, inplace=True)"
   ]
  },
  {
   "cell_type": "markdown",
   "id": "9953d962-2749-4713-a846-0ee887e3b97e",
   "metadata": {},
   "source": [
    "<p dir=rtl style=\"direction: rtl;text-align: justify;line-height:200%;font-family:vazir;font-size:medium\">\n",
    "<font face=\"vazir\" size=5 color= orange>\n",
    "ستون employed_s به دلیل imblance حذف می‌کنیم."
   ]
  },
  {
   "cell_type": "code",
   "execution_count": 276,
   "id": "d03457a0-a2f6-4b0a-8b55-f6faf488d2e9",
   "metadata": {},
   "outputs": [
    {
     "name": "stdout",
     "output_type": "stream",
     "text": [
      "        Address 0.001077\n",
      "         member 0.738127\n",
      "     employed_s 0.976479\n",
      "         ISCO_s 0.307299\n",
      "         ISIC_s 0.229464\n",
      "       status_s 0.763354\n",
      "    agriculture 0.719185\n",
      "        hours_s 0.195529\n",
      "         days_s 0.415298\n",
      "     Total_cost 0.194452\n",
      "           sale 0.177215\n",
      "     income_s_y 0.159260\n",
      "           Fasl 0.264925\n",
      "           year 1.000000\n"
     ]
    }
   ],
   "source": [
    "for col in DF_P4_S2.columns:\n",
    " print(f'{col :>15} {(DF_P4_S2[col].value_counts()/len(DF_P4_S2)).max():f}')"
   ]
  },
  {
   "cell_type": "code",
   "execution_count": 277,
   "id": "dfe2f96e-85db-4f9f-b1f8-162b01b61fe7",
   "metadata": {},
   "outputs": [],
   "source": [
    "DF_P4_S2.drop(['employed_s'],axis=1, inplace=True)"
   ]
  },
  {
   "cell_type": "code",
   "execution_count": 278,
   "id": "f3e5f0a3-b1d5-4cb6-ac90-f17fdf7bd66e",
   "metadata": {},
   "outputs": [
    {
     "data": {
      "text/plain": [
       "Address        0\n",
       "member         0\n",
       "ISCO_s         0\n",
       "ISIC_s         0\n",
       "status_s       0\n",
       "agriculture    0\n",
       "hours_s        0\n",
       "days_s         0\n",
       "Total_cost     0\n",
       "sale           0\n",
       "income_s_y     0\n",
       "Fasl           0\n",
       "year           0\n",
       "dtype: int64"
      ]
     },
     "execution_count": 278,
     "metadata": {},
     "output_type": "execute_result"
    }
   ],
   "source": [
    "DF_P4_S2.isna().sum()"
   ]
  },
  {
   "cell_type": "code",
   "execution_count": 294,
   "id": "7afab917-4335-4e6c-9d78-e7e264c8bac2",
   "metadata": {},
   "outputs": [],
   "source": [
    "path_file = 'R1401_P4_S02'\n",
    "DF_P4_S2.to_csv(path_file+'.csv', index=False)"
   ]
  },
  {
   "cell_type": "markdown",
   "id": "477c7fc6-7aec-453e-86de-70297d5a2d97",
   "metadata": {},
   "source": [
    "### P4_S03"
   ]
  },
  {
   "cell_type": "code",
   "execution_count": 283,
   "id": "56f59032-81c8-43b7-adb7-5f43c36f4d2f",
   "metadata": {},
   "outputs": [
    {
     "data": {
      "text/html": [
       "<div>\n",
       "<style scoped>\n",
       "    .dataframe tbody tr th:only-of-type {\n",
       "        vertical-align: middle;\n",
       "    }\n",
       "\n",
       "    .dataframe tbody tr th {\n",
       "        vertical-align: top;\n",
       "    }\n",
       "\n",
       "    .dataframe thead th {\n",
       "        text-align: right;\n",
       "    }\n",
       "</style>\n",
       "<table border=\"1\" class=\"dataframe\">\n",
       "  <thead>\n",
       "    <tr style=\"text-align: right;\">\n",
       "      <th></th>\n",
       "      <th>Address</th>\n",
       "      <th>member</th>\n",
       "      <th>income_pension</th>\n",
       "      <th>income_rent</th>\n",
       "      <th>income_interest</th>\n",
       "      <th>income_aid</th>\n",
       "      <th>income_resale</th>\n",
       "      <th>income_transfer</th>\n",
       "      <th>Fasl</th>\n",
       "      <th>year</th>\n",
       "      <th>DYCOL00</th>\n",
       "    </tr>\n",
       "  </thead>\n",
       "  <tbody>\n",
       "    <tr>\n",
       "      <th>0</th>\n",
       "      <td>20001384026</td>\n",
       "      <td>1</td>\n",
       "      <td>0</td>\n",
       "      <td>0</td>\n",
       "      <td>54000000</td>\n",
       "      <td>67350000</td>\n",
       "      <td>0</td>\n",
       "      <td>0</td>\n",
       "      <td>3</td>\n",
       "      <td>1401</td>\n",
       "      <td>NaN</td>\n",
       "    </tr>\n",
       "    <tr>\n",
       "      <th>1</th>\n",
       "      <td>20001384027</td>\n",
       "      <td>1</td>\n",
       "      <td>0</td>\n",
       "      <td>0</td>\n",
       "      <td>5000000</td>\n",
       "      <td>84350000</td>\n",
       "      <td>0</td>\n",
       "      <td>0</td>\n",
       "      <td>3</td>\n",
       "      <td>1401</td>\n",
       "      <td>NaN</td>\n",
       "    </tr>\n",
       "    <tr>\n",
       "      <th>2</th>\n",
       "      <td>20001384031</td>\n",
       "      <td>1</td>\n",
       "      <td>0</td>\n",
       "      <td>0</td>\n",
       "      <td>4700000</td>\n",
       "      <td>74660000</td>\n",
       "      <td>0</td>\n",
       "      <td>0</td>\n",
       "      <td>3</td>\n",
       "      <td>1401</td>\n",
       "      <td>NaN</td>\n",
       "    </tr>\n",
       "    <tr>\n",
       "      <th>3</th>\n",
       "      <td>20001384035</td>\n",
       "      <td>1</td>\n",
       "      <td>0</td>\n",
       "      <td>0</td>\n",
       "      <td>7500000</td>\n",
       "      <td>82040000</td>\n",
       "      <td>0</td>\n",
       "      <td>0</td>\n",
       "      <td>3</td>\n",
       "      <td>1401</td>\n",
       "      <td>NaN</td>\n",
       "    </tr>\n",
       "    <tr>\n",
       "      <th>4</th>\n",
       "      <td>20001384038</td>\n",
       "      <td>1</td>\n",
       "      <td>0</td>\n",
       "      <td>0</td>\n",
       "      <td>17000000</td>\n",
       "      <td>129350000</td>\n",
       "      <td>0</td>\n",
       "      <td>0</td>\n",
       "      <td>3</td>\n",
       "      <td>1401</td>\n",
       "      <td>NaN</td>\n",
       "    </tr>\n",
       "  </tbody>\n",
       "</table>\n",
       "</div>"
      ],
      "text/plain": [
       "       Address  member  income_pension  income_rent  income_interest  \\\n",
       "0  20001384026       1               0            0         54000000   \n",
       "1  20001384027       1               0            0          5000000   \n",
       "2  20001384031       1               0            0          4700000   \n",
       "3  20001384035       1               0            0          7500000   \n",
       "4  20001384038       1               0            0         17000000   \n",
       "\n",
       "   income_aid  income_resale  income_transfer  Fasl  year  DYCOL00  \n",
       "0    67350000              0                0     3  1401      NaN  \n",
       "1    84350000              0                0     3  1401      NaN  \n",
       "2    74660000              0                0     3  1401      NaN  \n",
       "3    82040000              0                0     3  1401      NaN  \n",
       "4   129350000              0                0     3  1401      NaN  "
      ]
     },
     "execution_count": 283,
     "metadata": {},
     "output_type": "execute_result"
    }
   ],
   "source": [
    "DF_P4_S3 = pd.read_csv('R1401P4S03.csv')\n",
    "DF_P4_S3.head()"
   ]
  },
  {
   "cell_type": "code",
   "execution_count": 284,
   "id": "d0d9378f-52e2-407e-b13d-7bfeedae5ec1",
   "metadata": {},
   "outputs": [
    {
     "name": "stdout",
     "output_type": "stream",
     "text": [
      "<class 'pandas.core.frame.DataFrame'>\n",
      "RangeIndex: 26941 entries, 0 to 26940\n",
      "Data columns (total 11 columns):\n",
      " #   Column           Non-Null Count  Dtype  \n",
      "---  ------           --------------  -----  \n",
      " 0   Address          26941 non-null  int64  \n",
      " 1   member           26941 non-null  int64  \n",
      " 2   income_pension   26941 non-null  int64  \n",
      " 3   income_rent      26941 non-null  int64  \n",
      " 4   income_interest  26941 non-null  int64  \n",
      " 5   income_aid       26941 non-null  int64  \n",
      " 6   income_resale    26941 non-null  int64  \n",
      " 7   income_transfer  26941 non-null  int64  \n",
      " 8   Fasl             26941 non-null  int64  \n",
      " 9   year             26941 non-null  int64  \n",
      " 10  DYCOL00          0 non-null      float64\n",
      "dtypes: float64(1), int64(10)\n",
      "memory usage: 2.3 MB\n"
     ]
    }
   ],
   "source": [
    "DF_P4_S3.info()"
   ]
  },
  {
   "cell_type": "code",
   "execution_count": 285,
   "id": "19c36805-fc70-430f-b57b-c2b0af562ff7",
   "metadata": {},
   "outputs": [],
   "source": [
    "DF_P4_S3.drop(['DYCOL00'], axis = 1, inplace=True)"
   ]
  },
  {
   "cell_type": "markdown",
   "id": "9c20da33-5f36-4540-8bfd-fcaf9e2550eb",
   "metadata": {},
   "source": [
    "<p dir=rtl style=\"direction: rtl;text-align: justify;line-height:200%;font-family:vazir;font-size:medium\">\n",
    "<font face=\"vazir\" size=5 color= orange>\n",
    "ستون‌های income جمع می‌شوند و در ستون جدیدی به نام Total_income ذخیره می‌شوند."
   ]
  },
  {
   "cell_type": "code",
   "execution_count": 286,
   "id": "00e71041-164c-48c0-94ba-040274b00084",
   "metadata": {},
   "outputs": [],
   "source": [
    "DF_P4_S3.insert(2,'Total_income', DF_P4_S3.loc[:,'income_pension':'income_transfer' ].sum(axis=1))\n",
    "del_columns = ['income_pension','income_rent', 'income_interest','income_aid','income_resale','income_transfer']\n",
    "DF_P4_S3.drop(del_columns,axis=1, inplace=True)"
   ]
  },
  {
   "cell_type": "code",
   "execution_count": 287,
   "id": "c9dafa18-d518-45e0-b933-8a0a126c3043",
   "metadata": {},
   "outputs": [
    {
     "data": {
      "text/plain": [
       "Address         0\n",
       "member          0\n",
       "Total_income    0\n",
       "Fasl            0\n",
       "year            0\n",
       "dtype: int64"
      ]
     },
     "execution_count": 287,
     "metadata": {},
     "output_type": "execute_result"
    }
   ],
   "source": [
    "DF_P4_S3.isna().sum()"
   ]
  },
  {
   "cell_type": "code",
   "execution_count": 295,
   "id": "cacca18b-e666-4594-9899-5f7e20e3c4aa",
   "metadata": {},
   "outputs": [],
   "source": [
    "path_file = 'R1401_P4_S03'\n",
    "DF_P4_S3.to_csv(path_file+'.csv', index=False)"
   ]
  },
  {
   "cell_type": "markdown",
   "id": "3d57a5ca-cb57-4601-90fe-f080bf12be4c",
   "metadata": {},
   "source": [
    "### P4_S04"
   ]
  },
  {
   "cell_type": "code",
   "execution_count": 290,
   "id": "2fcc93bd-6242-440d-8c98-1c40f08bb046",
   "metadata": {},
   "outputs": [
    {
     "data": {
      "text/html": [
       "<div>\n",
       "<style scoped>\n",
       "    .dataframe tbody tr th:only-of-type {\n",
       "        vertical-align: middle;\n",
       "    }\n",
       "\n",
       "    .dataframe tbody tr th {\n",
       "        vertical-align: top;\n",
       "    }\n",
       "\n",
       "    .dataframe thead th {\n",
       "        text-align: right;\n",
       "    }\n",
       "</style>\n",
       "<table border=\"1\" class=\"dataframe\">\n",
       "  <thead>\n",
       "    <tr style=\"text-align: right;\">\n",
       "      <th></th>\n",
       "      <th>Address</th>\n",
       "      <th>member</th>\n",
       "      <th>subsidy_number</th>\n",
       "      <th>subsidy_month</th>\n",
       "      <th>subsidy</th>\n",
       "      <th>Fasl</th>\n",
       "      <th>year</th>\n",
       "      <th>DYCOL00</th>\n",
       "    </tr>\n",
       "  </thead>\n",
       "  <tbody>\n",
       "    <tr>\n",
       "      <th>0</th>\n",
       "      <td>20001384026</td>\n",
       "      <td>1</td>\n",
       "      <td>1</td>\n",
       "      <td>7</td>\n",
       "      <td>735000</td>\n",
       "      <td>3</td>\n",
       "      <td>1401</td>\n",
       "      <td>NaN</td>\n",
       "    </tr>\n",
       "    <tr>\n",
       "      <th>1</th>\n",
       "      <td>20001384026</td>\n",
       "      <td>2</td>\n",
       "      <td>1</td>\n",
       "      <td>7</td>\n",
       "      <td>3185000</td>\n",
       "      <td>3</td>\n",
       "      <td>1401</td>\n",
       "      <td>NaN</td>\n",
       "    </tr>\n",
       "    <tr>\n",
       "      <th>2</th>\n",
       "      <td>20001384027</td>\n",
       "      <td>1</td>\n",
       "      <td>1</td>\n",
       "      <td>7</td>\n",
       "      <td>735000</td>\n",
       "      <td>3</td>\n",
       "      <td>1401</td>\n",
       "      <td>NaN</td>\n",
       "    </tr>\n",
       "    <tr>\n",
       "      <th>3</th>\n",
       "      <td>20001384027</td>\n",
       "      <td>2</td>\n",
       "      <td>4</td>\n",
       "      <td>7</td>\n",
       "      <td>12740000</td>\n",
       "      <td>3</td>\n",
       "      <td>1401</td>\n",
       "      <td>NaN</td>\n",
       "    </tr>\n",
       "    <tr>\n",
       "      <th>4</th>\n",
       "      <td>20001384031</td>\n",
       "      <td>1</td>\n",
       "      <td>1</td>\n",
       "      <td>7</td>\n",
       "      <td>735000</td>\n",
       "      <td>3</td>\n",
       "      <td>1401</td>\n",
       "      <td>NaN</td>\n",
       "    </tr>\n",
       "  </tbody>\n",
       "</table>\n",
       "</div>"
      ],
      "text/plain": [
       "       Address  member  subsidy_number  subsidy_month   subsidy  Fasl  year  \\\n",
       "0  20001384026       1               1              7    735000     3  1401   \n",
       "1  20001384026       2               1              7   3185000     3  1401   \n",
       "2  20001384027       1               1              7    735000     3  1401   \n",
       "3  20001384027       2               4              7  12740000     3  1401   \n",
       "4  20001384031       1               1              7    735000     3  1401   \n",
       "\n",
       "   DYCOL00  \n",
       "0      NaN  \n",
       "1      NaN  \n",
       "2      NaN  \n",
       "3      NaN  \n",
       "4      NaN  "
      ]
     },
     "execution_count": 290,
     "metadata": {},
     "output_type": "execute_result"
    }
   ],
   "source": [
    "DF_P4_S4 = pd.read_csv('R1401P4S04.csv')\n",
    "DF_P4_S4.head()"
   ]
  },
  {
   "cell_type": "code",
   "execution_count": 291,
   "id": "5032ab69-776b-4f46-aa39-e83394891381",
   "metadata": {},
   "outputs": [],
   "source": [
    "DF_P4_S4.drop(['DYCOL00'], axis = 1, inplace=True)"
   ]
  },
  {
   "cell_type": "code",
   "execution_count": 292,
   "id": "70d7ddfe-1b5f-43ce-9a28-2537801b188c",
   "metadata": {},
   "outputs": [
    {
     "name": "stdout",
     "output_type": "stream",
     "text": [
      "<class 'pandas.core.frame.DataFrame'>\n",
      "RangeIndex: 30755 entries, 0 to 30754\n",
      "Data columns (total 7 columns):\n",
      " #   Column          Non-Null Count  Dtype\n",
      "---  ------          --------------  -----\n",
      " 0   Address         30755 non-null  int64\n",
      " 1   member          30755 non-null  int64\n",
      " 2   subsidy_number  30755 non-null  int64\n",
      " 3   subsidy_month   30755 non-null  int64\n",
      " 4   subsidy         30755 non-null  int64\n",
      " 5   Fasl            30755 non-null  int64\n",
      " 6   year            30755 non-null  int64\n",
      "dtypes: int64(7)\n",
      "memory usage: 1.6 MB\n"
     ]
    }
   ],
   "source": [
    "DF_P4_S4.info()"
   ]
  },
  {
   "cell_type": "code",
   "execution_count": 296,
   "id": "24c0ca8f-8dd6-4608-9a3c-bca610e22090",
   "metadata": {},
   "outputs": [],
   "source": [
    "path_file = 'R1401_P4_S04'\n",
    "DF_P4_S4.to_csv(path_file+'.csv', index=False)"
   ]
  },
  {
   "cell_type": "code",
   "execution_count": null,
   "id": "ec97ff3e-5d68-46bb-acdc-fb6da8ae244d",
   "metadata": {},
   "outputs": [],
   "source": []
  }
 ],
 "metadata": {
  "kernelspec": {
   "display_name": "Python 3 (ipykernel)",
   "language": "python",
   "name": "python3"
  },
  "language_info": {
   "codemirror_mode": {
    "name": "ipython",
    "version": 3
   },
   "file_extension": ".py",
   "mimetype": "text/x-python",
   "name": "python",
   "nbconvert_exporter": "python",
   "pygments_lexer": "ipython3",
   "version": "3.11.7"
  }
 },
 "nbformat": 4,
 "nbformat_minor": 5
}
