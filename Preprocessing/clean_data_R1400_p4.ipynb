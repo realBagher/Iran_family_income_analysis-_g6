{
 "cells": [
  {
   "cell_type": "code",
   "execution_count": 354,
   "id": "5dd496d1-03f6-4d80-9b70-48c8b384f9d3",
   "metadata": {},
   "outputs": [],
   "source": [
    "import pandas as pd\n",
    "import numpy as np\n",
    "import seaborn as sns\n",
    "import pickle\n",
    "import matplotlib.pyplot as plt\n",
    "from IPython.display import display\n",
    "from sklearn.decomposition import PCA\n",
    "from sklearn.preprocessing import StandardScaler\n",
    "from sklearn.model_selection import train_test_split, GridSearchCV, cross_val_score, StratifiedKFold\n",
    "from sklearn.feature_selection import SelectFromModel, RFE\n",
    "from sklearn.tree import DecisionTreeClassifier\n",
    "from sklearn.ensemble import RandomForestClassifier\n",
    "from sklearn.metrics import classification_report, accuracy_score, confusion_matrix, precision_score, recall_score, f1_score\n",
    "from sklearn.ensemble import GradientBoostingClassifier\n",
    "import xgboost as xgb\n",
    "from sklearn.preprocessing import LabelEncoder\n",
    "from sklearn.neighbors import KNeighborsClassifier\n",
    "import statistics\n",
    "#import missingno as msno"
   ]
  },
  {
   "cell_type": "code",
   "execution_count": 355,
   "id": "3f9039af-dc61-4864-a03d-a603e6d19d54",
   "metadata": {},
   "outputs": [],
   "source": [
    "path_file = 'R1400.xlsx'\n",
    "sheets_excel = pd.read_excel('R1400.xlsx',sheet_name=None)"
   ]
  },
  {
   "cell_type": "code",
   "execution_count": 356,
   "id": "d5313571-9efe-4742-91e2-8c5a9dfb083f",
   "metadata": {},
   "outputs": [],
   "source": [
    "for name in list(sheets_excel.keys()):\n",
    "    sheets_excel[name].to_csv(name+'.csv', index=False)"
   ]
  },
  {
   "cell_type": "markdown",
   "id": "fc40c815-377e-4135-be8f-c0dc1f051015",
   "metadata": {},
   "source": [
    "### P4_S01"
   ]
  },
  {
   "cell_type": "code",
   "execution_count": 398,
   "id": "4057d338-f804-48db-af07-861ca9a870b4",
   "metadata": {},
   "outputs": [],
   "source": [
    "DF_P4_S1 = pd.read_csv('R1400P4S01.csv')"
   ]
  },
  {
   "cell_type": "code",
   "execution_count": 399,
   "id": "cee54143-93a3-4aa1-9181-ce959cb0f086",
   "metadata": {},
   "outputs": [
    {
     "name": "stdout",
     "output_type": "stream",
     "text": [
      "<class 'pandas.core.frame.DataFrame'>\n",
      "RangeIndex: 10731 entries, 0 to 10730\n",
      "Data columns (total 19 columns):\n",
      " #   Column         Non-Null Count  Dtype  \n",
      "---  ------         --------------  -----  \n",
      " 0   Address        10731 non-null  int64  \n",
      " 1   member         10731 non-null  int64  \n",
      " 2   employed_w     10731 non-null  int64  \n",
      " 3   ISCO_w         10731 non-null  int64  \n",
      " 4   ISIC_w         10731 non-null  int64  \n",
      " 5   status_w       10731 non-null  int64  \n",
      " 6   hours_w        9786 non-null   float64\n",
      " 7   days_w         9787 non-null   float64\n",
      " 8   income_w_m     10731 non-null  int64  \n",
      " 9   income_w_y     10731 non-null  int64  \n",
      " 10  wage_w_m       10718 non-null  float64\n",
      " 11  wage_w_y       10726 non-null  float64\n",
      " 12  perk_w_m       10721 non-null  float64\n",
      " 13  perk_w_y       10726 non-null  float64\n",
      " 14  netincome_w_m  10731 non-null  int64  \n",
      " 15  netincome_w_y  10731 non-null  int64  \n",
      " 16  Fasl           10731 non-null  int64  \n",
      " 17  year           10731 non-null  int64  \n",
      " 18  DYCOL00        0 non-null      float64\n",
      "dtypes: float64(7), int64(12)\n",
      "memory usage: 1.6 MB\n"
     ]
    }
   ],
   "source": [
    "DF_P4_S1.info()"
   ]
  },
  {
   "cell_type": "markdown",
   "id": "f087010e-23ac-4029-bd99-5408095e75bc",
   "metadata": {},
   "source": [
    "<p dir=rtl style=\"direction: rtl;text-align: justify;line-height:200%;font-family:vazir;font-size:medium\">\n",
    "<font face=\"vazir\" size=5 color= orange>\n",
    "ستون DYcol00 کامل nan است."
   ]
  },
  {
   "cell_type": "code",
   "execution_count": 400,
   "id": "3c0a5108-e7f3-4a1e-a182-e25c43b29fe7",
   "metadata": {},
   "outputs": [],
   "source": [
    "DF_P4_S1.drop(['DYCOL00'], axis=1, inplace=True)"
   ]
  },
  {
   "cell_type": "markdown",
   "id": "7e57539b-5ebc-4b34-9bb2-f89ad3afe262",
   "metadata": {},
   "source": [
    "<p dir=rtl style=\"direction: rtl;text-align: justify;line-height:200%;font-family:vazir;font-size:medium\">\n",
    "<font face=\"vazir\" size=5 color= orange>\n",
    "همبستگی ستون‌های income_w , wage_w, netincome_w مورد برسی قرار گرفت و چون همستگی ستون income در سال‌های دیگه کم بود فقط ستون wage_w حذف میشود."
   ]
  },
  {
   "cell_type": "code",
   "execution_count": 401,
   "id": "f115cfa1-2730-43eb-9e85-6738100ce645",
   "metadata": {},
   "outputs": [
    {
     "data": {
      "text/html": [
       "<div>\n",
       "<style scoped>\n",
       "    .dataframe tbody tr th:only-of-type {\n",
       "        vertical-align: middle;\n",
       "    }\n",
       "\n",
       "    .dataframe tbody tr th {\n",
       "        vertical-align: top;\n",
       "    }\n",
       "\n",
       "    .dataframe thead th {\n",
       "        text-align: right;\n",
       "    }\n",
       "</style>\n",
       "<table border=\"1\" class=\"dataframe\">\n",
       "  <thead>\n",
       "    <tr style=\"text-align: right;\">\n",
       "      <th></th>\n",
       "      <th>income_w_m</th>\n",
       "      <th>wage_w_m</th>\n",
       "      <th>netincome_w_m</th>\n",
       "    </tr>\n",
       "  </thead>\n",
       "  <tbody>\n",
       "    <tr>\n",
       "      <th>income_w_m</th>\n",
       "      <td>1.000000</td>\n",
       "      <td>0.863049</td>\n",
       "      <td>0.890568</td>\n",
       "    </tr>\n",
       "    <tr>\n",
       "      <th>wage_w_m</th>\n",
       "      <td>0.863049</td>\n",
       "      <td>1.000000</td>\n",
       "      <td>0.966855</td>\n",
       "    </tr>\n",
       "    <tr>\n",
       "      <th>netincome_w_m</th>\n",
       "      <td>0.890568</td>\n",
       "      <td>0.966855</td>\n",
       "      <td>1.000000</td>\n",
       "    </tr>\n",
       "  </tbody>\n",
       "</table>\n",
       "</div>"
      ],
      "text/plain": [
       "               income_w_m  wage_w_m  netincome_w_m\n",
       "income_w_m       1.000000  0.863049       0.890568\n",
       "wage_w_m         0.863049  1.000000       0.966855\n",
       "netincome_w_m    0.890568  0.966855       1.000000"
      ]
     },
     "execution_count": 401,
     "metadata": {},
     "output_type": "execute_result"
    }
   ],
   "source": [
    "DF_P4_S1[['income_w_m', 'wage_w_m', 'netincome_w_m']].corr()"
   ]
  },
  {
   "cell_type": "code",
   "execution_count": 402,
   "id": "9d3a559e-8b81-429c-8bcc-b3a3991ea6b9",
   "metadata": {},
   "outputs": [
    {
     "data": {
      "text/html": [
       "<div>\n",
       "<style scoped>\n",
       "    .dataframe tbody tr th:only-of-type {\n",
       "        vertical-align: middle;\n",
       "    }\n",
       "\n",
       "    .dataframe tbody tr th {\n",
       "        vertical-align: top;\n",
       "    }\n",
       "\n",
       "    .dataframe thead th {\n",
       "        text-align: right;\n",
       "    }\n",
       "</style>\n",
       "<table border=\"1\" class=\"dataframe\">\n",
       "  <thead>\n",
       "    <tr style=\"text-align: right;\">\n",
       "      <th></th>\n",
       "      <th>income_w_y</th>\n",
       "      <th>wage_w_y</th>\n",
       "      <th>netincome_w_y</th>\n",
       "    </tr>\n",
       "  </thead>\n",
       "  <tbody>\n",
       "    <tr>\n",
       "      <th>income_w_y</th>\n",
       "      <td>1.000000</td>\n",
       "      <td>0.305375</td>\n",
       "      <td>0.309269</td>\n",
       "    </tr>\n",
       "    <tr>\n",
       "      <th>wage_w_y</th>\n",
       "      <td>0.305375</td>\n",
       "      <td>1.000000</td>\n",
       "      <td>0.987100</td>\n",
       "    </tr>\n",
       "    <tr>\n",
       "      <th>netincome_w_y</th>\n",
       "      <td>0.309269</td>\n",
       "      <td>0.987100</td>\n",
       "      <td>1.000000</td>\n",
       "    </tr>\n",
       "  </tbody>\n",
       "</table>\n",
       "</div>"
      ],
      "text/plain": [
       "               income_w_y  wage_w_y  netincome_w_y\n",
       "income_w_y       1.000000  0.305375       0.309269\n",
       "wage_w_y         0.305375  1.000000       0.987100\n",
       "netincome_w_y    0.309269  0.987100       1.000000"
      ]
     },
     "execution_count": 402,
     "metadata": {},
     "output_type": "execute_result"
    }
   ],
   "source": [
    "DF_P4_S1[['income_w_y', 'wage_w_y', 'netincome_w_y']].corr()"
   ]
  },
  {
   "cell_type": "code",
   "execution_count": 403,
   "id": "ed34b0aa-82c8-48e1-b029-5cf63a01bb4e",
   "metadata": {},
   "outputs": [],
   "source": [
    "DF_P4_S1.drop(['wage_w_m'], axis=1 , inplace= True)\n",
    "DF_P4_S1.drop(['wage_w_y'], axis=1 , inplace= True)"
   ]
  },
  {
   "cell_type": "markdown",
   "id": "246a30e3-ca34-4961-8b46-86ddc63cec73",
   "metadata": {},
   "source": [
    "<p dir=rtl style=\"direction: rtl;text-align: justify;line-height:200%;font-family:vazir;font-size:medium\">\n",
    "<font face=\"vazir\" size=5 color= orange>\n",
    "با توجه به اطلاعات زیر ستون‌های employed_w, status_w, perk_w_y, perk_w_m دارای imblance هستند بنابراین حذف می‌کنیم."
   ]
  },
  {
   "cell_type": "code",
   "execution_count": 404,
   "id": "4ceed37f-7b18-4ce1-b198-bf537699d911",
   "metadata": {},
   "outputs": [
    {
     "name": "stdout",
     "output_type": "stream",
     "text": [
      "        Address 0.000652\n",
      "         member 0.690336\n",
      "     employed_w 0.893020\n",
      "         ISCO_w 0.308732\n",
      "         ISIC_w 0.297083\n",
      "       status_w 0.901500\n",
      "        hours_w 0.539372\n",
      "         days_w 0.374709\n",
      "     income_w_m 0.133538\n",
      "     income_w_y 0.045196\n",
      "       perk_w_m 0.965334\n",
      "       perk_w_y 0.781940\n",
      "  netincome_w_m 0.133725\n",
      "  netincome_w_y 0.045569\n",
      "           Fasl 0.266797\n",
      "           year 1.000000\n"
     ]
    }
   ],
   "source": [
    "for col in DF_P4_S1.columns:\n",
    " print(f'{col :>15} {(DF_P4_S1[col].value_counts()/len(DF_P4_S1)).max():f}')"
   ]
  },
  {
   "cell_type": "code",
   "execution_count": 405,
   "id": "abf31e6c-2d81-4362-be94-ca82645bda71",
   "metadata": {},
   "outputs": [],
   "source": [
    "DF_P4_S1.drop(['employed_w', 'status_w', 'perk_w_y', 'perk_w_m'], inplace=True, axis=1)"
   ]
  },
  {
   "cell_type": "code",
   "execution_count": 406,
   "id": "05cee4ff-90ef-46cf-98eb-369c50b87727",
   "metadata": {},
   "outputs": [
    {
     "data": {
      "text/plain": [
       "Address            0\n",
       "member             0\n",
       "ISCO_w             0\n",
       "ISIC_w             0\n",
       "hours_w          945\n",
       "days_w           944\n",
       "income_w_m         0\n",
       "income_w_y         0\n",
       "netincome_w_m      0\n",
       "netincome_w_y      0\n",
       "Fasl               0\n",
       "year               0\n",
       "dtype: int64"
      ]
     },
     "execution_count": 406,
     "metadata": {},
     "output_type": "execute_result"
    }
   ],
   "source": [
    "DF_P4_S1.isna().sum()"
   ]
  },
  {
   "cell_type": "markdown",
   "id": "436cdd83-bda6-4fcd-95e3-c3254ae1c20b",
   "metadata": {},
   "source": [
    "<p dir=rtl style=\"direction: rtl;text-align: justify;line-height:200%;font-family:vazir;font-size:medium\">\n",
    "<font face=\"vazir\" size=5 color= orange>\n",
    "ستون‌های day_w , hours_w با گروه بندی روی ISCO_w, ISIC_w پر می‌کنیم و ما بقی را با میانه کل داده‌ها پر می‌کنیم."
   ]
  },
  {
   "cell_type": "code",
   "execution_count": 407,
   "id": "6de147cb-5783-475e-90e9-87d642a69a8e",
   "metadata": {},
   "outputs": [],
   "source": [
    "temp = DF_P4_S1.groupby(['ISCO_w', 'ISIC_w' ])[['hours_w','days_w']].transform('median')\n",
    "#temp = np.floor(temp).astype(pd.Float64Dtype())\n",
    "DF_P4_S1.loc[DF_P4_S1.hours_w.isna(), 'hours_w'] = temp.loc[DF_P4_S1.hours_w.isna(), 'hours_w']\n",
    "DF_P4_S1.loc[DF_P4_S1.days_w.isna(), 'days_w'] = temp.loc[DF_P4_S1.days_w.isna(), 'days_w']"
   ]
  },
  {
   "cell_type": "code",
   "execution_count": 408,
   "id": "490a12db-5c09-40f4-b8a5-2f4cc12f60e5",
   "metadata": {},
   "outputs": [
    {
     "data": {
      "text/plain": [
       "Address           0\n",
       "member            0\n",
       "ISCO_w            0\n",
       "ISIC_w            0\n",
       "hours_w          47\n",
       "days_w           47\n",
       "income_w_m        0\n",
       "income_w_y        0\n",
       "netincome_w_m     0\n",
       "netincome_w_y     0\n",
       "Fasl              0\n",
       "year              0\n",
       "dtype: int64"
      ]
     },
     "execution_count": 408,
     "metadata": {},
     "output_type": "execute_result"
    }
   ],
   "source": [
    "DF_P4_S1.isna().sum()"
   ]
  },
  {
   "cell_type": "code",
   "execution_count": 409,
   "id": "ad91d730-a7ed-4492-9975-c8d5b0707792",
   "metadata": {},
   "outputs": [],
   "source": [
    "DF_P4_S1.hours_w.fillna(DF_P4_S1.hours_w.median(),inplace= True)\n",
    "DF_P4_S1.days_w.fillna(DF_P4_S1.days_w.median(), inplace= True)"
   ]
  },
  {
   "cell_type": "code",
   "execution_count": 410,
   "id": "76e4b20a-60d4-42c1-b937-7733d6ff17f9",
   "metadata": {
    "scrolled": true
   },
   "outputs": [
    {
     "data": {
      "text/plain": [
       "Address          0\n",
       "member           0\n",
       "ISCO_w           0\n",
       "ISIC_w           0\n",
       "hours_w          0\n",
       "days_w           0\n",
       "income_w_m       0\n",
       "income_w_y       0\n",
       "netincome_w_m    0\n",
       "netincome_w_y    0\n",
       "Fasl             0\n",
       "year             0\n",
       "dtype: int64"
      ]
     },
     "execution_count": 410,
     "metadata": {},
     "output_type": "execute_result"
    }
   ],
   "source": [
    "DF_P4_S1.isna().sum()"
   ]
  },
  {
   "cell_type": "code",
   "execution_count": 411,
   "id": "4e95959c-c580-4780-80c0-4d1cb9111723",
   "metadata": {},
   "outputs": [],
   "source": [
    "path_file = 'R1400_P4_S01'\n",
    "DF_P4_S1.to_csv(path_file+'.csv', index=False)"
   ]
  },
  {
   "cell_type": "markdown",
   "id": "4ddb6f69-ef0e-4ca5-ad30-480e401acf4b",
   "metadata": {},
   "source": [
    "### P4_S02"
   ]
  },
  {
   "cell_type": "code",
   "execution_count": 412,
   "id": "797b1780-dbd7-4120-9dbc-2bc11cab594b",
   "metadata": {},
   "outputs": [
    {
     "data": {
      "text/html": [
       "<div>\n",
       "<style scoped>\n",
       "    .dataframe tbody tr th:only-of-type {\n",
       "        vertical-align: middle;\n",
       "    }\n",
       "\n",
       "    .dataframe tbody tr th {\n",
       "        vertical-align: top;\n",
       "    }\n",
       "\n",
       "    .dataframe thead th {\n",
       "        text-align: right;\n",
       "    }\n",
       "</style>\n",
       "<table border=\"1\" class=\"dataframe\">\n",
       "  <thead>\n",
       "    <tr style=\"text-align: right;\">\n",
       "      <th></th>\n",
       "      <th>Address</th>\n",
       "      <th>member</th>\n",
       "      <th>employed_s</th>\n",
       "      <th>ISCO_s</th>\n",
       "      <th>ISIC_s</th>\n",
       "      <th>status_s</th>\n",
       "      <th>agriculture</th>\n",
       "      <th>hours_s</th>\n",
       "      <th>days_s</th>\n",
       "      <th>cost_employment</th>\n",
       "      <th>cost_raw</th>\n",
       "      <th>cost_machinery</th>\n",
       "      <th>cost_others</th>\n",
       "      <th>cost_tax</th>\n",
       "      <th>sale</th>\n",
       "      <th>income_s_y</th>\n",
       "      <th>Fasl</th>\n",
       "      <th>year</th>\n",
       "      <th>DYCOL00</th>\n",
       "    </tr>\n",
       "  </thead>\n",
       "  <tbody>\n",
       "    <tr>\n",
       "      <th>0</th>\n",
       "      <td>20001384232</td>\n",
       "      <td>1</td>\n",
       "      <td>1</td>\n",
       "      <td>6111</td>\n",
       "      <td>1110</td>\n",
       "      <td>5</td>\n",
       "      <td>1</td>\n",
       "      <td>9.0</td>\n",
       "      <td>7.0</td>\n",
       "      <td>9000000.0</td>\n",
       "      <td>85000000.0</td>\n",
       "      <td>NaN</td>\n",
       "      <td>79000000.0</td>\n",
       "      <td>NaN</td>\n",
       "      <td>970000000.0</td>\n",
       "      <td>797000000</td>\n",
       "      <td>1</td>\n",
       "      <td>1401</td>\n",
       "      <td>NaN</td>\n",
       "    </tr>\n",
       "    <tr>\n",
       "      <th>1</th>\n",
       "      <td>20011394623</td>\n",
       "      <td>1</td>\n",
       "      <td>1</td>\n",
       "      <td>6111</td>\n",
       "      <td>1110</td>\n",
       "      <td>5</td>\n",
       "      <td>1</td>\n",
       "      <td>10.0</td>\n",
       "      <td>3.0</td>\n",
       "      <td>NaN</td>\n",
       "      <td>53500000.0</td>\n",
       "      <td>NaN</td>\n",
       "      <td>78000000.0</td>\n",
       "      <td>NaN</td>\n",
       "      <td>205000000.0</td>\n",
       "      <td>73500000</td>\n",
       "      <td>1</td>\n",
       "      <td>1401</td>\n",
       "      <td>NaN</td>\n",
       "    </tr>\n",
       "    <tr>\n",
       "      <th>2</th>\n",
       "      <td>20011394623</td>\n",
       "      <td>1</td>\n",
       "      <td>1</td>\n",
       "      <td>6121</td>\n",
       "      <td>1440</td>\n",
       "      <td>5</td>\n",
       "      <td>1</td>\n",
       "      <td>3.0</td>\n",
       "      <td>7.0</td>\n",
       "      <td>NaN</td>\n",
       "      <td>183000000.0</td>\n",
       "      <td>NaN</td>\n",
       "      <td>4000000.0</td>\n",
       "      <td>NaN</td>\n",
       "      <td>360000000.0</td>\n",
       "      <td>173000000</td>\n",
       "      <td>1</td>\n",
       "      <td>1401</td>\n",
       "      <td>NaN</td>\n",
       "    </tr>\n",
       "    <tr>\n",
       "      <th>3</th>\n",
       "      <td>20011394623</td>\n",
       "      <td>3</td>\n",
       "      <td>1</td>\n",
       "      <td>6121</td>\n",
       "      <td>1440</td>\n",
       "      <td>6</td>\n",
       "      <td>1</td>\n",
       "      <td>10.0</td>\n",
       "      <td>7.0</td>\n",
       "      <td>NaN</td>\n",
       "      <td>NaN</td>\n",
       "      <td>NaN</td>\n",
       "      <td>NaN</td>\n",
       "      <td>NaN</td>\n",
       "      <td>NaN</td>\n",
       "      <td>0</td>\n",
       "      <td>1</td>\n",
       "      <td>1401</td>\n",
       "      <td>NaN</td>\n",
       "    </tr>\n",
       "    <tr>\n",
       "      <th>4</th>\n",
       "      <td>20003387029</td>\n",
       "      <td>1</td>\n",
       "      <td>1</td>\n",
       "      <td>6112</td>\n",
       "      <td>1240</td>\n",
       "      <td>4</td>\n",
       "      <td>1</td>\n",
       "      <td>5.0</td>\n",
       "      <td>4.0</td>\n",
       "      <td>50000000.0</td>\n",
       "      <td>96000000.0</td>\n",
       "      <td>NaN</td>\n",
       "      <td>NaN</td>\n",
       "      <td>NaN</td>\n",
       "      <td>245000000.0</td>\n",
       "      <td>99000000</td>\n",
       "      <td>1</td>\n",
       "      <td>1401</td>\n",
       "      <td>NaN</td>\n",
       "    </tr>\n",
       "  </tbody>\n",
       "</table>\n",
       "</div>"
      ],
      "text/plain": [
       "       Address  member  employed_s  ISCO_s  ISIC_s  status_s  agriculture  \\\n",
       "0  20001384232       1           1    6111    1110         5            1   \n",
       "1  20011394623       1           1    6111    1110         5            1   \n",
       "2  20011394623       1           1    6121    1440         5            1   \n",
       "3  20011394623       3           1    6121    1440         6            1   \n",
       "4  20003387029       1           1    6112    1240         4            1   \n",
       "\n",
       "   hours_s  days_s  cost_employment     cost_raw  cost_machinery  cost_others  \\\n",
       "0      9.0     7.0        9000000.0   85000000.0             NaN   79000000.0   \n",
       "1     10.0     3.0              NaN   53500000.0             NaN   78000000.0   \n",
       "2      3.0     7.0              NaN  183000000.0             NaN    4000000.0   \n",
       "3     10.0     7.0              NaN          NaN             NaN          NaN   \n",
       "4      5.0     4.0       50000000.0   96000000.0             NaN          NaN   \n",
       "\n",
       "   cost_tax         sale  income_s_y  Fasl  year  DYCOL00  \n",
       "0       NaN  970000000.0   797000000     1  1401      NaN  \n",
       "1       NaN  205000000.0    73500000     1  1401      NaN  \n",
       "2       NaN  360000000.0   173000000     1  1401      NaN  \n",
       "3       NaN          NaN           0     1  1401      NaN  \n",
       "4       NaN  245000000.0    99000000     1  1401      NaN  "
      ]
     },
     "execution_count": 412,
     "metadata": {},
     "output_type": "execute_result"
    }
   ],
   "source": [
    "DF_P4_S2 = pd.read_csv('R1400P4S02.csv')\n",
    "DF_P4_S2.head()"
   ]
  },
  {
   "cell_type": "code",
   "execution_count": 413,
   "id": "4d4b3333-5c5b-4840-84c2-5940ecfb3149",
   "metadata": {},
   "outputs": [
    {
     "name": "stdout",
     "output_type": "stream",
     "text": [
      "<class 'pandas.core.frame.DataFrame'>\n",
      "RangeIndex: 12194 entries, 0 to 12193\n",
      "Data columns (total 19 columns):\n",
      " #   Column           Non-Null Count  Dtype  \n",
      "---  ------           --------------  -----  \n",
      " 0   Address          12194 non-null  int64  \n",
      " 1   member           12194 non-null  int64  \n",
      " 2   employed_s       12194 non-null  int64  \n",
      " 3   ISCO_s           12194 non-null  int64  \n",
      " 4   ISIC_s           12194 non-null  int64  \n",
      " 5   status_s         12194 non-null  int64  \n",
      " 6   agriculture      12194 non-null  int64  \n",
      " 7   hours_s          12058 non-null  float64\n",
      " 8   days_s           12055 non-null  float64\n",
      " 9   cost_employment  10807 non-null  float64\n",
      " 10  cost_raw         11887 non-null  float64\n",
      " 11  cost_machinery   10908 non-null  float64\n",
      " 12  cost_others      11496 non-null  float64\n",
      " 13  cost_tax         10463 non-null  float64\n",
      " 14  sale             11989 non-null  float64\n",
      " 15  income_s_y       12194 non-null  int64  \n",
      " 16  Fasl             12194 non-null  int64  \n",
      " 17  year             12194 non-null  int64  \n",
      " 18  DYCOL00          0 non-null      float64\n",
      "dtypes: float64(9), int64(10)\n",
      "memory usage: 1.8 MB\n"
     ]
    }
   ],
   "source": [
    "DF_P4_S2.info()"
   ]
  },
  {
   "cell_type": "code",
   "execution_count": 414,
   "id": "d733ec9f-4f81-4014-b406-ccf0d317e635",
   "metadata": {},
   "outputs": [],
   "source": [
    "DF_P4_S2.drop(['DYCOL00'], axis=1 , inplace= True)"
   ]
  },
  {
   "cell_type": "markdown",
   "id": "42f2e3a7-f730-49a8-a074-d83083a7df3f",
   "metadata": {},
   "source": [
    "<p dir=rtl style=\"direction: rtl;text-align: justify;line-height:200%;font-family:vazir;font-size:medium\">\n",
    "<font face=\"vazir\" size=5 color= orange>\n",
    "ستون‌های cost جمع می‌شوند و در ستون جدیدی به نام Total_cost ذخیره می‌شوند."
   ]
  },
  {
   "cell_type": "code",
   "execution_count": 415,
   "id": "db352c6b-521f-4591-887e-f8078b768904",
   "metadata": {},
   "outputs": [],
   "source": [
    "del_columns = ['cost_employment', 'cost_raw', 'cost_machinery', 'cost_others', 'cost_tax']\n",
    "DF_P4_S2.insert(9,'Total_cost', DF_P4_S2.loc[:,'cost_employment':'cost_tax' ].sum(axis=1))\n",
    "DF_P4_S2.drop(del_columns, axis=1, inplace=True)"
   ]
  },
  {
   "cell_type": "code",
   "execution_count": 375,
   "id": "8e3ed9ee-db15-40eb-b618-9c93932be817",
   "metadata": {},
   "outputs": [
    {
     "data": {
      "text/plain": [
       "Address          0\n",
       "member           0\n",
       "employed_s       0\n",
       "ISCO_s           0\n",
       "ISIC_s           0\n",
       "status_s         0\n",
       "agriculture      0\n",
       "hours_s        136\n",
       "days_s         139\n",
       "Total_cost       0\n",
       "sale           205\n",
       "income_s_y       0\n",
       "Fasl             0\n",
       "year             0\n",
       "dtype: int64"
      ]
     },
     "execution_count": 375,
     "metadata": {},
     "output_type": "execute_result"
    }
   ],
   "source": [
    "DF_P4_S2.isna().sum()"
   ]
  },
  {
   "cell_type": "markdown",
   "id": "0366199f-2d99-47d7-93fe-f8c7a85173bb",
   "metadata": {},
   "source": [
    "<p dir=rtl style=\"direction: rtl;text-align: justify;line-height:200%;font-family:vazir;font-size:medium\">\n",
    "<font face=\"vazir\" size=5 color= orange>\n",
    "ستون‌های day_s , hours_s با گروه بندی روی ISCO_s, ISIC_s پر می‌کنیم و ما بقی را با میانه کل داده‌ها پر می‌کنیم."
   ]
  },
  {
   "cell_type": "code",
   "execution_count": 416,
   "id": "1d444551-8343-4b2c-b355-c4b3c7de3e8b",
   "metadata": {},
   "outputs": [],
   "source": [
    "temp = DF_P4_S2.groupby(['ISCO_s', 'ISIC_s' ])[['hours_s','days_s']].transform('median')\n",
    "#temp = np.floor(temp).astype(pd.Int16Dtype())\n",
    "DF_P4_S2.loc[DF_P4_S2.hours_s.isna(), 'hours_s'] = temp.loc[DF_P4_S2.hours_s.isna(), 'hours_s']\n",
    "DF_P4_S2.loc[DF_P4_S2.days_s.isna(), 'days_s'] = temp.loc[DF_P4_S2.days_s.isna(), 'days_s']\n",
    "\n",
    "DF_P4_S2.hours_s.fillna(DF_P4_S2.hours_s.median(),inplace= True)\n",
    "DF_P4_S2.days_s.fillna(DF_P4_S2.days_s.median(), inplace= True)"
   ]
  },
  {
   "cell_type": "code",
   "execution_count": 417,
   "id": "53708c7c-4cca-453a-ae4f-6ee365c95206",
   "metadata": {},
   "outputs": [
    {
     "data": {
      "text/plain": [
       "Address          0\n",
       "member           0\n",
       "employed_s       0\n",
       "ISCO_s           0\n",
       "ISIC_s           0\n",
       "status_s         0\n",
       "agriculture      0\n",
       "hours_s          0\n",
       "days_s           0\n",
       "Total_cost       0\n",
       "sale           205\n",
       "income_s_y       0\n",
       "Fasl             0\n",
       "year             0\n",
       "dtype: int64"
      ]
     },
     "execution_count": 417,
     "metadata": {},
     "output_type": "execute_result"
    }
   ],
   "source": [
    "DF_P4_S2.isna().sum()"
   ]
  },
  {
   "cell_type": "markdown",
   "id": "f42ad2dd-74ed-4ac7-924e-7de450c95b18",
   "metadata": {},
   "source": [
    "<p dir=rtl style=\"direction: rtl;text-align: justify;line-height:200%;font-family:vazir;font-size:medium\">\n",
    "<font face=\"vazir\" size=5 color= orange>\n",
    "ستون sale\n",
    "همان طور که در کد زیر نشان داده شده است تقریبن در 90 درصد موارد nan در ستون income_s_y مقدار0 دارد."
   ]
  },
  {
   "cell_type": "code",
   "execution_count": 418,
   "id": "470da841-ad33-4eb3-96d9-3a1bcc1d8b59",
   "metadata": {},
   "outputs": [
    {
     "data": {
      "text/plain": [
       "income_s_y\n",
       "0             88.780488\n",
       "440000000      0.975610\n",
       "340000000      0.975610\n",
       "720000000      0.975610\n",
       "600000000      0.487805\n",
       "790000000      0.487805\n",
       "890000000      0.487805\n",
       "1250000000     0.487805\n",
       "740000000      0.487805\n",
       "650000000      0.487805\n",
       "660000000      0.487805\n",
       "1350000000     0.487805\n",
       "680000000      0.487805\n",
       "270000000      0.487805\n",
       "100000000      0.487805\n",
       "430000000      0.487805\n",
       "530000000      0.487805\n",
       "560000000      0.487805\n",
       "380000000      0.487805\n",
       "420000000      0.487805\n",
       "580000000      0.487805\n",
       "Name: count, dtype: float64"
      ]
     },
     "execution_count": 418,
     "metadata": {},
     "output_type": "execute_result"
    }
   ],
   "source": [
    "DF_P4_S2.loc[DF_P4_S2.sale.isna()].income_s_y.value_counts() / DF_P4_S2.sale.isna().sum() * 100"
   ]
  },
  {
   "cell_type": "code",
   "execution_count": 419,
   "id": "097776c8-0795-4219-8ca5-3ea80703e716",
   "metadata": {},
   "outputs": [
    {
     "data": {
      "text/plain": [
       "status_s\n",
       "6    180\n",
       "5     25\n",
       "Name: count, dtype: int64"
      ]
     },
     "execution_count": 419,
     "metadata": {},
     "output_type": "execute_result"
    }
   ],
   "source": [
    "DF_P4_S2.loc[DF_P4_S2.sale.isna()].status_s.value_counts() "
   ]
  },
  {
   "cell_type": "code",
   "execution_count": 420,
   "id": "a1e356e0-2e99-4928-b996-b028bb369c31",
   "metadata": {},
   "outputs": [],
   "source": [
    "DF_P4_S2.fillna(0, inplace=True)"
   ]
  },
  {
   "cell_type": "markdown",
   "id": "9953d962-2749-4713-a846-0ee887e3b97e",
   "metadata": {},
   "source": [
    "<p dir=rtl style=\"direction: rtl;text-align: justify;line-height:200%;font-family:vazir;font-size:medium\">\n",
    "<font face=\"vazir\" size=5 color= orange>\n",
    "ستون employed_s به دلیل imblance حذف می‌کنیم."
   ]
  },
  {
   "cell_type": "code",
   "execution_count": 421,
   "id": "d03457a0-a2f6-4b0a-8b55-f6faf488d2e9",
   "metadata": {},
   "outputs": [
    {
     "name": "stdout",
     "output_type": "stream",
     "text": [
      "        Address 0.000656\n",
      "         member 0.721010\n",
      "     employed_s 0.985813\n",
      "         ISCO_s 0.340085\n",
      "         ISIC_s 0.251107\n",
      "       status_s 0.724127\n",
      "    agriculture 0.746433\n",
      "        hours_s 0.190750\n",
      "         days_s 0.438740\n",
      "     Total_cost 0.226915\n",
      "           sale 0.200426\n",
      "     income_s_y 0.189601\n",
      "           Fasl 0.255618\n",
      "           year 1.000000\n"
     ]
    }
   ],
   "source": [
    "for col in DF_P4_S2.columns:\n",
    " print(f'{col :>15} {(DF_P4_S2[col].value_counts()/len(DF_P4_S2)).max():f}')"
   ]
  },
  {
   "cell_type": "code",
   "execution_count": 422,
   "id": "dfe2f96e-85db-4f9f-b1f8-162b01b61fe7",
   "metadata": {},
   "outputs": [],
   "source": [
    "DF_P4_S2.drop(['employed_s'],axis=1, inplace=True)"
   ]
  },
  {
   "cell_type": "code",
   "execution_count": 423,
   "id": "f3e5f0a3-b1d5-4cb6-ac90-f17fdf7bd66e",
   "metadata": {},
   "outputs": [
    {
     "data": {
      "text/plain": [
       "Address        0\n",
       "member         0\n",
       "ISCO_s         0\n",
       "ISIC_s         0\n",
       "status_s       0\n",
       "agriculture    0\n",
       "hours_s        0\n",
       "days_s         0\n",
       "Total_cost     0\n",
       "sale           0\n",
       "income_s_y     0\n",
       "Fasl           0\n",
       "year           0\n",
       "dtype: int64"
      ]
     },
     "execution_count": 423,
     "metadata": {},
     "output_type": "execute_result"
    }
   ],
   "source": [
    "DF_P4_S2.isna().sum()"
   ]
  },
  {
   "cell_type": "code",
   "execution_count": 424,
   "id": "7afab917-4335-4e6c-9d78-e7e264c8bac2",
   "metadata": {},
   "outputs": [],
   "source": [
    "path_file = 'R1400_P4_S02'\n",
    "DF_P4_S2.to_csv(path_file+'.csv', index=False)"
   ]
  },
  {
   "cell_type": "markdown",
   "id": "477c7fc6-7aec-453e-86de-70297d5a2d97",
   "metadata": {},
   "source": [
    "### P4_S03"
   ]
  },
  {
   "cell_type": "code",
   "execution_count": 425,
   "id": "56f59032-81c8-43b7-adb7-5f43c36f4d2f",
   "metadata": {},
   "outputs": [
    {
     "data": {
      "text/html": [
       "<div>\n",
       "<style scoped>\n",
       "    .dataframe tbody tr th:only-of-type {\n",
       "        vertical-align: middle;\n",
       "    }\n",
       "\n",
       "    .dataframe tbody tr th {\n",
       "        vertical-align: top;\n",
       "    }\n",
       "\n",
       "    .dataframe thead th {\n",
       "        text-align: right;\n",
       "    }\n",
       "</style>\n",
       "<table border=\"1\" class=\"dataframe\">\n",
       "  <thead>\n",
       "    <tr style=\"text-align: right;\">\n",
       "      <th></th>\n",
       "      <th>Address</th>\n",
       "      <th>member</th>\n",
       "      <th>income_pension</th>\n",
       "      <th>income_rent</th>\n",
       "      <th>income_interest</th>\n",
       "      <th>income_aid</th>\n",
       "      <th>income_resale</th>\n",
       "      <th>income_transfer</th>\n",
       "      <th>Fasl</th>\n",
       "      <th>year</th>\n",
       "      <th>DYCOL00</th>\n",
       "    </tr>\n",
       "  </thead>\n",
       "  <tbody>\n",
       "    <tr>\n",
       "      <th>0</th>\n",
       "      <td>20001384225</td>\n",
       "      <td>1</td>\n",
       "      <td>NaN</td>\n",
       "      <td>NaN</td>\n",
       "      <td>NaN</td>\n",
       "      <td>25600000.0</td>\n",
       "      <td>NaN</td>\n",
       "      <td>NaN</td>\n",
       "      <td>1</td>\n",
       "      <td>1401</td>\n",
       "      <td>NaN</td>\n",
       "    </tr>\n",
       "    <tr>\n",
       "      <th>1</th>\n",
       "      <td>20001384232</td>\n",
       "      <td>1</td>\n",
       "      <td>NaN</td>\n",
       "      <td>NaN</td>\n",
       "      <td>NaN</td>\n",
       "      <td>25600000.0</td>\n",
       "      <td>NaN</td>\n",
       "      <td>NaN</td>\n",
       "      <td>1</td>\n",
       "      <td>1401</td>\n",
       "      <td>NaN</td>\n",
       "    </tr>\n",
       "    <tr>\n",
       "      <th>2</th>\n",
       "      <td>20001384235</td>\n",
       "      <td>1</td>\n",
       "      <td>NaN</td>\n",
       "      <td>0300000000</td>\n",
       "      <td>240000000.0</td>\n",
       "      <td>20800000.0</td>\n",
       "      <td>NaN</td>\n",
       "      <td>NaN</td>\n",
       "      <td>1</td>\n",
       "      <td>1401</td>\n",
       "      <td>NaN</td>\n",
       "    </tr>\n",
       "    <tr>\n",
       "      <th>3</th>\n",
       "      <td>20011394620</td>\n",
       "      <td>1</td>\n",
       "      <td>NaN</td>\n",
       "      <td>NaN</td>\n",
       "      <td>20640000.0</td>\n",
       "      <td>20000000.0</td>\n",
       "      <td>NaN</td>\n",
       "      <td>NaN</td>\n",
       "      <td>1</td>\n",
       "      <td>1401</td>\n",
       "      <td>NaN</td>\n",
       "    </tr>\n",
       "    <tr>\n",
       "      <th>4</th>\n",
       "      <td>20011394623</td>\n",
       "      <td>1</td>\n",
       "      <td>NaN</td>\n",
       "      <td>NaN</td>\n",
       "      <td>17000000.0</td>\n",
       "      <td>10000000.0</td>\n",
       "      <td>NaN</td>\n",
       "      <td>NaN</td>\n",
       "      <td>1</td>\n",
       "      <td>1401</td>\n",
       "      <td>NaN</td>\n",
       "    </tr>\n",
       "  </tbody>\n",
       "</table>\n",
       "</div>"
      ],
      "text/plain": [
       "       Address  member income_pension income_rent  income_interest  \\\n",
       "0  20001384225       1            NaN         NaN              NaN   \n",
       "1  20001384232       1            NaN         NaN              NaN   \n",
       "2  20001384235       1            NaN  0300000000      240000000.0   \n",
       "3  20011394620       1            NaN         NaN       20640000.0   \n",
       "4  20011394623       1            NaN         NaN       17000000.0   \n",
       "\n",
       "   income_aid  income_resale  income_transfer  Fasl  year  DYCOL00  \n",
       "0  25600000.0            NaN              NaN     1  1401      NaN  \n",
       "1  25600000.0            NaN              NaN     1  1401      NaN  \n",
       "2  20800000.0            NaN              NaN     1  1401      NaN  \n",
       "3  20000000.0            NaN              NaN     1  1401      NaN  \n",
       "4  10000000.0            NaN              NaN     1  1401      NaN  "
      ]
     },
     "execution_count": 425,
     "metadata": {},
     "output_type": "execute_result"
    }
   ],
   "source": [
    "DF_P4_S3 = pd.read_csv('R1400P4S03.csv')\n",
    "DF_P4_S3.head()"
   ]
  },
  {
   "cell_type": "code",
   "execution_count": 426,
   "id": "d0d9378f-52e2-407e-b13d-7bfeedae5ec1",
   "metadata": {},
   "outputs": [
    {
     "name": "stdout",
     "output_type": "stream",
     "text": [
      "<class 'pandas.core.frame.DataFrame'>\n",
      "RangeIndex: 25097 entries, 0 to 25096\n",
      "Data columns (total 11 columns):\n",
      " #   Column           Non-Null Count  Dtype  \n",
      "---  ------           --------------  -----  \n",
      " 0   Address          25097 non-null  int64  \n",
      " 1   member           25097 non-null  int64  \n",
      " 2   income_pension   7387 non-null   object \n",
      " 3   income_rent      6002 non-null   object \n",
      " 4   income_interest  18122 non-null  float64\n",
      " 5   income_aid       18249 non-null  float64\n",
      " 6   income_resale    5579 non-null   float64\n",
      " 7   income_transfer  8478 non-null   float64\n",
      " 8   Fasl             25097 non-null  int64  \n",
      " 9   year             25097 non-null  int64  \n",
      " 10  DYCOL00          0 non-null      float64\n",
      "dtypes: float64(5), int64(4), object(2)\n",
      "memory usage: 2.1+ MB\n"
     ]
    }
   ],
   "source": [
    "DF_P4_S3.info()"
   ]
  },
  {
   "cell_type": "code",
   "execution_count": 427,
   "id": "19c36805-fc70-430f-b57b-c2b0af562ff7",
   "metadata": {},
   "outputs": [],
   "source": [
    "DF_P4_S3.drop(['DYCOL00'], axis = 1, inplace=True)"
   ]
  },
  {
   "cell_type": "markdown",
   "id": "87aeddf3-be15-4f6b-a1db-c6e82ecebb21",
   "metadata": {},
   "source": [
    "<p dir=rtl style=\"direction: rtl;text-align: justify;line-height:200%;font-family:vazir;font-size:medium\">\n",
    "<font face=\"vazir\" size=5 color= orange>\n",
    "ستون‌های income_pension , income_rent به float تغییر می‌دهیم."
   ]
  },
  {
   "cell_type": "code",
   "execution_count": 428,
   "id": "3121847a-c892-4a27-b907-191163ead932",
   "metadata": {},
   "outputs": [],
   "source": [
    "DF_P4_S3.income_pension = DF_P4_S3.income_pension.str.strip()\n",
    "DF_P4_S3.loc[DF_P4_S3.income_pension.isin(['']) , 'income_pension' ] = np.nan\n",
    "DF_P4_S3.income_pension = DF_P4_S3.income_pension.astype(pd.Float64Dtype())\n",
    "\n",
    "DF_P4_S3.income_rent = DF_P4_S3.income_rent.str.strip()\n",
    "DF_P4_S3.loc[DF_P4_S3.income_rent.isin(['']) , 'income_rent' ] = np.nan\n",
    "DF_P4_S3.income_rent = DF_P4_S3.income_rent.astype(pd.Float64Dtype())\n"
   ]
  },
  {
   "cell_type": "markdown",
   "id": "9c20da33-5f36-4540-8bfd-fcaf9e2550eb",
   "metadata": {},
   "source": [
    "<p dir=rtl style=\"direction: rtl;text-align: justify;line-height:200%;font-family:vazir;font-size:medium\">\n",
    "<font face=\"vazir\" size=5 color= orange>\n",
    "ستون‌های income جمع می‌شوند و در ستون جدیدی به نام Total_income ذخیره می‌شوند."
   ]
  },
  {
   "cell_type": "code",
   "execution_count": 429,
   "id": "00e71041-164c-48c0-94ba-040274b00084",
   "metadata": {},
   "outputs": [],
   "source": [
    "DF_P4_S3.insert(2,'Total_income', DF_P4_S3.loc[:,'income_pension':'income_transfer' ].sum(axis=1))\n",
    "del_columns = ['income_pension','income_rent', 'income_interest','income_aid','income_resale','income_transfer']\n",
    "DF_P4_S3.drop(del_columns,axis=1, inplace=True)"
   ]
  },
  {
   "cell_type": "code",
   "execution_count": 390,
   "id": "c9dafa18-d518-45e0-b933-8a0a126c3043",
   "metadata": {},
   "outputs": [
    {
     "data": {
      "text/plain": [
       "Address         0\n",
       "member          0\n",
       "Total_income    0\n",
       "Fasl            0\n",
       "year            0\n",
       "dtype: int64"
      ]
     },
     "execution_count": 390,
     "metadata": {},
     "output_type": "execute_result"
    }
   ],
   "source": [
    "DF_P4_S3.isna().sum()"
   ]
  },
  {
   "cell_type": "code",
   "execution_count": 391,
   "id": "cacca18b-e666-4594-9899-5f7e20e3c4aa",
   "metadata": {},
   "outputs": [],
   "source": [
    "path_file = 'R1400_P4_S03'\n",
    "DF_P4_S3.to_csv(path_file+'.csv', index=False)"
   ]
  },
  {
   "cell_type": "markdown",
   "id": "3d57a5ca-cb57-4601-90fe-f080bf12be4c",
   "metadata": {},
   "source": [
    "### P4_S04"
   ]
  },
  {
   "cell_type": "code",
   "execution_count": 392,
   "id": "2fcc93bd-6242-440d-8c98-1c40f08bb046",
   "metadata": {},
   "outputs": [
    {
     "data": {
      "text/html": [
       "<div>\n",
       "<style scoped>\n",
       "    .dataframe tbody tr th:only-of-type {\n",
       "        vertical-align: middle;\n",
       "    }\n",
       "\n",
       "    .dataframe tbody tr th {\n",
       "        vertical-align: top;\n",
       "    }\n",
       "\n",
       "    .dataframe thead th {\n",
       "        text-align: right;\n",
       "    }\n",
       "</style>\n",
       "<table border=\"1\" class=\"dataframe\">\n",
       "  <thead>\n",
       "    <tr style=\"text-align: right;\">\n",
       "      <th></th>\n",
       "      <th>Address</th>\n",
       "      <th>member</th>\n",
       "      <th>subsidy_number</th>\n",
       "      <th>subsidy_month</th>\n",
       "      <th>subsidy</th>\n",
       "      <th>Fasl</th>\n",
       "      <th>year</th>\n",
       "      <th>DYCOL00</th>\n",
       "    </tr>\n",
       "  </thead>\n",
       "  <tbody>\n",
       "    <tr>\n",
       "      <th>0</th>\n",
       "      <td>20001384225</td>\n",
       "      <td>1</td>\n",
       "      <td>1.0</td>\n",
       "      <td>12.0</td>\n",
       "      <td>1960000</td>\n",
       "      <td>1</td>\n",
       "      <td>1401</td>\n",
       "      <td>NaN</td>\n",
       "    </tr>\n",
       "    <tr>\n",
       "      <th>1</th>\n",
       "      <td>20001384225</td>\n",
       "      <td>2</td>\n",
       "      <td>2.0</td>\n",
       "      <td>12.0</td>\n",
       "      <td>10920000</td>\n",
       "      <td>1</td>\n",
       "      <td>1401</td>\n",
       "      <td>NaN</td>\n",
       "    </tr>\n",
       "    <tr>\n",
       "      <th>2</th>\n",
       "      <td>20001384232</td>\n",
       "      <td>1</td>\n",
       "      <td>1.0</td>\n",
       "      <td>12.0</td>\n",
       "      <td>1960000</td>\n",
       "      <td>1</td>\n",
       "      <td>1401</td>\n",
       "      <td>NaN</td>\n",
       "    </tr>\n",
       "    <tr>\n",
       "      <th>3</th>\n",
       "      <td>20001384232</td>\n",
       "      <td>2</td>\n",
       "      <td>2.0</td>\n",
       "      <td>12.0</td>\n",
       "      <td>10920000</td>\n",
       "      <td>1</td>\n",
       "      <td>1401</td>\n",
       "      <td>NaN</td>\n",
       "    </tr>\n",
       "    <tr>\n",
       "      <th>4</th>\n",
       "      <td>20001384235</td>\n",
       "      <td>1</td>\n",
       "      <td>1.0</td>\n",
       "      <td>12.0</td>\n",
       "      <td>1960000</td>\n",
       "      <td>1</td>\n",
       "      <td>1401</td>\n",
       "      <td>NaN</td>\n",
       "    </tr>\n",
       "  </tbody>\n",
       "</table>\n",
       "</div>"
      ],
      "text/plain": [
       "       Address  member  subsidy_number  subsidy_month   subsidy  Fasl  year  \\\n",
       "0  20001384225       1             1.0           12.0   1960000     1  1401   \n",
       "1  20001384225       2             2.0           12.0  10920000     1  1401   \n",
       "2  20001384232       1             1.0           12.0   1960000     1  1401   \n",
       "3  20001384232       2             2.0           12.0  10920000     1  1401   \n",
       "4  20001384235       1             1.0           12.0   1960000     1  1401   \n",
       "\n",
       "   DYCOL00  \n",
       "0      NaN  \n",
       "1      NaN  \n",
       "2      NaN  \n",
       "3      NaN  \n",
       "4      NaN  "
      ]
     },
     "execution_count": 392,
     "metadata": {},
     "output_type": "execute_result"
    }
   ],
   "source": [
    "DF_P4_S4 = pd.read_csv('R1400P4S04.csv')\n",
    "DF_P4_S4.head()"
   ]
  },
  {
   "cell_type": "code",
   "execution_count": 393,
   "id": "5032ab69-776b-4f46-aa39-e83394891381",
   "metadata": {},
   "outputs": [],
   "source": [
    "DF_P4_S4.drop(['DYCOL00'], axis = 1, inplace=True)"
   ]
  },
  {
   "cell_type": "code",
   "execution_count": 394,
   "id": "70d7ddfe-1b5f-43ce-9a28-2537801b188c",
   "metadata": {},
   "outputs": [
    {
     "data": {
      "text/plain": [
       "Address           0\n",
       "member            0\n",
       "subsidy_number    4\n",
       "subsidy_month     1\n",
       "subsidy           0\n",
       "Fasl              0\n",
       "year              0\n",
       "dtype: int64"
      ]
     },
     "execution_count": 394,
     "metadata": {},
     "output_type": "execute_result"
    }
   ],
   "source": [
    "DF_P4_S4.isna().sum()"
   ]
  },
  {
   "cell_type": "code",
   "execution_count": 395,
   "id": "37484672-f395-4986-ae4d-b7720c53ebcf",
   "metadata": {},
   "outputs": [],
   "source": [
    "DF_P4_S4.dropna(inplace=True)"
   ]
  },
  {
   "cell_type": "code",
   "execution_count": 396,
   "id": "65f7636a-b848-4a10-9a36-9104a5182d1f",
   "metadata": {},
   "outputs": [
    {
     "data": {
      "text/plain": [
       "Address           0\n",
       "member            0\n",
       "subsidy_number    0\n",
       "subsidy_month     0\n",
       "subsidy           0\n",
       "Fasl              0\n",
       "year              0\n",
       "dtype: int64"
      ]
     },
     "execution_count": 396,
     "metadata": {},
     "output_type": "execute_result"
    }
   ],
   "source": [
    "DF_P4_S4.isna().sum()"
   ]
  },
  {
   "cell_type": "code",
   "execution_count": 397,
   "id": "24c0ca8f-8dd6-4608-9a3c-bca610e22090",
   "metadata": {},
   "outputs": [],
   "source": [
    "path_file = 'R1400_P4_S04'\n",
    "DF_P4_S4.to_csv(path_file+'.csv', index=False)"
   ]
  },
  {
   "cell_type": "code",
   "execution_count": null,
   "id": "ec97ff3e-5d68-46bb-acdc-fb6da8ae244d",
   "metadata": {},
   "outputs": [],
   "source": []
  },
  {
   "cell_type": "code",
   "execution_count": null,
   "id": "dfb7dacb-d752-4937-82aa-15a2b20dc582",
   "metadata": {},
   "outputs": [],
   "source": []
  }
 ],
 "metadata": {
  "kernelspec": {
   "display_name": "Python 3 (ipykernel)",
   "language": "python",
   "name": "python3"
  },
  "language_info": {
   "codemirror_mode": {
    "name": "ipython",
    "version": 3
   },
   "file_extension": ".py",
   "mimetype": "text/x-python",
   "name": "python",
   "nbconvert_exporter": "python",
   "pygments_lexer": "ipython3",
   "version": "3.11.7"
  }
 },
 "nbformat": 4,
 "nbformat_minor": 5
}
