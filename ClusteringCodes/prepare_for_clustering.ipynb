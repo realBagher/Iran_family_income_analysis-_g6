{
 "cells": [
  {
   "cell_type": "markdown",
   "source": [
    "**for creating cost and income dfs**"
   ],
   "metadata": {
    "collapsed": false
   }
  },
  {
   "cell_type": "code",
   "execution_count": 83,
   "metadata": {
    "collapsed": true,
    "ExecuteTime": {
     "end_time": "2024-06-08T23:18:44.973868800Z",
     "start_time": "2024-06-08T23:18:38.281997800Z"
    }
   },
   "outputs": [
    {
     "name": "stderr",
     "output_type": "stream",
     "text": [
      "C:\\Users\\theki\\AppData\\Local\\Temp\\ipykernel_15732\\12914023.py:16: FutureWarning: The behavior of DataFrame concatenation with empty or all-NA entries is deprecated. In a future version, this will no longer exclude empty or all-NA columns when determining the result dtypes. To retain the old behavior, exclude the relevant entries before the concat operation.\n",
      "  result = pd.concat(df_lst, ignore_index=True)\n",
      "C:\\Users\\theki\\AppData\\Local\\Temp\\ipykernel_15732\\12914023.py:16: FutureWarning: The behavior of DataFrame concatenation with empty or all-NA entries is deprecated. In a future version, this will no longer exclude empty or all-NA columns when determining the result dtypes. To retain the old behavior, exclude the relevant entries before the concat operation.\n",
      "  result = pd.concat(df_lst, ignore_index=True)\n",
      "C:\\Users\\theki\\AppData\\Local\\Temp\\ipykernel_15732\\12914023.py:16: FutureWarning: The behavior of DataFrame concatenation with empty or all-NA entries is deprecated. In a future version, this will no longer exclude empty or all-NA columns when determining the result dtypes. To retain the old behavior, exclude the relevant entries before the concat operation.\n",
      "  result = pd.concat(df_lst, ignore_index=True)\n",
      "C:\\Users\\theki\\AppData\\Local\\Temp\\ipykernel_15732\\12914023.py:16: FutureWarning: The behavior of DataFrame concatenation with empty or all-NA entries is deprecated. In a future version, this will no longer exclude empty or all-NA columns when determining the result dtypes. To retain the old behavior, exclude the relevant entries before the concat operation.\n",
      "  result = pd.concat(df_lst, ignore_index=True)\n",
      "C:\\Users\\theki\\AppData\\Local\\Temp\\ipykernel_15732\\12914023.py:16: FutureWarning: The behavior of DataFrame concatenation with empty or all-NA entries is deprecated. In a future version, this will no longer exclude empty or all-NA columns when determining the result dtypes. To retain the old behavior, exclude the relevant entries before the concat operation.\n",
      "  result = pd.concat(df_lst, ignore_index=True)\n",
      "C:\\Users\\theki\\AppData\\Local\\Temp\\ipykernel_15732\\12914023.py:16: FutureWarning: The behavior of DataFrame concatenation with empty or all-NA entries is deprecated. In a future version, this will no longer exclude empty or all-NA columns when determining the result dtypes. To retain the old behavior, exclude the relevant entries before the concat operation.\n",
      "  result = pd.concat(df_lst, ignore_index=True)\n",
      "C:\\Users\\theki\\AppData\\Local\\Temp\\ipykernel_15732\\12914023.py:16: FutureWarning: The behavior of DataFrame concatenation with empty or all-NA entries is deprecated. In a future version, this will no longer exclude empty or all-NA columns when determining the result dtypes. To retain the old behavior, exclude the relevant entries before the concat operation.\n",
      "  result = pd.concat(df_lst, ignore_index=True)\n",
      "C:\\Users\\theki\\AppData\\Local\\Temp\\ipykernel_15732\\12914023.py:16: FutureWarning: The behavior of DataFrame concatenation with empty or all-NA entries is deprecated. In a future version, this will no longer exclude empty or all-NA columns when determining the result dtypes. To retain the old behavior, exclude the relevant entries before the concat operation.\n",
      "  result = pd.concat(df_lst, ignore_index=True)\n"
     ]
    }
   ],
   "source": [
    "import os\n",
    "import pandas as pd\n",
    "dirs = ['R1398','R1399','R1400','R1401','U1398','U1399','U1400','U1401']\n",
    "# dirs = ['R1398']\n",
    "\n",
    "for dir in dirs:\n",
    "    df_lst = []\n",
    "\n",
    "    for file in os.listdir(f'{dir}'):\n",
    "        if file.endswith('.csv') and 'p3' in file.lower():\n",
    "            df=pd.read_csv(f'{dir}/{file}')\n",
    "            # print(file)\n",
    "            df=df[['Address','value']]\n",
    "            sum+=len(df.index)\n",
    "            df_lst.append(df)\n",
    "    result = pd.concat(df_lst, ignore_index=True)\n",
    "    result=result.groupby('Address').agg(total_cost=('value', 'sum')).reset_index()\n",
    "    # os.mkdir(f'{dir}/cost')\n",
    "    result.to_csv(f'{dir}/{dir}_cost.csv')\n",
    "\n",
    "# --------------------------------------------------------------------------------------------------------\n",
    "\n",
    "for dir in dirs:\n",
    "    df_lst = []\n",
    "\n",
    "    for file in os.listdir(f'{dir}'):\n",
    "        if file.endswith('.csv') and 'p4' in file.lower():\n",
    "            df=pd.read_csv(f'{dir}/{file}')\n",
    "            # print(file)\n",
    "            if 'net_income_w_y' in df.columns:\n",
    "                df=df[['Address','net_income_w_y']].rename({'net_income_w_y':'value'},axis=1)\n",
    "            elif 'income_s_y' in df.columns:\n",
    "                df=df[['Address','income_s_y']].rename({'income_s_y':'value'},axis=1)\n",
    "            elif 'Total_income' in df.columns:\n",
    "                df=df[['Address','Total_income']].rename({'Total_income':'value'},axis=1)\n",
    "            elif 'subsidy' in df.columns:\n",
    "                df=df[['Address','subsidy']].rename({'subsidy':'value'},axis=1)\n",
    "\n",
    "            df_lst.append(df)\n",
    "    result = pd.concat(df_lst, ignore_index=True)\n",
    "    result=result.groupby('Address').agg(total_income=('value', 'sum')).reset_index()\n",
    "    # os.mkdir(f'{dir}/income')\n",
    "    result.to_csv(f'{dir}/{dir}_income.csv',index=False)\n",
    "\n"
   ]
  },
  {
   "cell_type": "markdown",
   "source": [
    "**add 5 dfs for creating clustering total df**"
   ],
   "metadata": {
    "collapsed": false
   }
  },
  {
   "cell_type": "code",
   "execution_count": 91,
   "outputs": [
    {
     "name": "stdout",
     "output_type": "stream",
     "text": [
      "18430\n",
      "18430\n",
      "18430\n",
      "18430\n",
      "18429\n",
      "***************\n",
      "**************\n",
      "Empty DataFrame\n",
      "Columns: [Address, member, Male_count, Female_count, age, literacy, studying, degree, occupationalst, maritalst, province, town, tenure, room, space, construction, material, vehicle, motorcycle, cookingfuel, heatingfuel, waterheatingfuel, facilities, total_cost, total_income]\n",
      "Index: []\n",
      "\n",
      "[0 rows x 25 columns]\n",
      "18251\n",
      "18251\n",
      "18251\n",
      "18251\n",
      "18250\n",
      "***************\n",
      "**************\n",
      "Empty DataFrame\n",
      "Columns: [Address, member, Male_count, Female_count, age, literacy, studying, degree, occupationalst, maritalst, province, town, tenure, room, space, construction, material, vehicle, motorcycle, cookingfuel, heatingfuel, waterheatingfuel, facilities, total_cost, total_income]\n",
      "Index: []\n",
      "\n",
      "[0 rows x 25 columns]\n",
      "18370\n",
      "18370\n",
      "18370\n",
      "18370\n",
      "18366\n",
      "***************\n",
      "**************\n",
      "Empty DataFrame\n",
      "Columns: [Address, member, Male_count, Female_count, age, literacy, studying, degree, occupationalst, maritalst, province, town, tenure, room, space, construction, material, vehicle, motorcycle, cookingfuel, heatingfuel, waterheatingfuel, facilities, total_cost, total_income]\n",
      "Index: []\n",
      "\n",
      "[0 rows x 25 columns]\n",
      "18384\n",
      "18384\n",
      "18384\n",
      "18384\n",
      "18380\n",
      "***************\n",
      "**************\n",
      "Empty DataFrame\n",
      "Columns: [Address, member, Male_count, Female_count, age, literacy, studying, degree, occupationalst, maritalst, province, town, tenure, room, space, construction, material, vehicle, motorcycle, cookingfuel, heatingfuel, waterheatingfuel, facilities, total_cost, total_income]\n",
      "Index: []\n",
      "\n",
      "[0 rows x 25 columns]\n",
      "19898\n",
      "19898\n",
      "19898\n",
      "19898\n",
      "19893\n",
      "***************\n",
      "**************\n",
      "Empty DataFrame\n",
      "Columns: [Address, member, Male_count, Female_count, age, literacy, studying, degree, occupationalst, maritalst, province, town, tenure, room, space, construction, material, vehicle, motorcycle, cookingfuel, heatingfuel, waterheatingfuel, facilities, total_cost, total_income]\n",
      "Index: []\n",
      "\n",
      "[0 rows x 25 columns]\n",
      "19306\n",
      "19306\n",
      "19306\n",
      "19306\n",
      "19302\n",
      "***************\n",
      "**************\n",
      "Empty DataFrame\n",
      "Columns: [Address, member, Male_count, Female_count, age, literacy, studying, degree, occupationalst, maritalst, province, town, tenure, room, space, construction, material, vehicle, motorcycle, cookingfuel, heatingfuel, waterheatingfuel, facilities, total_cost, total_income]\n",
      "Index: []\n",
      "\n",
      "[0 rows x 25 columns]\n",
      "19618\n",
      "19618\n",
      "19618\n",
      "19618\n",
      "19612\n",
      "***************\n",
      "**************\n",
      "Empty DataFrame\n",
      "Columns: [Address, member, Male_count, Female_count, age, literacy, studying, degree, occupationalst, maritalst, province, town, tenure, room, space, construction, material, vehicle, motorcycle, cookingfuel, heatingfuel, waterheatingfuel, facilities, total_cost, total_income]\n",
      "Index: []\n",
      "\n",
      "[0 rows x 25 columns]\n",
      "19567\n",
      "19567\n",
      "19567\n",
      "19567\n",
      "19557\n",
      "***************\n",
      "**************\n",
      "Empty DataFrame\n",
      "Columns: [Address, member, Male_count, Female_count, age, literacy, studying, degree, occupationalst, maritalst, province, town, tenure, room, space, construction, material, vehicle, motorcycle, cookingfuel, heatingfuel, waterheatingfuel, facilities, total_cost, total_income]\n",
      "Index: []\n",
      "\n",
      "[0 rows x 25 columns]\n"
     ]
    }
   ],
   "source": [
    "import os\n",
    "import pandas as pd\n",
    "dirs = ['R1398','R1399','R1400','R1401','U1398','U1399','U1400','U1401']\n",
    "# dirs = ['R1398']\n",
    "\n",
    "for dir in dirs:\n",
    "    p1=pd.read_csv(f'{dir}/clus_data/{dir}P1.csv')\n",
    "    print(len(p1.index))\n",
    "    data=pd.read_csv(f'{dir}/clus_data/{dir}Data.csv')\n",
    "    print(len(data.index))\n",
    "    p2=pd.read_csv(f'{dir}/clus_data/{dir}P2.csv')\n",
    "    print(len(p2.index))\n",
    "    cost=pd.read_csv(f'{dir}/clus_data/{dir}_cost.csv').drop('Unnamed: 0',axis=1)\n",
    "    print(len(cost.index))\n",
    "    income=pd.read_csv(f'{dir}/clus_data/{dir}_income.csv')\n",
    "    print(len(income.index))\n",
    "    df=pd.merge(p1, data)\n",
    "    df=pd.merge(df, p2)\n",
    "    df=pd.merge(df, cost)\n",
    "    df=pd.merge(df, income,how='left')\n",
    "    print(\"***************\")\n",
    "    # print(len(df.index))\n",
    "    df=df.fillna(0)\n",
    "    print(\"**************\")\n",
    "    print(df[df.isnull().any(axis=1)])\n",
    "    df.to_csv(f'{dir}/clus_data/{dir}_total.csv',index=False)\n",
    "\n",
    "\n"
   ],
   "metadata": {
    "collapsed": false,
    "ExecuteTime": {
     "end_time": "2024-06-08T23:40:29.989160100Z",
     "start_time": "2024-06-08T23:40:27.195766400Z"
    }
   }
  }
 ],
 "metadata": {
  "kernelspec": {
   "display_name": "Python 3",
   "language": "python",
   "name": "python3"
  },
  "language_info": {
   "codemirror_mode": {
    "name": "ipython",
    "version": 2
   },
   "file_extension": ".py",
   "mimetype": "text/x-python",
   "name": "python",
   "nbconvert_exporter": "python",
   "pygments_lexer": "ipython2",
   "version": "2.7.6"
  }
 },
 "nbformat": 4,
 "nbformat_minor": 0
}
